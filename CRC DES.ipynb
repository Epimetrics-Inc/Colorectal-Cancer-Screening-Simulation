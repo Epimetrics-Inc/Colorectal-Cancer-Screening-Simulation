{
 "cells": [
  {
   "cell_type": "code",
   "execution_count": 1,
   "metadata": {},
   "outputs": [
    {
     "name": "stdout",
     "output_type": "stream",
     "text": [
      "Populating the interactive namespace from numpy and matplotlib\n"
     ]
    }
   ],
   "source": [
    "%pylab inline"
   ]
  },
  {
   "cell_type": "code",
   "execution_count": 2,
   "metadata": {},
   "outputs": [],
   "source": [
    "from collections import Generator\n",
    "from enum import Enum, auto\n",
    "import pandas as pd\n",
    "import seaborn as sns"
   ]
  },
  {
   "cell_type": "markdown",
   "metadata": {},
   "source": [
    "## Simulation States"
   ]
  },
  {
   "cell_type": "code",
   "execution_count": 3,
   "metadata": {},
   "outputs": [],
   "source": [
    "class HealthState(Enum):\n",
    "    NORMAL = 1\n",
    "    LOW_RISK_POLYP = 2\n",
    "    HIGH_RISK_POLYP = 3\n",
    "    ADENOMA = 4\n",
    "    CRC_STAGE1 = 5\n",
    "    CRC_STAGE2 = 6\n",
    "    CRC_STAGE3 = 7\n",
    "    CRC_STAGE4 = 8\n",
    "    DEATH_OTHER_CAUSES = 9\n",
    "    DEATH_CRC = 10\n",
    "    DEATH_FROM_SCREENING = 11\n",
    "    TREATED_CRCSTAGE1 = 12\n",
    "    TREATED_CRCSTAGE2 = 13\n",
    "    TREATED_CRCSTAGE3 = 14\n",
    "    TREATED_CRCSTAGE4 = 15\n",
    "\n",
    "\n",
    "class Sex(Enum):\n",
    "    MALE = 1\n",
    "    FEMALE = 2\n",
    "\n",
    "\n",
    "class Procedure(Enum):\n",
    "    GFOBT = 1\n",
    "    FIT = 2\n",
    "    FIT_FS = 3\n",
    "    COLONOSCOPY = 4\n",
    "    POLYPECTOMY = 5\n",
    "    BIOPSY = 6\n",
    "    ADENOMA_REMOVAL = 7\n",
    "    CRC_TREATMENT1 = 8\n",
    "    CRC_TREATMENT2 = 9\n",
    "    CRC_TREATMENT3 = 10\n",
    "    CRC_TREATMENT4 = 11\n"
   ]
  },
  {
   "cell_type": "markdown",
   "metadata": {},
   "source": [
    "## Parameters"
   ]
  },
  {
   "cell_type": "code",
   "execution_count": 4,
   "metadata": {},
   "outputs": [],
   "source": [
    "health_prevalence_rate = {\n",
    "    HealthState.NORMAL: 0.699,\n",
    "    HealthState.LOW_RISK_POLYP: 0.1216,\n",
    "    HealthState.HIGH_RISK_POLYP: 0.0749,\n",
    "    HealthState.ADENOMA: 0.079,\n",
    "    HealthState.CRC_STAGE1: 0.015,\n",
    "    HealthState.CRC_STAGE2: 0.0105\n",
    "}\n"
   ]
  },
  {
   "cell_type": "code",
   "execution_count": 5,
   "metadata": {},
   "outputs": [],
   "source": [
    "age_mortality_rate = {\n",
    "    Sex.MALE: {\n",
    "        54: 0.0076,\n",
    "        59: 0.0089,\n",
    "        64: 0.0102,\n",
    "        69: 0.0106,\n",
    "    },\n",
    "    Sex.FEMALE: {\n",
    "        54: 0.0054,\n",
    "        59: 0.0065,\n",
    "        64: 0.0077,\n",
    "        69: 0.0089,\n",
    "    }\n",
    "}\n"
   ]
  },
  {
   "cell_type": "code",
   "execution_count": 6,
   "metadata": {},
   "outputs": [],
   "source": [
    "health_state_transition_rate = {\n",
    "    HealthState.NORMAL: {\n",
    "        HealthState.ADENOMA: 0.013,\n",
    "        HealthState.LOW_RISK_POLYP: 0.016,\n",
    "        HealthState.NORMAL: 0.971\n",
    "    },\n",
    "    HealthState.LOW_RISK_POLYP: {\n",
    "        HealthState.HIGH_RISK_POLYP: 0.02,\n",
    "        HealthState.ADENOMA: 0.05,\n",
    "        HealthState.LOW_RISK_POLYP: 0.93,\n",
    "    },\n",
    "    HealthState.HIGH_RISK_POLYP: {\n",
    "        HealthState.CRC_STAGE1: 0.0326,\n",
    "        HealthState.CRC_STAGE2: 0.0174,\n",
    "        HealthState.HIGH_RISK_POLYP: 0.95,\n",
    "    },\n",
    "    HealthState.ADENOMA: {\n",
    "        HealthState.CRC_STAGE1: 0.016,\n",
    "        HealthState.CRC_STAGE2: 0.016,\n",
    "        HealthState.ADENOMA: 0.968\n",
    "    },\n",
    "    HealthState.CRC_STAGE1: {\n",
    "        HealthState.CRC_STAGE1: 0.7,\n",
    "        HealthState.CRC_STAGE2: 0.3,\n",
    "    },\n",
    "    HealthState.CRC_STAGE2: {\n",
    "        HealthState.DEATH_CRC: 0.01,\n",
    "        HealthState.CRC_STAGE2: 0.69,\n",
    "        HealthState.CRC_STAGE3: 0.3,\n",
    "    },\n",
    "    HealthState.CRC_STAGE3: {\n",
    "        HealthState.DEATH_CRC: 0.06,\n",
    "        HealthState.CRC_STAGE3: 0.375,\n",
    "        HealthState.CRC_STAGE4: 0.565,\n",
    "    },\n",
    "    HealthState.CRC_STAGE4: {\n",
    "        HealthState.DEATH_CRC: 0.387,\n",
    "        HealthState.CRC_STAGE4: 0.613,\n",
    "    },\n",
    "    # Treated CRC Mortality Rate\n",
    "    HealthState.TREATED_CRCSTAGE1: {\n",
    "        HealthState.TREATED_CRCSTAGE1: 1,\n",
    "    },\n",
    "    HealthState.TREATED_CRCSTAGE2: {\n",
    "        HealthState.DEATH_CRC: 0.005,\n",
    "        HealthState.TREATED_CRCSTAGE2: 0.995,\n",
    "    },\n",
    "    HealthState.TREATED_CRCSTAGE3: {\n",
    "        HealthState.DEATH_CRC: 0.03,\n",
    "        HealthState.TREATED_CRCSTAGE3: 0.97,\n",
    "    },\n",
    "    HealthState.TREATED_CRCSTAGE4: {\n",
    "        HealthState.DEATH_CRC: 0.193,\n",
    "        HealthState.TREATED_CRCSTAGE4: 0.807\n",
    "    },\n",
    "}\n"
   ]
  },
  {
   "cell_type": "code",
   "execution_count": 7,
   "metadata": {},
   "outputs": [],
   "source": [
    "symptomatic_crc_detection_rate = {\n",
    "    HealthState.CRC_STAGE1: 0.2,\n",
    "    HealthState.CRC_STAGE2: 0.2,\n",
    "    HealthState.CRC_STAGE3: 0.65,\n",
    "    HealthState.CRC_STAGE4: 1\n",
    "}\n"
   ]
  },
  {
   "cell_type": "code",
   "execution_count": 8,
   "metadata": {},
   "outputs": [],
   "source": [
    "treatment_survival_rate = {\n",
    "    HealthState.CRC_STAGE1: 1,\n",
    "    HealthState.CRC_STAGE2: 0.995,\n",
    "    HealthState.CRC_STAGE3: 0.97,\n",
    "    HealthState.CRC_STAGE4: 0.387,\n",
    "}\n"
   ]
  },
  {
   "cell_type": "code",
   "execution_count": 9,
   "metadata": {},
   "outputs": [],
   "source": [
    "utilities = {\n",
    "    HealthState.NORMAL: 1,\n",
    "    HealthState.LOW_RISK_POLYP: 0.871,\n",
    "    HealthState.HIGH_RISK_POLYP: 0.827,\n",
    "    HealthState.ADENOMA: 1,\n",
    "    HealthState.CRC_STAGE1: 0.8295,\n",
    "    HealthState.CRC_STAGE2: 0.859,\n",
    "    HealthState.CRC_STAGE3: 0.8155,\n",
    "    HealthState.CRC_STAGE4: 0.735,\n",
    "    HealthState.TREATED_CRCSTAGE1: 0.8295,\n",
    "    HealthState.TREATED_CRCSTAGE2: 0.859,\n",
    "    HealthState.TREATED_CRCSTAGE3: 0.8155,\n",
    "    HealthState.TREATED_CRCSTAGE4: 0.735,\n",
    "    HealthState.DEATH_OTHER_CAUSES: 0,\n",
    "    HealthState.DEATH_CRC: 0,\n",
    "    HealthState.DEATH_FROM_SCREENING: 0\n",
    "}\n",
    "\n",
    "procedure_costs = {\n",
    "    Procedure.GFOBT: 190.8731,\n",
    "    Procedure.FIT: 404.5658,\n",
    "    Procedure.FIT_FS: 4432.0871,\n",
    "    Procedure.COLONOSCOPY: 5366.965,\n",
    "    Procedure.POLYPECTOMY: 6311.9301,\n",
    "    Procedure.BIOPSY: 3450,\n",
    "    Procedure.ADENOMA_REMOVAL: 0,\n",
    "    Procedure.CRC_TREATMENT1: 150000,\n",
    "    Procedure.CRC_TREATMENT2: 283333.3333,\n",
    "    Procedure.CRC_TREATMENT3: 350000,\n",
    "    Procedure.CRC_TREATMENT4: 0,\n",
    "}"
   ]
  },
  {
   "cell_type": "code",
   "execution_count": 10,
   "metadata": {},
   "outputs": [],
   "source": [
    "colonoscopy_positive_detection_rate = {\n",
    "    HealthState.NORMAL: 0,\n",
    "    HealthState.LOW_RISK_POLYP: 0.5,\n",
    "    HealthState.HIGH_RISK_POLYP: 0.5,\n",
    "    HealthState.ADENOMA: 0.87,\n",
    "    HealthState.CRC_STAGE1: 0.999,\n",
    "    HealthState.CRC_STAGE2: 0.999,\n",
    "    HealthState.CRC_STAGE3: 0.999,\n",
    "    HealthState.CRC_STAGE4: 0.999\n",
    "}\n",
    "\n",
    "# Derived from Speci/Sensi/Prevalence using http://vassarstats.net/clin2.html\n",
    "screening_modalities_positive_detection_rate = {\n",
    "    Procedure.GFOBT: {\n",
    "        HealthState.NORMAL: 0.8784,\n",
    "        HealthState.LOW_RISK_POLYP: 0.9,\n",
    "        HealthState.HIGH_RISK_POLYP: 0.9,\n",
    "        HealthState.ADENOMA: 0.583,\n",
    "        HealthState.CRC_STAGE1: 0.8305,\n",
    "        HealthState.CRC_STAGE2: 0.8305,\n",
    "        HealthState.CRC_STAGE3: 0.8305,\n",
    "        HealthState.CRC_STAGE4: 0.8305\n",
    "    },\n",
    "    Procedure.FIT: {\n",
    "        HealthState.NORMAL: 0.4608,\n",
    "        HealthState.LOW_RISK_POLYP: 0.9,\n",
    "        HealthState.HIGH_RISK_POLYP: 0.9,\n",
    "        HealthState.ADENOMA: 0.795,\n",
    "        HealthState.CRC_STAGE1: 0.9,\n",
    "        HealthState.CRC_STAGE2: 0.9,\n",
    "        HealthState.CRC_STAGE3: 0.9,\n",
    "        HealthState.CRC_STAGE4: 0.9\n",
    "    },\n",
    "    Procedure.FIT_FS: {\n",
    "        HealthState.NORMAL: 0.01,\n",
    "        HealthState.LOW_RISK_POLYP: 0.99,\n",
    "        HealthState.HIGH_RISK_POLYP: 0.99,\n",
    "        HealthState.ADENOMA: 0.795,\n",
    "        HealthState.CRC_STAGE1: 0.995,\n",
    "        HealthState.CRC_STAGE2: 0.995,\n",
    "        HealthState.CRC_STAGE3: 0.995,\n",
    "        HealthState.CRC_STAGE4: 0.995\n",
    "    }\n",
    "}\n",
    "\n",
    "colonoscopy_mortality_rate = 0.001296 * 0.1 + 0.003037 * 0.007453\n",
    "adenoma_removal_success_rate = 0.6\n",
    "qaly_discounting = 0.03\n",
    "cost_discounting = 0.03"
   ]
  },
  {
   "cell_type": "markdown",
   "metadata": {},
   "source": [
    "## Simulation Classes and Functions"
   ]
  },
  {
   "cell_type": "code",
   "execution_count": 11,
   "metadata": {},
   "outputs": [],
   "source": [
    "class RandomCVGenerator(Generator):\n",
    "    def __init__(self, seed=427):\n",
    "        self.seed_genX = np.random.RandomState(seed)\n",
    "\n",
    "    def send(self, stub):\n",
    "        randomX = self.seed_genX.rand()\n",
    "        return randomX\n",
    "\n",
    "    def throw(self, type=None, value=None, traceback=None):\n",
    "        raise StopIteration\n"
   ]
  },
  {
   "cell_type": "code",
   "execution_count": 12,
   "metadata": {},
   "outputs": [],
   "source": [
    "def dict_to_cumulative(d):\n",
    "    res = {}\n",
    "    for k, v in d.items():\n",
    "        res[v] = k\n",
    "    return res\n"
   ]
  },
  {
   "cell_type": "code",
   "execution_count": 13,
   "metadata": {},
   "outputs": [],
   "source": [
    "to_treated = {\n",
    "    HealthState.CRC_STAGE1: HealthState.TREATED_CRCSTAGE1,\n",
    "    HealthState.CRC_STAGE2: HealthState.TREATED_CRCSTAGE2,\n",
    "    HealthState.CRC_STAGE3: HealthState.TREATED_CRCSTAGE3,\n",
    "    HealthState.CRC_STAGE4: HealthState.TREATED_CRCSTAGE4\n",
    "}\n",
    "\n",
    "to_treatment = {\n",
    "    HealthState.CRC_STAGE1: Procedure.CRC_TREATMENT1,\n",
    "    HealthState.CRC_STAGE2: Procedure.CRC_TREATMENT2,\n",
    "    HealthState.CRC_STAGE3: Procedure.CRC_TREATMENT3,\n",
    "    HealthState.CRC_STAGE4: Procedure.CRC_TREATMENT4\n",
    "}\n"
   ]
  },
  {
   "cell_type": "code",
   "execution_count": 14,
   "metadata": {},
   "outputs": [],
   "source": [
    "class Individual(object):\n",
    "    def __init__(self, state_prob, sex_prob, init_states_prob={}):\n",
    "        self.state = self.init_health_state(state_prob, init_states_prob)\n",
    "        self.age = 50\n",
    "        self.procedures = np.array([])\n",
    "        self.previous_states = np.array([])\n",
    "        self.sex = Sex.MALE if sex_prob < 0.5 else Sex.FEMALE\n",
    "        self.qalys = 0\n",
    "        self.costs = 0\n",
    "        self.years_til_colonoscopy = 0\n",
    "        self.get_FOBT = True\n",
    "        \n",
    "        if self.state is None:\n",
    "            raise Exception('No State!')\n",
    "\n",
    "    def init_health_state(self, state_prob, states):\n",
    "        if states == {}:\n",
    "            states = {\n",
    "                HealthState.NORMAL: 0.699,\n",
    "                HealthState.LOW_RISK_POLYP: 0.1216,\n",
    "                HealthState.HIGH_RISK_POLYP: 0.0749,\n",
    "                HealthState.ADENOMA: 0.079,\n",
    "                HealthState.CRC_STAGE1: 0.02,\n",
    "                HealthState.CRC_STAGE2: 0.0055\n",
    "            }\n",
    "\n",
    "        # We just transpose the health states and probs\n",
    "        # to compare with the random number generated\n",
    "        states_conv = dict_to_cumulative(states)\n",
    "        prev_k = 0\n",
    "        sum_k = 0\n",
    "        for k, v in states_conv.items():\n",
    "            sum_k += k\n",
    "            if prev_k <= state_prob < sum_k:\n",
    "                return v\n",
    "            prev_k += k\n",
    "\n",
    "    @property\n",
    "    def is_dead(self):\n",
    "        if self.state == HealthState.DEATH_CRC or \\\n",
    "                self.state == HealthState.DEATH_FROM_SCREENING or \\\n",
    "                self.state == HealthState.DEATH_OTHER_CAUSES:\n",
    "            return True\n",
    "        else:\n",
    "            return False\n",
    "\n",
    "    @property\n",
    "    def is_treated(self):\n",
    "        if self.state == HealthState.TREATED_CRCSTAGE1 or \\\n",
    "                self.state == HealthState.TREATED_CRCSTAGE2 or \\\n",
    "                self.state == HealthState.TREATED_CRCSTAGE3 or \\\n",
    "                self.state == HealthState.TREATED_CRCSTAGE4:\n",
    "            return True\n",
    "        else:\n",
    "            return False\n",
    "        \n",
    "    @property\n",
    "    def has_cancer(self):\n",
    "        if self.state == HealthState.CRC_STAGE1 or \\\n",
    "                self.state == HealthState.CRC_STAGE2 or \\\n",
    "                self.state == HealthState.CRC_STAGE3 or \\\n",
    "                self.state == HealthState.CRC_STAGE4:\n",
    "            return True\n",
    "        else:\n",
    "            return False\n",
    "\n",
    "    def __str__(self):\n",
    "        return f'{self.age}: {self.state}'\n",
    "\n",
    "    def __repr__(self):\n",
    "        return self.__str__()\n"
   ]
  },
  {
   "cell_type": "markdown",
   "metadata": {},
   "source": [
    "## Screening Strategies"
   ]
  },
  {
   "cell_type": "code",
   "execution_count": 15,
   "metadata": {},
   "outputs": [],
   "source": [
    "def compute_other_mortality(individual):\n",
    "    sex_mortality = age_mortality_rate[individual.sex]\n",
    "    for k, v in sex_mortality.items():\n",
    "        if individual.age > k:\n",
    "            continue\n",
    "        else:\n",
    "            return v\n",
    "    return\n"
   ]
  },
  {
   "cell_type": "code",
   "execution_count": 16,
   "metadata": {},
   "outputs": [],
   "source": [
    "def no_screening(individual, num_gen):\n",
    "    # Check dead\n",
    "    if individual.is_dead:\n",
    "        return None\n",
    "    \n",
    "    # Record Previous State\n",
    "    individual.previous_states = np.append(\n",
    "        individual.previous_states, individual.state)\n",
    "\n",
    "    # Rates\n",
    "    symptom_rate = symptomatic_crc_detection_rate.get(individual.state)\n",
    "    asm_rate = compute_other_mortality(individual)\n",
    "\n",
    "    # Symptomatic Representation\n",
    "    if symptom_rate is not None and symptom_rate <= next(num_gen) and not individual.is_treated:\n",
    "        treatment_survival_prob = next(num_gen)\n",
    "        if treatment_survival_prob <= treatment_survival_rate[individual.state]:\n",
    "            # Get the procedure for treatment\n",
    "            proc = to_treatment[individual.state]\n",
    "            individual.procedures = np.append(\n",
    "                individual.procedures, proc)\n",
    "            individual.costs += procedure_costs[proc] / ((1 + cost_discounting) ** (individual.age - (individual.age - 1)))\n",
    "            # Convert to treated\n",
    "            individual.state = to_treated[individual.state]\n",
    "        else:\n",
    "            # Copy paste sadness\n",
    "            ht_rate = health_state_transition_rate[individual.state]\n",
    "            # We just transpose the health states and probs\n",
    "            # to compare with the random number generated\n",
    "            states_conv = dict_to_cumulative(ht_rate)\n",
    "            prev_k = 0\n",
    "            sum_k = 0\n",
    "            htr_prob = next(num_gen)\n",
    "            for k, v in states_conv.items():\n",
    "                sum_k += k\n",
    "                if prev_k <= htr_prob < sum_k:\n",
    "                    individual.state = v\n",
    "                prev_k += k\n",
    "\n",
    "    # Natural Health Transition\n",
    "    elif next(num_gen) > asm_rate:\n",
    "        ht_rate = health_state_transition_rate[individual.state]\n",
    "        # We just transpose the health states and probs\n",
    "        # to compare with the random number generated\n",
    "        states_conv = dict_to_cumulative(ht_rate)\n",
    "        prev_k = 0\n",
    "        sum_k = 0\n",
    "        htr_prob = next(num_gen)\n",
    "        for k, v in states_conv.items():\n",
    "            sum_k += k\n",
    "            if prev_k <= htr_prob < sum_k:\n",
    "                individual.state = v\n",
    "            prev_k += k\n",
    "    # Death from other causes\n",
    "    else:\n",
    "        individual.state = HealthState.DEATH_OTHER_CAUSES\n",
    "\n",
    "    individual.qalys += utilities[individual.state] / ((1 + qaly_discounting) ** (individual.age - (individual.age - 1)))\n",
    "    individual.age += 1"
   ]
  },
  {
   "cell_type": "code",
   "execution_count": 17,
   "metadata": {},
   "outputs": [],
   "source": [
    "def colonoscopy_screening(individual, num_gen, compliance_rate_thresh):\n",
    "    # Check dead\n",
    "    if individual.is_dead:\n",
    "        return None\n",
    "    \n",
    "    # Record Previous State\n",
    "    individual.previous_states = np.append(\n",
    "        individual.previous_states, individual.state)\n",
    "\n",
    "    # Rates\n",
    "    symptom_rate = symptomatic_crc_detection_rate.get(individual.state)\n",
    "    asm_rate = compute_other_mortality(individual)\n",
    "\n",
    "    # Screening\n",
    "    if next(num_gen) <= compliance_rate_thresh and \\\n",
    "            individual.years_til_colonoscopy == 0 and \\\n",
    "            not individual.is_treated:\n",
    "\n",
    "        # Get colonoscopy\n",
    "        individual.procedures = np.append(\n",
    "            individual.procedures, Procedure.COLONOSCOPY)\n",
    "        individual.costs += procedure_costs[Procedure.COLONOSCOPY] / ((1 + cost_discounting) ** (individual.age - (individual.age - 1)))\n",
    "\n",
    "        # Probability of bleeding/perforation death\n",
    "        if next(num_gen) <= colonoscopy_mortality_rate:\n",
    "            individual.state = HealthState.DEATH_FROM_SCREENING\n",
    "\n",
    "        else:\n",
    "            if next(num_gen) <= colonoscopy_positive_detection_rate[individual.state]:\n",
    "\n",
    "                # Get Biopsy\n",
    "                individual.procedures = np.append(\n",
    "                    individual.procedures, Procedure.BIOPSY)\n",
    "                individual.costs += procedure_costs[Procedure.BIOPSY] / ((1 + cost_discounting) ** (individual.age - (individual.age - 1)))\n",
    "\n",
    "                if individual.state == HealthState.LOW_RISK_POLYP or \\\n",
    "                        individual.state == HealthState.HIGH_RISK_POLYP:\n",
    "\n",
    "                    # Get Polypectomy\n",
    "                    individual.procedures = np.append(\n",
    "                        individual.procedures, Procedure.POLYPECTOMY)\n",
    "                    individual.costs += procedure_costs[Procedure.POLYPECTOMY] / ((1 + cost_discounting) ** (individual.age - (individual.age - 1)))\n",
    "                    individual.state = HealthState.NORMAL\n",
    "\n",
    "                elif individual.state == HealthState.ADENOMA:\n",
    "\n",
    "                    # Get Adenoma Removal Surgery\n",
    "                    individual.procedures = np.append(\n",
    "                        individual.procedures, Procedure.ADENOMA_REMOVAL)\n",
    "                    individual.costs += procedure_costs[Procedure.ADENOMA_REMOVAL] / ((1 + cost_discounting) ** (individual.age - (individual.age - 1)))\n",
    "\n",
    "                    if next(num_gen) <= adenoma_removal_success_rate:\n",
    "                        individual.state = HealthState.NORMAL\n",
    "                    else:\n",
    "                        individual.state = HealthState.ADENOMA\n",
    "\n",
    "                elif individual.has_cancer:\n",
    "\n",
    "                    # Copy paste sadness\n",
    "                    treatment_survival_prob = next(num_gen)\n",
    "                    if treatment_survival_prob <= treatment_survival_rate[individual.state]:\n",
    "                        # Get the procedure for treatment\n",
    "                        proc = to_treatment[individual.state]\n",
    "                        individual.procedures = np.append(\n",
    "                            individual.procedures, proc)\n",
    "                        individual.costs += procedure_costs[proc] / ((1 + cost_discounting) ** (individual.age - (individual.age - 1)))\n",
    "                        # Convert to treated\n",
    "                        individual.state = to_treated[individual.state]\n",
    "                    else:\n",
    "                        # Copy paste sadness\n",
    "                        ht_rate = health_state_transition_rate[individual.state]\n",
    "                        # We just transpose the health states and probs\n",
    "                        # to compare with the random number generated\n",
    "                        states_conv = dict_to_cumulative(ht_rate)\n",
    "                        prev_k = 0\n",
    "                        sum_k = 0\n",
    "                        htr_prob = next(num_gen)\n",
    "                        for k, v in states_conv.items():\n",
    "                            sum_k += k\n",
    "                            if prev_k <= htr_prob < sum_k:\n",
    "                                individual.state = v\n",
    "                            prev_k += k\n",
    "                else:\n",
    "                    raise Exception(f'{i.state} - This should not happen')\n",
    "\n",
    "                individual.years_til_colonoscopy = 1\n",
    "\n",
    "            else:\n",
    "                individual.years_til_colonoscopy = 10\n",
    "\n",
    "    # Symptomatic Representation\n",
    "    elif symptom_rate is not None and symptom_rate <= next(num_gen) and not individual.is_treated:\n",
    "        if next(num_gen) <= treatment_survival_rate[individual.state]:\n",
    "            # Get the procedure for treatment\n",
    "            proc = to_treatment[individual.state]\n",
    "            individual.procedures = np.append(\n",
    "                individual.procedures, proc)\n",
    "            individual.costs += procedure_costs[proc] / ((1 + cost_discounting) ** (individual.age - (individual.age - 1)))\n",
    "            # Convert to treated\n",
    "            individual.state = to_treated[individual.state]\n",
    "        else:\n",
    "            # Copy paste sadness\n",
    "            ht_rate = health_state_transition_rate[individual.state]\n",
    "            # We just transpose the health states and probs\n",
    "            # to compare with the random number generated\n",
    "            states_conv = dict_to_cumulative(ht_rate)\n",
    "            prev_k = 0\n",
    "            sum_k = 0\n",
    "            htr_prob = next(num_gen)\n",
    "            for k, v in states_conv.items():\n",
    "                sum_k += k\n",
    "                if prev_k <= htr_prob < sum_k:\n",
    "                    individual.state = v\n",
    "                prev_k += k\n",
    "\n",
    "    # Natural Health Transition\n",
    "    elif next(num_gen) > asm_rate:\n",
    "        ht_rate = health_state_transition_rate[individual.state]\n",
    "        # We just transpose the health states and probs\n",
    "        # to compare with the random number generated\n",
    "        states_conv = dict_to_cumulative(ht_rate)\n",
    "        prev_k = 0\n",
    "        sum_k = 0\n",
    "        htr_prob = next(num_gen)\n",
    "        for k, v in states_conv.items():\n",
    "            sum_k += k\n",
    "            if prev_k <= htr_prob < sum_k:\n",
    "                individual.state = v\n",
    "            prev_k += k\n",
    "    # Death from other causes\n",
    "    else:\n",
    "        individual.state = HealthState.DEATH_OTHER_CAUSES\n",
    "\n",
    "    individual.qalys += utilities[individual.state] / ((1 + qaly_discounting) ** (individual.age - (individual.age - 1)))\n",
    "    if individual.years_til_colonoscopy > 0:\n",
    "        individual.years_til_colonoscopy -= 1\n",
    "    individual.age += 1"
   ]
  },
  {
   "cell_type": "code",
   "execution_count": 18,
   "metadata": {},
   "outputs": [],
   "source": [
    "def FOBT_screening(individual, num_gen, compliance_rate_thresh1, compliance_rate_thresh2, screening_modality):\n",
    "    # Check dead\n",
    "    if individual.is_dead:\n",
    "        return None\n",
    "    \n",
    "    # Record Previous State\n",
    "    individual.previous_states = np.append(\n",
    "        individual.previous_states, individual.state)\n",
    "\n",
    "    # Rates\n",
    "    symptom_rate = symptomatic_crc_detection_rate.get(individual.state)\n",
    "    asm_rate = compute_other_mortality(individual)\n",
    "\n",
    "    if next(num_gen) <= compliance_rate_thresh1 and individual.get_FOBT and not individual.is_treated:\n",
    "\n",
    "        individual.procedures = np.append(\n",
    "            individual.procedures, screening_modality)\n",
    "        individual.costs += procedure_costs[screening_modality] / ((1 + cost_discounting) ** (individual.age - (individual.age - 1)))\n",
    "\n",
    "        fobt_detection_rate = screening_modalities_positive_detection_rate[\n",
    "            screening_modality][individual.state]\n",
    "        if next(num_gen) <= fobt_detection_rate:\n",
    "            # Colonoscopy Screening\n",
    "            if next(num_gen) <= compliance_rate_thresh2:\n",
    "                # Get colonoscopy\n",
    "                individual.procedures = np.append(\n",
    "                    individual.procedures, Procedure.COLONOSCOPY)\n",
    "                individual.costs += procedure_costs[Procedure.COLONOSCOPY] / ((1 + cost_discounting) ** (individual.age - (individual.age - 1)))\n",
    "\n",
    "                # Probability of bleeding/perforation death\n",
    "                if next(num_gen) <= colonoscopy_mortality_rate:\n",
    "                    individual.state = HealthState.DEATH_FROM_SCREENING\n",
    "\n",
    "                else:\n",
    "                    if next(num_gen) <= colonoscopy_positive_detection_rate[individual.state]:\n",
    "\n",
    "                        # Get Biopsy\n",
    "                        individual.procedures = np.append(\n",
    "                            individual.procedures, Procedure.BIOPSY)\n",
    "                        individual.costs += procedure_costs[Procedure.BIOPSY] / ((1 + cost_discounting) ** (individual.age - (individual.age - 1)))\n",
    "\n",
    "                        if individual.state == HealthState.LOW_RISK_POLYP or \\\n",
    "                                individual.state == HealthState.HIGH_RISK_POLYP:\n",
    "\n",
    "                            # Get Polypectomy\n",
    "                            individual.procedures = np.append(\n",
    "                                individual.procedures, Procedure.POLYPECTOMY)\n",
    "                            individual.costs += procedure_costs[Procedure.POLYPECTOMY] / ((1 + cost_discounting) ** (individual.age - (individual.age - 1)))\n",
    "                            individual.state = HealthState.NORMAL\n",
    "                            individual.get_FOBT = True\n",
    "\n",
    "                        elif individual.state == HealthState.ADENOMA:\n",
    "\n",
    "                            # Get Adenoma Removal Surgery\n",
    "                            individual.procedures = np.append(\n",
    "                                individual.procedures, Procedure.ADENOMA_REMOVAL)\n",
    "                            individual.costs += procedure_costs[Procedure.ADENOMA_REMOVAL] / ((1 + cost_discounting) ** (individual.age - (individual.age - 1)))\n",
    "\n",
    "                            if next(num_gen) <= adenoma_removal_success_rate:\n",
    "                                individual.state = HealthState.NORMAL\n",
    "                                individual.get_FOBT = True\n",
    "                            else:\n",
    "                                individual.state = HealthState.ADENOMA\n",
    "\n",
    "                        elif individual.has_cancer:\n",
    "\n",
    "                            # Copy paste sadness\n",
    "                            treatment_survival_prob = next(num_gen)\n",
    "                            if treatment_survival_prob <= treatment_survival_rate[individual.state]:\n",
    "                                # Get the procedure for treatment\n",
    "                                proc = to_treatment[individual.state]\n",
    "                                individual.procedures = np.append(\n",
    "                                    individual.procedures, proc)\n",
    "                                individual.costs += procedure_costs[proc] / ((1 + cost_discounting) ** (individual.age - (individual.age - 1)))\n",
    "                                # Convert to treated\n",
    "                                individual.state = to_treated[individual.state]\n",
    "                            else:\n",
    "                                # Copy paste sadness\n",
    "                                ht_rate = health_state_transition_rate[individual.state]\n",
    "                                # We just transpose the health states and probs\n",
    "                                # to compare with the random number generated\n",
    "                                states_conv = dict_to_cumulative(ht_rate)\n",
    "                                prev_k = 0\n",
    "                                sum_k = 0\n",
    "                                htr_prob = next(num_gen)\n",
    "                                for k, v in states_conv.items():\n",
    "                                    sum_k += k\n",
    "                                    if prev_k <= htr_prob < sum_k:\n",
    "                                        individual.state = v\n",
    "                                    prev_k += k\n",
    "                        else:\n",
    "                            raise Exception(\n",
    "                                f'{i.state} - This should not happen')\n",
    "\n",
    "                        individual.years_til_colonoscopy = 1\n",
    "                        individual.get_FOBT = False\n",
    "\n",
    "                    else:\n",
    "                        individual.years_til_colonoscopy = 10\n",
    "                        individual.get_FOBT = False\n",
    "\n",
    "    # Colonoscopy Screening\n",
    "    elif next(num_gen) <= compliance_rate_thresh2 and \\\n",
    "            individual.years_til_colonoscopy == 0 and \\\n",
    "            not individual.is_treated and not individual.get_FOBT:\n",
    "\n",
    "        # Get colonoscopy\n",
    "        individual.procedures = np.append(\n",
    "            individual.procedures, Procedure.COLONOSCOPY)\n",
    "        individual.costs += procedure_costs[Procedure.COLONOSCOPY] / ((1 + cost_discounting) ** (individual.age - (individual.age - 1)))\n",
    "\n",
    "        # Probability of bleeding/perforation death\n",
    "        if next(num_gen) <= colonoscopy_mortality_rate:\n",
    "            individual.state = HealthState.DEATH_FROM_SCREENING\n",
    "\n",
    "        else:\n",
    "            if next(num_gen) <= colonoscopy_positive_detection_rate[individual.state]:\n",
    "\n",
    "                # Get Biopsy\n",
    "                individual.procedures = np.append(\n",
    "                    individual.procedures, Procedure.BIOPSY)\n",
    "                individual.costs += procedure_costs[Procedure.BIOPSY] / ((1 + cost_discounting) ** (individual.age - (individual.age - 1)))\n",
    "\n",
    "                if individual.state == HealthState.LOW_RISK_POLYP or \\\n",
    "                        individual.state == HealthState.HIGH_RISK_POLYP:\n",
    "\n",
    "                    # Get Polypectomy\n",
    "                    individual.procedures = np.append(\n",
    "                        individual.procedures, Procedure.POLYPECTOMY)\n",
    "                    individual.costs += procedure_costs[Procedure.POLYPECTOMY] / ((1 + cost_discounting) ** (individual.age - (individual.age - 1)))\n",
    "                    individual.state = HealthState.NORMAL\n",
    "                    individual.get_FOBT = True\n",
    "\n",
    "                elif individual.state == HealthState.ADENOMA:\n",
    "\n",
    "                    # Get Adenoma Removal Surgery\n",
    "                    individual.procedures = np.append(\n",
    "                        individual.procedures, Procedure.ADENOMA_REMOVAL)\n",
    "                    individual.costs += procedure_costs[Procedure.ADENOMA_REMOVAL] / ((1 + cost_discounting) ** (individual.age - (individual.age - 1)))\n",
    "\n",
    "                    if next(num_gen) <= adenoma_removal_success_rate:\n",
    "                        individual.state = HealthState.NORMAL\n",
    "                        individual.get_FOBT = True\n",
    "                    else:\n",
    "                        individual.state = HealthState.ADENOMA\n",
    "\n",
    "                elif individual.has_cancer:\n",
    "\n",
    "                    # Copy paste sadness\n",
    "                    treatment_survival_prob = next(num_gen)\n",
    "                    if treatment_survival_prob <= treatment_survival_rate[individual.state]:\n",
    "                        # Get the procedure for treatment\n",
    "                        proc = to_treatment[individual.state]\n",
    "                        individual.procedures = np.append(\n",
    "                            individual.procedures, proc)\n",
    "                        individual.costs += procedure_costs[proc] / ((1 + cost_discounting) ** (individual.age - (individual.age - 1)))\n",
    "                        # Convert to treated\n",
    "                        individual.state = to_treated[individual.state]\n",
    "                    else:\n",
    "                        # Copy paste sadness\n",
    "                        ht_rate = health_state_transition_rate[individual.state]\n",
    "                        # We just transpose the health states and probs\n",
    "                        # to compare with the random number generated\n",
    "                        states_conv = dict_to_cumulative(ht_rate)\n",
    "                        prev_k = 0\n",
    "                        sum_k = 0\n",
    "                        htr_prob = next(num_gen)\n",
    "                        for k, v in states_conv.items():\n",
    "                            sum_k += k\n",
    "                            if prev_k <= htr_prob < sum_k:\n",
    "                                individual.state = v\n",
    "                            prev_k += k\n",
    "                else:\n",
    "                    raise Exception(f'{i.state} - This should not happen')\n",
    "\n",
    "                individual.years_til_colonoscopy = 1\n",
    "\n",
    "            else:\n",
    "                individual.years_til_colonoscopy = 10\n",
    "\n",
    "    # Symptomatic Representation\n",
    "    elif symptom_rate is not None and symptom_rate <= next(num_gen) and not individual.is_treated:\n",
    "        if next(num_gen) <= treatment_survival_rate[individual.state]:\n",
    "            # Get the procedure for treatment\n",
    "            proc = to_treatment[individual.state]\n",
    "            individual.procedures = np.append(\n",
    "                individual.procedures, proc)\n",
    "            individual.costs += procedure_costs[proc] / ((1 + cost_discounting) ** (individual.age - (individual.age - 1)))\n",
    "            # Convert to treated\n",
    "            individual.state = to_treated[individual.state]\n",
    "        else:\n",
    "            # Copy paste sadness\n",
    "            ht_rate = health_state_transition_rate[individual.state]\n",
    "            # We just transpose the health states and probs\n",
    "            # to compare with the random number generated\n",
    "            states_conv = dict_to_cumulative(ht_rate)\n",
    "            prev_k = 0\n",
    "            sum_k = 0\n",
    "            htr_prob = next(num_gen)\n",
    "            for k, v in states_conv.items():\n",
    "                sum_k += k\n",
    "                if prev_k <= htr_prob < sum_k:\n",
    "                    individual.state = v\n",
    "                prev_k += k\n",
    "\n",
    "    # Natural Health Transition\n",
    "    elif next(num_gen) > asm_rate:\n",
    "        ht_rate = health_state_transition_rate[individual.state]\n",
    "        # We just transpose the health states and probs\n",
    "        # to compare with the random number generated\n",
    "        states_conv = dict_to_cumulative(ht_rate)\n",
    "        prev_k = 0\n",
    "        sum_k = 0\n",
    "        htr_prob = next(num_gen)\n",
    "        for k, v in states_conv.items():\n",
    "            sum_k += k\n",
    "            if prev_k <= htr_prob < sum_k:\n",
    "                individual.state = v\n",
    "            prev_k += k\n",
    "    # Death from other causes\n",
    "    else:\n",
    "        individual.state = HealthState.DEATH_OTHER_CAUSES\n",
    "\n",
    "    individual.qalys += utilities[individual.state] / ((1 + qaly_discounting) ** (individual.age - (individual.age - 1)))\n",
    "    if individual.years_til_colonoscopy > 0:\n",
    "        individual.years_til_colonoscopy -= 1\n",
    "    individual.age += 1"
   ]
  },
  {
   "cell_type": "code",
   "execution_count": 19,
   "metadata": {},
   "outputs": [],
   "source": [
    "def to_df(individuals):\n",
    "    df = pd.DataFrame()\n",
    "    df['life_years'] = np.array(\n",
    "        [len(i.previous_states) if not i.is_dead else len(i.previous_states) + 1 for i in individuals])\n",
    "    df['cost'] = np.array([i.costs for i in individuals])\n",
    "    df['qalys'] = np.array([i.qalys for i in individuals])\n",
    "    return df\n"
   ]
  },
  {
   "cell_type": "markdown",
   "metadata": {},
   "source": [
    "## Test Bed for No Screening"
   ]
  },
  {
   "cell_type": "code",
   "execution_count": 20,
   "metadata": {},
   "outputs": [],
   "source": [
    "individual_count = 100000\n",
    "rand_individual_state_gen = RandomCVGenerator()\n",
    "rand_individual_sex_gen = RandomCVGenerator(724)\n",
    "\n",
    "individuals = [Individual(next(rand_individual_state_gen), next(rand_individual_sex_gen), \n",
    "                          init_states_prob=health_prevalence_rate)\n",
    "               for _ in range(individual_count)]"
   ]
  },
  {
   "cell_type": "code",
   "execution_count": 21,
   "metadata": {},
   "outputs": [
    {
     "data": {
      "text/plain": [
       "(array([ 69882.,      0.,  12163.,      0.,   7613.,      0.,   7872.,\n",
       "             0.,   1487.,    983.]),\n",
       " array([ 1. ,  1.5,  2. ,  2.5,  3. ,  3.5,  4. ,  4.5,  5. ,  5.5,  6. ]),\n",
       " <a list of 10 Patch objects>)"
      ]
     },
     "execution_count": 21,
     "metadata": {},
     "output_type": "execute_result"
    },
    {
     "data": {
      "image/png": "[encoded data removed]",
      "text/plain": [
       "<Figure size 432x288 with 1 Axes>"
      ]
     },
     "metadata": {},
     "output_type": "display_data"
    }
   ],
   "source": [
    "# Health State Distribution\n",
    "hist(np.array([i.state.value for i in individuals]))"
   ]
  },
  {
   "cell_type": "code",
   "execution_count": 22,
   "metadata": {},
   "outputs": [],
   "source": [
    "# Simulate!\n",
    "sim_gen = RandomCVGenerator()\n",
    "for k in range(20):\n",
    "    for i in individuals:\n",
    "        no_screening(i, sim_gen)"
   ]
  },
  {
   "cell_type": "code",
   "execution_count": 23,
   "metadata": {
    "scrolled": false
   },
   "outputs": [
    {
     "data": {
      "text/plain": [
       "(array([  4.27310000e+04,   5.12900000e+03,   2.41170000e+04,\n",
       "          8.03000000e+02,   2.90000000e+01,   4.80000000e+01,\n",
       "          1.56090000e+04,   0.00000000e+00,   4.45400000e+03,\n",
       "          7.08000000e+03]),\n",
       " array([  1. ,   2.3,   3.6,   4.9,   6.2,   7.5,   8.8,  10.1,  11.4,\n",
       "         12.7,  14. ]),\n",
       " <a list of 10 Patch objects>)"
      ]
     },
     "execution_count": 23,
     "metadata": {},
     "output_type": "execute_result"
    },
    {
     "data": {
      "image/png": "[encoded data removed]",
      "text/plain": [
       "<Figure size 432x288 with 1 Axes>"
      ]
     },
     "metadata": {},
     "output_type": "display_data"
    }
   ],
   "source": [
    "# Health State Outcomes\n",
    "hist(np.array([i.state.value for i in individuals]))"
   ]
  },
  {
   "cell_type": "code",
   "execution_count": 24,
   "metadata": {},
   "outputs": [
    {
     "data": {
      "text/plain": [
       "(677,)"
      ]
     },
     "execution_count": 24,
     "metadata": {},
     "output_type": "execute_result"
    }
   ],
   "source": [
    "prev_states = np.array([i.previous_states[-1].value for i in individuals if i.state.value == 10])\n",
    "prev_states.shape\n"
   ]
  },
  {
   "cell_type": "code",
   "execution_count": 25,
   "metadata": {},
   "outputs": [
    {
     "data": {
      "text/plain": [
       "(array([  28.,   28.,  230.,    0.,    0.,    0.,    0.,    0.,  342.,   49.]),\n",
       " array([  6. ,   6.8,   7.6,   8.4,   9.2,  10. ,  10.8,  11.6,  12.4,\n",
       "         13.2,  14. ]),\n",
       " <a list of 10 Patch objects>)"
      ]
     },
     "execution_count": 25,
     "metadata": {},
     "output_type": "execute_result"
    },
    {
     "data": {
      "image/png": "[encoded data removed]",
      "text/plain": [
       "<Figure size 432x288 with 1 Axes>"
      ]
     },
     "metadata": {},
     "output_type": "display_data"
    }
   ],
   "source": [
    "hist(prev_states)"
   ]
  },
  {
   "cell_type": "code",
   "execution_count": 26,
   "metadata": {},
   "outputs": [
    {
     "name": "stdout",
     "output_type": "stream",
     "text": [
      "QALY: 1718416.7199029124\n",
      "Costs: 2967508090.361359\n",
      "QALY Diff: 0.8592083599514562\n"
     ]
    }
   ],
   "source": [
    "QALYs = sum(np.array([i.qalys for i in individuals]))\n",
    "costs = sum(np.array([i.costs for i in individuals]))\n",
    "print(f'QALY: {QALYs}')\n",
    "print(f'Costs: {costs}')\n",
    "print(f'QALY Diff: {QALYs / (individual_count * 20)}')"
   ]
  },
  {
   "cell_type": "code",
   "execution_count": 27,
   "metadata": {},
   "outputs": [
    {
     "data": {
      "text/plain": [
       "(array([ 1131.,     0.,   391.,     0.,     0.,     0.,  4454.,     0.,\n",
       "         6879.,   201.]),\n",
       " array([  9. ,   9.5,  10. ,  10.5,  11. ,  11.5,  12. ,  12.5,  13. ,\n",
       "         13.5,  14. ]),\n",
       " <a list of 10 Patch objects>)"
      ]
     },
     "execution_count": 27,
     "metadata": {},
     "output_type": "execute_result"
    },
    {
     "data": {
      "image/png": "[encoded data removed]",
      "text/plain": [
       "<Figure size 432x288 with 1 Axes>"
      ]
     },
     "metadata": {},
     "output_type": "display_data"
    }
   ],
   "source": [
    "hist(\n",
    "    np.array([i.state.value for i in individuals if len(i.procedures) == 1]))\n"
   ]
  },
  {
   "cell_type": "markdown",
   "metadata": {},
   "source": [
    "## Test Bed for Colonoscopy Screening"
   ]
  },
  {
   "cell_type": "code",
   "execution_count": 28,
   "metadata": {},
   "outputs": [],
   "source": [
    "individual_count = 100000\n",
    "rand_individual_state_gen = RandomCVGenerator()\n",
    "rand_individual_sex_gen = RandomCVGenerator(724)\n",
    "\n",
    "individuals = [Individual(next(rand_individual_state_gen), next(rand_individual_sex_gen),\n",
    "                          init_states_prob=health_prevalence_rate) for _ in range(individual_count)]"
   ]
  },
  {
   "cell_type": "code",
   "execution_count": 29,
   "metadata": {},
   "outputs": [
    {
     "data": {
      "text/plain": [
       "(array([ 69882.,      0.,  12163.,      0.,   7613.,      0.,   7872.,\n",
       "             0.,   1487.,    983.]),\n",
       " array([ 1. ,  1.5,  2. ,  2.5,  3. ,  3.5,  4. ,  4.5,  5. ,  5.5,  6. ]),\n",
       " <a list of 10 Patch objects>)"
      ]
     },
     "execution_count": 29,
     "metadata": {},
     "output_type": "execute_result"
    },
    {
     "data": {
      "image/png": "[encoded data removed]",
      "text/plain": [
       "<Figure size 432x288 with 1 Axes>"
      ]
     },
     "metadata": {},
     "output_type": "display_data"
    }
   ],
   "source": [
    "# Health State Distribution\n",
    "hist(np.array([i.state.value for i in individuals]))"
   ]
  },
  {
   "cell_type": "code",
   "execution_count": 30,
   "metadata": {},
   "outputs": [],
   "source": [
    "# Simulate!\n",
    "sim_gen = RandomCVGenerator()\n",
    "for k in range(20):\n",
    "    for i in individuals:\n",
    "        colonoscopy_screening(i, sim_gen, 1)"
   ]
  },
  {
   "cell_type": "code",
   "execution_count": 31,
   "metadata": {
    "scrolled": false
   },
   "outputs": [
    {
     "data": {
      "text/plain": [
       "(array([  6.64730000e+04,   2.10200000e+03,   1.19390000e+04,\n",
       "          2.53000000e+02,   2.00000000e+01,   1.33800000e+04,\n",
       "          2.75000000e+02,   2.56800000e+03,   2.92100000e+03,\n",
       "          6.90000000e+01]),\n",
       " array([  1. ,   2.4,   3.8,   5.2,   6.6,   8. ,   9.4,  10.8,  12.2,\n",
       "         13.6,  15. ]),\n",
       " <a list of 10 Patch objects>)"
      ]
     },
     "execution_count": 31,
     "metadata": {},
     "output_type": "execute_result"
    },
    {
     "data": {
      "image/png": "[encoded data removed]",
      "text/plain": [
       "<Figure size 432x288 with 1 Axes>"
      ]
     },
     "metadata": {},
     "output_type": "display_data"
    }
   ],
   "source": [
    "# Health State Outcomes\n",
    "hist(np.array([i.state.value for i in individuals]))"
   ]
  },
  {
   "cell_type": "code",
   "execution_count": 32,
   "metadata": {},
   "outputs": [
    {
     "data": {
      "text/plain": [
       "(275,)"
      ]
     },
     "execution_count": 32,
     "metadata": {},
     "output_type": "execute_result"
    }
   ],
   "source": [
    "prev_states = np.array([i.previous_states[-1].value for i in individuals if i.state.value == 10])\n",
    "prev_states.shape\n"
   ]
  },
  {
   "cell_type": "code",
   "execution_count": 33,
   "metadata": {},
   "outputs": [
    {
     "data": {
      "text/plain": [
       "(array([  11.,    5.,   43.,    0.,    0.,    0.,    0.,  181.,   22.,   13.]),\n",
       " array([  6. ,   6.9,   7.8,   8.7,   9.6,  10.5,  11.4,  12.3,  13.2,\n",
       "         14.1,  15. ]),\n",
       " <a list of 10 Patch objects>)"
      ]
     },
     "execution_count": 33,
     "metadata": {},
     "output_type": "execute_result"
    },
    {
     "data": {
      "image/png": "[encoded data removed]",
      "text/plain": [
       "<Figure size 432x288 with 1 Axes>"
      ]
     },
     "metadata": {},
     "output_type": "display_data"
    }
   ],
   "source": [
    "hist(prev_states)"
   ]
  },
  {
   "cell_type": "code",
   "execution_count": 34,
   "metadata": {},
   "outputs": [
    {
     "name": "stdout",
     "output_type": "stream",
     "text": [
      "QALY: 1774864.0024271845\n",
      "Costs: 2872204211.417573\n",
      "QALY Diff: 0.8874320012135922\n"
     ]
    }
   ],
   "source": [
    "QALYs = sum(np.array([i.qalys for i in individuals]))\n",
    "costs = sum(np.array([i.costs for i in individuals]))\n",
    "print(f'QALY: {QALYs}')\n",
    "print(f'Costs: {costs}')\n",
    "print(f'QALY Diff: {QALYs / (individual_count * 20)}')"
   ]
  },
  {
   "cell_type": "code",
   "execution_count": 35,
   "metadata": {},
   "outputs": [
    {
     "data": {
      "text/plain": [
       "(array([ 519.,    1.,   68.,    0.,    1.,    0.,   40.,    0.,    0.,    3.]),\n",
       " array([  1. ,   2.2,   3.4,   4.6,   5.8,   7. ,   8.2,   9.4,  10.6,\n",
       "         11.8,  13. ]),\n",
       " <a list of 10 Patch objects>)"
      ]
     },
     "execution_count": 35,
     "metadata": {},
     "output_type": "execute_result"
    },
    {
     "data": {
      "image/png": "[encoded data removed]",
      "text/plain": [
       "<Figure size 432x288 with 1 Axes>"
      ]
     },
     "metadata": {},
     "output_type": "display_data"
    }
   ],
   "source": [
    "hist(\n",
    "    np.array([i.state.value for i in individuals if len(i.procedures) == 14]))\n"
   ]
  },
  {
   "cell_type": "markdown",
   "metadata": {},
   "source": [
    "## Test Bed for G-FOBT Screening"
   ]
  },
  {
   "cell_type": "code",
   "execution_count": 77,
   "metadata": {},
   "outputs": [],
   "source": [
    "individual_count = 10000\n",
    "rand_individual_state_gen = RandomCVGenerator()\n",
    "rand_individual_sex_gen = RandomCVGenerator(724)\n",
    "\n",
    "individuals = [Individual(next(rand_individual_state_gen), next(rand_individual_sex_gen),\n",
    "                          init_states_prob=health_prevalence_rate) for _ in range(individual_count)]"
   ]
  },
  {
   "cell_type": "code",
   "execution_count": 78,
   "metadata": {},
   "outputs": [
    {
     "data": {
      "text/plain": [
       "(array([ 7016.,     0.,  1197.,     0.,   780.,     0.,   776.,     0.,\n",
       "          143.,    88.]),\n",
       " array([ 1. ,  1.5,  2. ,  2.5,  3. ,  3.5,  4. ,  4.5,  5. ,  5.5,  6. ]),\n",
       " <a list of 10 Patch objects>)"
      ]
     },
     "execution_count": 78,
     "metadata": {},
     "output_type": "execute_result"
    },
    {
     "data": {
      "image/png": "[encoded data removed]",
      "text/plain": [
       "<Figure size 432x288 with 1 Axes>"
      ]
     },
     "metadata": {},
     "output_type": "display_data"
    }
   ],
   "source": [
    "# Health State Distribution\n",
    "hist(np.array([i.state.value for i in individuals]))"
   ]
  },
  {
   "cell_type": "code",
   "execution_count": 79,
   "metadata": {},
   "outputs": [],
   "source": [
    "# Simulate!\n",
    "sim_gen = RandomCVGenerator()\n",
    "for k in range(20):\n",
    "    for i in individuals:\n",
    "        FOBT_screening(i, sim_gen, 0.1, 1, Procedure.GFOBT)"
   ]
  },
  {
   "cell_type": "code",
   "execution_count": 80,
   "metadata": {
    "scrolled": false
   },
   "outputs": [
    {
     "data": {
      "text/plain": [
       "(array([  6.11800000e+03,   2.75000000e+02,   1.27700000e+03,\n",
       "          2.90000000e+01,   2.00000000e+00,   2.00000000e+00,\n",
       "          1.45900000e+03,   0.00000000e+00,   3.76000000e+02,\n",
       "          4.62000000e+02]),\n",
       " array([  1. ,   2.3,   3.6,   4.9,   6.2,   7.5,   8.8,  10.1,  11.4,\n",
       "         12.7,  14. ]),\n",
       " <a list of 10 Patch objects>)"
      ]
     },
     "execution_count": 80,
     "metadata": {},
     "output_type": "execute_result"
    },
    {
     "data": {
      "image/png": "[encoded data removed]",
      "text/plain": [
       "<Figure size 432x288 with 1 Axes>"
      ]
     },
     "metadata": {},
     "output_type": "display_data"
    }
   ],
   "source": [
    "# Health State Outcomes\n",
    "hist(np.array([i.state.value for i in individuals]))"
   ]
  },
  {
   "cell_type": "code",
   "execution_count": 81,
   "metadata": {},
   "outputs": [
    {
     "data": {
      "text/plain": [
       "(0,)"
      ]
     },
     "execution_count": 81,
     "metadata": {},
     "output_type": "execute_result"
    }
   ],
   "source": [
    "prev_states = np.array([i.previous_states[-1].value for i in individuals if i.state.value == 11])\n",
    "prev_states.shape\n"
   ]
  },
  {
   "cell_type": "code",
   "execution_count": 82,
   "metadata": {},
   "outputs": [
    {
     "data": {
      "text/plain": [
       "(array([ 0.,  0.,  0.,  0.,  0.,  0.,  0.,  0.,  0.,  0.]),\n",
       " array([ 0. ,  0.1,  0.2,  0.3,  0.4,  0.5,  0.6,  0.7,  0.8,  0.9,  1. ]),\n",
       " <a list of 10 Patch objects>)"
      ]
     },
     "execution_count": 82,
     "metadata": {},
     "output_type": "execute_result"
    },
    {
     "data": {
      "image/png": "[encoded data removed]",
      "text/plain": [
       "<Figure size 432x288 with 1 Axes>"
      ]
     },
     "metadata": {},
     "output_type": "display_data"
    }
   ],
   "source": [
    "hist(prev_states)"
   ]
  },
  {
   "cell_type": "code",
   "execution_count": 83,
   "metadata": {},
   "outputs": [
    {
     "name": "stdout",
     "output_type": "stream",
     "text": [
      "QALY: 174291.34029126214\n",
      "Costs: 306843310.3800971\n",
      "QALY Diff: 0.8714567014563107\n"
     ]
    }
   ],
   "source": [
    "QALYs = sum(np.array([i.qalys for i in individuals]))\n",
    "costs = sum(np.array([i.costs for i in individuals]))\n",
    "print(f'QALY: {QALYs}')\n",
    "print(f'Costs: {costs}')\n",
    "print(f'QALY Diff: {QALYs / (individual_count * 20)}')"
   ]
  },
  {
   "cell_type": "code",
   "execution_count": 43,
   "metadata": {},
   "outputs": [
    {
     "data": {
      "text/plain": [
       "(array([ 399.,    3.,   38.,    0.,    1.,    0.,   38.,    0.,    0.,    6.]),\n",
       " array([  1. ,   2.2,   3.4,   4.6,   5.8,   7. ,   8.2,   9.4,  10.6,\n",
       "         11.8,  13. ]),\n",
       " <a list of 10 Patch objects>)"
      ]
     },
     "execution_count": 43,
     "metadata": {},
     "output_type": "execute_result"
    },
    {
     "data": {
      "image/png": "[encoded data removed]",
      "text/plain": [
       "<Figure size 432x288 with 1 Axes>"
      ]
     },
     "metadata": {},
     "output_type": "display_data"
    }
   ],
   "source": [
    "hist(\n",
    "    np.array([i.state.value for i in individuals if len(i.procedures) == 14]))\n"
   ]
  },
  {
   "cell_type": "markdown",
   "metadata": {},
   "source": [
    "## Test Bed for FIT Screening"
   ]
  },
  {
   "cell_type": "code",
   "execution_count": 44,
   "metadata": {},
   "outputs": [],
   "source": [
    "individual_count = 100000\n",
    "rand_individual_state_gen = RandomCVGenerator()\n",
    "rand_individual_sex_gen = RandomCVGenerator(724)\n",
    "\n",
    "individuals = [Individual(next(rand_individual_state_gen), next(rand_individual_sex_gen),\n",
    "                          init_states_prob=health_prevalence_rate) for _ in range(individual_count)]"
   ]
  },
  {
   "cell_type": "code",
   "execution_count": 45,
   "metadata": {},
   "outputs": [
    {
     "data": {
      "text/plain": [
       "(array([ 69882.,      0.,  12163.,      0.,   7613.,      0.,   7872.,\n",
       "             0.,   1487.,    983.]),\n",
       " array([ 1. ,  1.5,  2. ,  2.5,  3. ,  3.5,  4. ,  4.5,  5. ,  5.5,  6. ]),\n",
       " <a list of 10 Patch objects>)"
      ]
     },
     "execution_count": 45,
     "metadata": {},
     "output_type": "execute_result"
    },
    {
     "data": {
      "image/png": "[encoded data removed]",
      "text/plain": [
       "<Figure size 432x288 with 1 Axes>"
      ]
     },
     "metadata": {},
     "output_type": "display_data"
    }
   ],
   "source": [
    "# Health State Distribution\n",
    "hist(np.array([i.state.value for i in individuals]))"
   ]
  },
  {
   "cell_type": "code",
   "execution_count": 46,
   "metadata": {},
   "outputs": [],
   "source": [
    "# Simulate!\n",
    "sim_gen = RandomCVGenerator()\n",
    "for k in range(20):\n",
    "    for i in individuals:\n",
    "        FOBT_screening(i, sim_gen, 1, 1, Procedure.FIT)"
   ]
  },
  {
   "cell_type": "code",
   "execution_count": 47,
   "metadata": {
    "scrolled": false
   },
   "outputs": [
    {
     "data": {
      "text/plain": [
       "(array([  6.84440000e+04,   1.92700000e+03,   1.07830000e+04,\n",
       "          2.30000000e+02,   1.60000000e+01,   1.29290000e+04,\n",
       "          2.59000000e+02,   2.60900000e+03,   2.74900000e+03,\n",
       "          5.40000000e+01]),\n",
       " array([  1. ,   2.4,   3.8,   5.2,   6.6,   8. ,   9.4,  10.8,  12.2,\n",
       "         13.6,  15. ]),\n",
       " <a list of 10 Patch objects>)"
      ]
     },
     "execution_count": 47,
     "metadata": {},
     "output_type": "execute_result"
    },
    {
     "data": {
      "image/png": "[encoded data removed]",
      "text/plain": [
       "<Figure size 432x288 with 1 Axes>"
      ]
     },
     "metadata": {},
     "output_type": "display_data"
    }
   ],
   "source": [
    "# Health State Outcomes\n",
    "hist(np.array([i.state.value for i in individuals]))"
   ]
  },
  {
   "cell_type": "code",
   "execution_count": 48,
   "metadata": {},
   "outputs": [
    {
     "data": {
      "text/plain": [
       "(38,)"
      ]
     },
     "execution_count": 48,
     "metadata": {},
     "output_type": "execute_result"
    }
   ],
   "source": [
    "prev_states = np.array([i.previous_states[-1].value for i in individuals if i.state.value == 11])\n",
    "prev_states.shape\n"
   ]
  },
  {
   "cell_type": "code",
   "execution_count": 49,
   "metadata": {},
   "outputs": [
    {
     "data": {
      "text/plain": [
       "(array([ 29.,   0.,   4.,   0.,   0.,   2.,   0.,   2.,   0.,   1.]),\n",
       " array([ 1. ,  1.4,  1.8,  2.2,  2.6,  3. ,  3.4,  3.8,  4.2,  4.6,  5. ]),\n",
       " <a list of 10 Patch objects>)"
      ]
     },
     "execution_count": 49,
     "metadata": {},
     "output_type": "execute_result"
    },
    {
     "data": {
      "image/png": "[encoded data removed]",
      "text/plain": [
       "<Figure size 432x288 with 1 Axes>"
      ]
     },
     "metadata": {},
     "output_type": "display_data"
    }
   ],
   "source": [
    "hist(prev_states)"
   ]
  },
  {
   "cell_type": "code",
   "execution_count": 50,
   "metadata": {},
   "outputs": [
    {
     "name": "stdout",
     "output_type": "stream",
     "text": [
      "QALY: 1783888.0155339807\n",
      "Costs: 2902764678.125049\n",
      "QALY Diff: 0.8919440077669903\n"
     ]
    }
   ],
   "source": [
    "QALYs = sum(np.array([i.qalys for i in individuals]))\n",
    "costs = sum(np.array([i.costs for i in individuals]))\n",
    "print(f'QALY: {QALYs}')\n",
    "print(f'Costs: {costs}')\n",
    "print(f'QALY Diff: {QALYs / (individual_count * 20)}')"
   ]
  },
  {
   "cell_type": "code",
   "execution_count": 51,
   "metadata": {},
   "outputs": [
    {
     "data": {
      "text/plain": [
       "(array([ 985.,    3.,   54.,    0.,    1.,    0.,   44.,    1.,    1.,    6.]),\n",
       " array([  1. ,   2.2,   3.4,   4.6,   5.8,   7. ,   8.2,   9.4,  10.6,\n",
       "         11.8,  13. ]),\n",
       " <a list of 10 Patch objects>)"
      ]
     },
     "execution_count": 51,
     "metadata": {},
     "output_type": "execute_result"
    },
    {
     "data": {
      "image/png": "[encoded data removed]",
      "text/plain": [
       "<Figure size 432x288 with 1 Axes>"
      ]
     },
     "metadata": {},
     "output_type": "display_data"
    }
   ],
   "source": [
    "hist(\n",
    "    np.array([i.state.value for i in individuals if len(i.procedures) == 14]))\n"
   ]
  },
  {
   "cell_type": "markdown",
   "metadata": {},
   "source": [
    "## Test Bed for FIT+FS Screening"
   ]
  },
  {
   "cell_type": "code",
   "execution_count": 52,
   "metadata": {},
   "outputs": [],
   "source": [
    "individual_count = 100000\n",
    "rand_individual_state_gen = RandomCVGenerator()\n",
    "rand_individual_sex_gen = RandomCVGenerator(724)\n",
    "\n",
    "individuals = [Individual(next(rand_individual_state_gen), next(rand_individual_sex_gen),\n",
    "                          init_states_prob=health_prevalence_rate) for _ in range(individual_count)]"
   ]
  },
  {
   "cell_type": "code",
   "execution_count": 53,
   "metadata": {},
   "outputs": [
    {
     "data": {
      "text/plain": [
       "(array([ 69882.,      0.,  12163.,      0.,   7613.,      0.,   7872.,\n",
       "             0.,   1487.,    983.]),\n",
       " array([ 1. ,  1.5,  2. ,  2.5,  3. ,  3.5,  4. ,  4.5,  5. ,  5.5,  6. ]),\n",
       " <a list of 10 Patch objects>)"
      ]
     },
     "execution_count": 53,
     "metadata": {},
     "output_type": "execute_result"
    },
    {
     "data": {
      "image/png": "[encoded data removed]",
      "text/plain": [
       "<Figure size 432x288 with 1 Axes>"
      ]
     },
     "metadata": {},
     "output_type": "display_data"
    }
   ],
   "source": [
    "# Health State Distribution\n",
    "hist(np.array([i.state.value for i in individuals]))"
   ]
  },
  {
   "cell_type": "code",
   "execution_count": 54,
   "metadata": {},
   "outputs": [],
   "source": [
    "import multiprocessing as mp\n",
    "\n",
    "# Simulate!\n",
    "sim_gen = RandomCVGenerator()\n",
    "for k in range(20):\n",
    "    for i in individuals:\n",
    "        FOBT_screening(i, sim_gen, 1, 1, Procedure.FIT_FS)        \n",
    "#     processes = [mp.Process(target=rand_string, args=(5, output)) for x in range(4)]\n"
   ]
  },
  {
   "cell_type": "code",
   "execution_count": 55,
   "metadata": {
    "scrolled": false
   },
   "outputs": [
    {
     "data": {
      "text/plain": [
       "(array([  8.66350000e+04,   1.16500000e+03,   3.23900000e+03,\n",
       "          9.00000000e+01,   6.00000000e+00,   4.18700000e+03,\n",
       "          1.73000000e+02,   2.44100000e+03,   2.03000000e+03,\n",
       "          3.40000000e+01]),\n",
       " array([  1. ,   2.4,   3.8,   5.2,   6.6,   8. ,   9.4,  10.8,  12.2,\n",
       "         13.6,  15. ]),\n",
       " <a list of 10 Patch objects>)"
      ]
     },
     "execution_count": 55,
     "metadata": {},
     "output_type": "execute_result"
    },
    {
     "data": {
      "image/png": "[encoded data removed]",
      "text/plain": [
       "<Figure size 432x288 with 1 Axes>"
      ]
     },
     "metadata": {},
     "output_type": "display_data"
    }
   ],
   "source": [
    "# Health State Outcomes\n",
    "hist(np.array([i.state.value for i in individuals]))"
   ]
  },
  {
   "cell_type": "code",
   "execution_count": 56,
   "metadata": {},
   "outputs": [
    {
     "data": {
      "text/plain": [
       "(15,)"
      ]
     },
     "execution_count": 56,
     "metadata": {},
     "output_type": "execute_result"
    }
   ],
   "source": [
    "prev_states = np.array([i.previous_states[-1].value for i in individuals if i.state.value == 11])\n",
    "prev_states.shape\n"
   ]
  },
  {
   "cell_type": "code",
   "execution_count": 57,
   "metadata": {},
   "outputs": [
    {
     "data": {
      "text/plain": [
       "(array([ 9.,  0.,  0.,  1.,  0.,  0.,  3.,  0.,  0.,  2.]),\n",
       " array([ 1. ,  1.3,  1.6,  1.9,  2.2,  2.5,  2.8,  3.1,  3.4,  3.7,  4. ]),\n",
       " <a list of 10 Patch objects>)"
      ]
     },
     "execution_count": 57,
     "metadata": {},
     "output_type": "execute_result"
    },
    {
     "data": {
      "image/png": "[encoded data removed]",
      "text/plain": [
       "<Figure size 432x288 with 1 Axes>"
      ]
     },
     "metadata": {},
     "output_type": "display_data"
    }
   ],
   "source": [
    "hist(prev_states)"
   ]
  },
  {
   "cell_type": "code",
   "execution_count": 58,
   "metadata": {},
   "outputs": [
    {
     "name": "stdout",
     "output_type": "stream",
     "text": [
      "QALY: 1873007.15631068\n",
      "Costs: 7802581936.587476\n",
      "QALY Diff: 0.93650357815534\n"
     ]
    }
   ],
   "source": [
    "QALYs = sum(np.array([i.qalys for i in individuals]))\n",
    "costs = sum(np.array([i.costs for i in individuals]))\n",
    "print(f'QALY: {QALYs}')\n",
    "print(f'Costs: {costs}')\n",
    "print(f'QALY Diff: {QALYs / (individual_count * 20)}')"
   ]
  },
  {
   "cell_type": "code",
   "execution_count": 59,
   "metadata": {},
   "outputs": [
    {
     "data": {
      "text/plain": [
       "(array([  5.22300000e+03,   6.00000000e+00,   7.50000000e+01,\n",
       "          1.00000000e+00,   0.00000000e+00,   3.70000000e+01,\n",
       "          0.00000000e+00,   1.00000000e+00,   6.00000000e+00,\n",
       "          2.00000000e+00]),\n",
       " array([  1. ,   2.4,   3.8,   5.2,   6.6,   8. ,   9.4,  10.8,  12.2,\n",
       "         13.6,  15. ]),\n",
       " <a list of 10 Patch objects>)"
      ]
     },
     "execution_count": 59,
     "metadata": {},
     "output_type": "execute_result"
    },
    {
     "data": {
      "image/png": "[encoded data removed]",
      "text/plain": [
       "<Figure size 432x288 with 1 Axes>"
      ]
     },
     "metadata": {},
     "output_type": "display_data"
    }
   ],
   "source": [
    "hist(\n",
    "    np.array([i.state.value for i in individuals if len(i.procedures) == 14]))\n"
   ]
  },
  {
   "cell_type": "code",
   "execution_count": 60,
   "metadata": {},
   "outputs": [
    {
     "data": {
      "text/plain": [
       "(array([   114.,    377.,    417.,    486.,    519.,    367.,    489.,\n",
       "           518.,    527.,  96186.]),\n",
       " array([ 51. ,  52.9,  54.8,  56.7,  58.6,  60.5,  62.4,  64.3,  66.2,\n",
       "         68.1,  70. ]),\n",
       " <a list of 10 Patch objects>)"
      ]
     },
     "execution_count": 60,
     "metadata": {},
     "output_type": "execute_result"
    },
    {
     "data": {
      "image/png": "[encoded data removed]",
      "text/plain": [
       "<Figure size 432x288 with 1 Axes>"
      ]
     },
     "metadata": {},
     "output_type": "display_data"
    }
   ],
   "source": [
    "hist(\n",
    "    np.array([i.age for i in individuals]))"
   ]
  },
  {
   "cell_type": "code",
   "execution_count": 61,
   "metadata": {},
   "outputs": [
    {
     "data": {
      "text/plain": [
       "78025.81936"
      ]
     },
     "execution_count": 61,
     "metadata": {},
     "output_type": "execute_result"
    }
   ],
   "source": [
    "7_802_581_936 / 100000"
   ]
  },
  {
   "cell_type": "markdown",
   "metadata": {},
   "source": [
    "## Sensitivity Analysis for GFOBT Compliance Rates"
   ]
  },
  {
   "cell_type": "code",
   "execution_count": 20,
   "metadata": {
    "scrolled": true
   },
   "outputs": [
    {
     "name": "stdout",
     "output_type": "stream",
     "text": [
      "Sim 1 - QALYs: 1723332.059223301 - Costs: 2997036972.6205826\n",
      "Sim 2 - QALYs: 1726688.7300970873 - Costs: 3033199027.919223\n",
      "Sim 3 - QALYs: 1730531.2737864077 - Costs: 3073242797.968641\n",
      "Sim 4 - QALYs: 1734472.7999999998 - Costs: 3070536195.3594174\n",
      "Sim 5 - QALYs: 1735254.6024271843 - Costs: 3086747286.794854\n",
      "Sim 6 - QALYs: 1739067.3563106793 - Costs: 3078835725.896311\n",
      "Sim 7 - QALYs: 1741028.9970873783 - Costs: 3096641154.167281\n",
      "Sim 8 - QALYs: 1743203.5742718447 - Costs: 3102196660.7472816\n",
      "Sim 9 - QALYs: 1745595.6985436892 - Costs: 3111792623.0447574\n",
      "Sim 10 - QALYs: 1747609.8067961163 - Costs: 3078185324.683398\n",
      "Sim 11 - QALYs: 1748863.8592233008 - Costs: 3097427525.2825236\n",
      "Sim 12 - QALYs: 1751495.9703883494 - Costs: 3100252419.910097\n",
      "Sim 13 - QALYs: 1751827.9733009709 - Costs: 3061851914.8818445\n",
      "Sim 14 - QALYs: 1754310.445145631 - Costs: 3083629893.147281\n",
      "Sim 15 - QALYs: 1755699.1033980583 - Costs: 3099748745.6784463\n",
      "Sim 16 - QALYs: 1755254.4446601938 - Costs: 3067414748.4962134\n",
      "Sim 17 - QALYs: 1755987.1917475723 - Costs: 3085765177.0953393\n",
      "Sim 18 - QALYs: 1757271.386893204 - Costs: 3073323312.5456305\n",
      "Sim 19 - QALYs: 1758660.995631068 - Costs: 3084081725.5594172\n",
      "Sim 20 - QALYs: 1758383.6640776698 - Costs: 3080441624.5677667\n",
      "Sim 21 - QALYs: 1760902.367961165 - Costs: 3065950065.6070867\n",
      "Sim 22 - QALYs: 1759475.7873786408 - Costs: 3071523623.816019\n",
      "Sim 23 - QALYs: 1759224.4140776696 - Costs: 3059215003.424271\n",
      "Sim 24 - QALYs: 1760523.5805825242 - Costs: 3046569378.9199023\n",
      "Sim 25 - QALYs: 1760690.7805825244 - Costs: 3016020178.030291\n",
      "Sim 26 - QALYs: 1763579.772330097 - Costs: 3047708247.199709\n",
      "Sim 27 - QALYs: 1763456.045631068 - Costs: 3037212869.229126\n",
      "Sim 28 - QALYs: 1764581.4631067957 - Costs: 3019259237.5266023\n",
      "Sim 29 - QALYs: 1763141.076699029 - Costs: 2997084594.8460193\n",
      "Sim 30 - QALYs: 1764515.4786407768 - Costs: 3009814947.1699033\n",
      "Sim 31 - QALYs: 1765466.773786408 - Costs: 3012085240.468252\n",
      "Sim 32 - QALYs: 1766937.0417475728 - Costs: 3018381069.9216504\n",
      "Sim 33 - QALYs: 1767220.9029126216 - Costs: 2994059503.4738836\n",
      "Sim 34 - QALYs: 1765887.5606796115 - Costs: 3024503551.2179604\n",
      "Sim 35 - QALYs: 1766989.0927184466 - Costs: 3025714928.822816\n",
      "Sim 36 - QALYs: 1767227.260194175 - Costs: 2995674155.4215527\n",
      "Sim 37 - QALYs: 1764949.7388349513 - Costs: 2990339945.6136894\n",
      "Sim 38 - QALYs: 1767007.2101941744 - Costs: 2974937711.313689\n",
      "Sim 39 - QALYs: 1768116.2917475728 - Costs: 2975617750.49398\n",
      "Sim 40 - QALYs: 1768426.7927184463 - Costs: 2969215718.2865047\n",
      "Sim 41 - QALYs: 1765671.2184466019 - Costs: 3000783707.753495\n",
      "Sim 42 - QALYs: 1770108.6009708736 - Costs: 2969306926.2836895\n",
      "Sim 43 - QALYs: 1768326.2466019415 - Costs: 2960230221.4182525\n",
      "Sim 44 - QALYs: 1769026.477184466 - Costs: 2948439047.732039\n",
      "Sim 45 - QALYs: 1770138.5762135924 - Costs: 2961756710.5505824\n",
      "Sim 46 - QALYs: 1770521.888349515 - Costs: 2975268805.1009707\n",
      "Sim 47 - QALYs: 1769151.13592233 - Costs: 2970714575.6550484\n",
      "Sim 48 - QALYs: 1771328.327669903 - Costs: 2939161377.32631\n",
      "Sim 49 - QALYs: 1771014.3257281552 - Costs: 2964661275.8606796\n",
      "Sim 50 - QALYs: 1770674.6839805825 - Costs: 2941317529.3405824\n",
      "Sim 51 - QALYs: 1771080.353883495 - Costs: 2954840623.057087\n",
      "Sim 52 - QALYs: 1770715.0174757282 - Costs: 2954177154.9844666\n",
      "Sim 53 - QALYs: 1769857.077184466 - Costs: 2949232413.3403883\n",
      "Sim 54 - QALYs: 1769719.8427184466 - Costs: 2930681520.727185\n",
      "Sim 55 - QALYs: 1772655.0995145636 - Costs: 2923192774.6783495\n",
      "Sim 56 - QALYs: 1770953.9742718448 - Costs: 2949860445.0742717\n",
      "Sim 57 - QALYs: 1773323.603883495 - Costs: 2950554320.8478646\n",
      "Sim 58 - QALYs: 1771534.1800970873 - Costs: 2933610974.4361167\n",
      "Sim 59 - QALYs: 1771000.013592233 - Costs: 2919350420.365048\n",
      "Sim 60 - QALYs: 1771018.231553398 - Costs: 2927087623.244563\n",
      "Sim 61 - QALYs: 1773381.5898058251 - Costs: 2940219782.887573\n",
      "Sim 62 - QALYs: 1774123.7077669904 - Costs: 2928584158.986796\n",
      "Sim 63 - QALYs: 1772098.977184466 - Costs: 2895885465.7724266\n",
      "Sim 64 - QALYs: 1773457.596116505 - Costs: 2923097857.987184\n",
      "Sim 65 - QALYs: 1773823.0558252425 - Costs: 2914077534.3237863\n",
      "Sim 66 - QALYs: 1771545.996601942 - Costs: 2901649728.658641\n",
      "Sim 67 - QALYs: 1772673.6300970872 - Costs: 2915531682.828738\n",
      "Sim 68 - QALYs: 1772785.6194174753 - Costs: 2914677810.1165047\n",
      "Sim 69 - QALYs: 1774518.6742718446 - Costs: 2934214308.2091255\n",
      "Sim 70 - QALYs: 1773792.8417475729 - Costs: 2912562471.299709\n",
      "Sim 71 - QALYs: 1774944.5135922334 - Costs: 2917425808.7421355\n",
      "Sim 72 - QALYs: 1774935.5417475726 - Costs: 2906662716.472621\n",
      "Sim 73 - QALYs: 1773786.650485437 - Costs: 2906591321.1837864\n",
      "Sim 74 - QALYs: 1775385.999029126 - Costs: 2901763196.0118446\n",
      "Sim 75 - QALYs: 1774682.150485437 - Costs: 2916167239.322427\n",
      "Sim 76 - QALYs: 1774477.0456310678 - Costs: 2883591639.151262\n",
      "Sim 77 - QALYs: 1773671.3097087375 - Costs: 2912006574.583592\n",
      "Sim 78 - QALYs: 1774700.951456311 - Costs: 2901943901.8922324\n",
      "Sim 79 - QALYs: 1775440.4189320386 - Costs: 2884587134.251262\n",
      "Sim 80 - QALYs: 1774608.9422330097 - Costs: 2923830667.1706796\n",
      "Sim 81 - QALYs: 1773466.3184466017 - Costs: 2911827677.1281548\n",
      "Sim 82 - QALYs: 1774342.6601941746 - Costs: 2903389968.126893\n",
      "Sim 83 - QALYs: 1774749.4674757281 - Costs: 2879320218.7044654\n",
      "Sim 84 - QALYs: 1774183.645631068 - Costs: 2891081228.2264075\n",
      "Sim 85 - QALYs: 1775779.1276699028 - Costs: 2891258640.2671843\n",
      "Sim 86 - QALYs: 1775785.6645631066 - Costs: 2889462132.4655347\n",
      "Sim 87 - QALYs: 1774446.831553398 - Costs: 2918568415.6361165\n",
      "Sim 88 - QALYs: 1776356.4344660195 - Costs: 2894688785.790291\n",
      "Sim 89 - QALYs: 1773458.6077669903 - Costs: 2890227108.6039805\n",
      "Sim 90 - QALYs: 1775418.249029126 - Costs: 2912420659.9268928\n",
      "Sim 91 - QALYs: 1775275.3611650486 - Costs: 2886755024.4198055\n",
      "Sim 92 - QALYs: 1775060.2436893205 - Costs: 2864394117.949417\n",
      "Sim 93 - QALYs: 1774708.4398058252 - Costs: 2896702764.0963106\n",
      "Sim 94 - QALYs: 1775587.5252427184 - Costs: 2893275602.5279613\n",
      "Sim 95 - QALYs: 1773773.2242718446 - Costs: 2887594394.0390296\n",
      "Sim 96 - QALYs: 1776512.4072815531 - Costs: 2904340745.793689\n",
      "Sim 97 - QALYs: 1775447.6519417476 - Costs: 2891279484.7254367\n",
      "Sim 98 - QALYs: 1775754.3252427184 - Costs: 2888199661.1156306\n",
      "Sim 99 - QALYs: 1775351.650970874 - Costs: 2880590775.0354366\n"
     ]
    }
   ],
   "source": [
    "individual_sensitivity_qalys = np.array([])\n",
    "individual_sensitivity_costs = np.array([])\n",
    "\n",
    "# Simulate!\n",
    "for compliance_rate in range(1, 100):\n",
    "    individual_count = 100000\n",
    "    rand_individual_state_gen = RandomCVGenerator()\n",
    "    rand_individual_sex_gen = RandomCVGenerator(724)\n",
    "\n",
    "    individuals = [Individual(next(rand_individual_state_gen), next(rand_individual_sex_gen),\n",
    "                              init_states_prob=health_prevalence_rate) for _ in range(individual_count)]\n",
    "    sim_gen = RandomCVGenerator()\n",
    "    for k in range(20):\n",
    "        for i in individuals:\n",
    "            FOBT_screening(i, sim_gen, compliance_rate/100, 1, Procedure.GFOBT)\n",
    "    individual_sensitivity_qalys = np.append(individual_sensitivity_qalys, \n",
    "                                           sum(np.array([i.qalys for i in individuals])))\n",
    "    individual_sensitivity_costs = np.append(individual_sensitivity_costs, \n",
    "                                           sum(np.array([i.costs for i in individuals])))\n",
    "    \n",
    "    print(f'Sim {compliance_rate} - '\\\n",
    "          f'QALYs: {sum(np.array([i.qalys for i in individuals]))} - '\\\n",
    "          f'Costs: {sum(np.array([i.costs for i in individuals]))}')"
   ]
  },
  {
   "cell_type": "code",
   "execution_count": 25,
   "metadata": {},
   "outputs": [
    {
     "data": {
      "text/plain": [
       "[<matplotlib.lines.Line2D at 0x7f602e58bdd8>]"
      ]
     },
     "execution_count": 25,
     "metadata": {},
     "output_type": "execute_result"
    },
    {
     "data": {
      "image/png": "[encoded data removed]",
      "text/plain": [
       "<Figure size 432x288 with 1 Axes>"
      ]
     },
     "metadata": {},
     "output_type": "display_data"
    }
   ],
   "source": [
    "plot(range(1,100), individual_sensitivity_qalys)"
   ]
  },
  {
   "cell_type": "code",
   "execution_count": 26,
   "metadata": {},
   "outputs": [
    {
     "data": {
      "text/plain": [
       "[<matplotlib.lines.Line2D at 0x7f602ca4a8d0>]"
      ]
     },
     "execution_count": 26,
     "metadata": {},
     "output_type": "execute_result"
    },
    {
     "data": {
      "image/png": "[encoded data removed]",
      "text/plain": [
       "<Figure size 432x288 with 1 Axes>"
      ]
     },
     "metadata": {},
     "output_type": "display_data"
    }
   ],
   "source": [
    "plot(range(1,100), individual_sensitivity_costs)"
   ]
  },
  {
   "cell_type": "code",
   "execution_count": 27,
   "metadata": {},
   "outputs": [],
   "source": [
    "from statsmodels.tsa.filters.hp_filter import hpfilter"
   ]
  },
  {
   "cell_type": "code",
   "execution_count": 29,
   "metadata": {},
   "outputs": [
    {
     "data": {
      "text/plain": [
       "[<matplotlib.lines.Line2D at 0x7f602f060b00>]"
      ]
     },
     "execution_count": 29,
     "metadata": {},
     "output_type": "execute_result"
    },
    {
     "data": {
      "image/png": "[encoded data removed]",
      "text/plain": [
       "<Figure size 432x288 with 1 Axes>"
      ]
     },
     "metadata": {},
     "output_type": "display_data"
    }
   ],
   "source": [
    "plot(range(1, 100), hpfilter(individual_sensitivity_qalys, lamb=100*52**2 )[1])"
   ]
  },
  {
   "cell_type": "code",
   "execution_count": 30,
   "metadata": {
    "scrolled": false
   },
   "outputs": [
    {
     "data": {
      "text/plain": [
       "[<matplotlib.lines.Line2D at 0x7f602cce1da0>]"
      ]
     },
     "execution_count": 30,
     "metadata": {},
     "output_type": "execute_result"
    },
    {
     "data": {
      "image/png": "[encoded data removed]",
      "text/plain": [
       "<Figure size 432x288 with 1 Axes>"
      ]
     },
     "metadata": {},
     "output_type": "display_data"
    }
   ],
   "source": [
    "plot(range(1, 100), hpfilter(individual_sensitivity_costs, lamb=100*52**2)[1])"
   ]
  },
  {
   "cell_type": "markdown",
   "metadata": {},
   "source": [
    "## Sensitivity Analysis for FIT Compliance Rates"
   ]
  },
  {
   "cell_type": "code",
   "execution_count": 31,
   "metadata": {
    "scrolled": true
   },
   "outputs": [
    {
     "name": "stdout",
     "output_type": "stream",
     "text": [
      "Sim 1 - QALYs: 1723137.2558252427 - Costs: 2960404600.64\n",
      "Sim 2 - QALYs: 1728025.3538834949 - Costs: 3031064839.4803886\n",
      "Sim 3 - QALYs: 1730602.6116504853 - Costs: 2996428471.3912625\n",
      "Sim 4 - QALYs: 1735190.3752427183 - Costs: 2990292258.4176702\n",
      "Sim 5 - QALYs: 1735381.6650485434 - Costs: 2946625165.553495\n",
      "Sim 6 - QALYs: 1738544.5291262139 - Costs: 2955898210.8224277\n",
      "Sim 7 - QALYs: 1741898.653883495 - Costs: 2967621071.940291\n",
      "Sim 8 - QALYs: 1742921.6742718446 - Costs: 2951247395.2441745\n",
      "Sim 9 - QALYs: 1745272.6247572817 - Costs: 2968015728.4166017\n",
      "Sim 10 - QALYs: 1749593.4543689315 - Costs: 2966599914.9007773\n",
      "Sim 11 - QALYs: 1750039.0558252428 - Costs: 2946556551.5566998\n",
      "Sim 12 - QALYs: 1754436.4150485434 - Costs: 2958776424.328156\n",
      "Sim 13 - QALYs: 1754044.077184466 - Costs: 2979407527.578544\n",
      "Sim 14 - QALYs: 1754894.7582524277 - Costs: 2952559417.075631\n",
      "Sim 15 - QALYs: 1755470.9480582525 - Costs: 2950495831.4396114\n",
      "Sim 16 - QALYs: 1757216.5271844657 - Costs: 2955993069.3513584\n",
      "Sim 17 - QALYs: 1758947.762135922 - Costs: 2961054015.802913\n",
      "Sim 18 - QALYs: 1759983.1611650486 - Costs: 2941468661.6116505\n",
      "Sim 19 - QALYs: 1760622.8058252425 - Costs: 2934313170.6776695\n",
      "Sim 20 - QALYs: 1761999.4631067957 - Costs: 2959830440.7575727\n",
      "Sim 21 - QALYs: 1763779.2820388346 - Costs: 2962698035.278932\n",
      "Sim 22 - QALYs: 1763951.3601941746 - Costs: 2962314374.7456317\n",
      "Sim 23 - QALYs: 1765956.2563106795 - Costs: 2940013560.9144664\n",
      "Sim 24 - QALYs: 1766197.181067961 - Costs: 2929124406.474272\n",
      "Sim 25 - QALYs: 1765046.9067961164 - Costs: 2931910308.4307766\n",
      "Sim 26 - QALYs: 1766408.322815534 - Costs: 2964593965.3976703\n",
      "Sim 27 - QALYs: 1768637.1475728154 - Costs: 2934118333.989417\n",
      "Sim 28 - QALYs: 1769356.4330097088 - Costs: 2942105198.9622326\n",
      "Sim 29 - QALYs: 1768249.8499999999 - Costs: 2931451112.250194\n",
      "Sim 30 - QALYs: 1767591.1223300968 - Costs: 2932672905.3408732\n",
      "Sim 31 - QALYs: 1768785.6873786405 - Costs: 2933460724.1407766\n",
      "Sim 32 - QALYs: 1770595.6514563106 - Costs: 2945931620.4602914\n",
      "Sim 33 - QALYs: 1770862.1097087378 - Costs: 2941918303.7230096\n",
      "Sim 34 - QALYs: 1772822.5713592235 - Costs: 2942001171.1110682\n",
      "Sim 35 - QALYs: 1769326.47815534 - Costs: 2931602155.600971\n",
      "Sim 36 - QALYs: 1771452.1325242717 - Costs: 2925261300.2251453\n",
      "Sim 37 - QALYs: 1772025.7995145633 - Costs: 2956007740.8141747\n",
      "Sim 38 - QALYs: 1773106.0669902912 - Costs: 2937754926.681262\n",
      "Sim 39 - QALYs: 1774692.1936893202 - Costs: 2942120669.2471848\n",
      "Sim 40 - QALYs: 1773918.7247572818 - Costs: 2955787493.119515\n",
      "Sim 41 - QALYs: 1773938.0077669902 - Costs: 2925668328.134272\n",
      "Sim 42 - QALYs: 1774872.626699029 - Costs: 2916033039.306893\n",
      "Sim 43 - QALYs: 1775234.0728155342 - Costs: 2937815898.941359\n",
      "Sim 44 - QALYs: 1775748.8135922332 - Costs: 2933908358.503204\n",
      "Sim 45 - QALYs: 1775952.182038835 - Costs: 2930330451.9340777\n",
      "Sim 46 - QALYs: 1774963.523300971 - Costs: 2915034785.3488345\n",
      "Sim 47 - QALYs: 1777514.5330097089 - Costs: 2935138728.035437\n",
      "Sim 48 - QALYs: 1774641.0917475724 - Costs: 2933774873.4417477\n",
      "Sim 49 - QALYs: 1774860.0985436894 - Costs: 2928374118.0772815\n",
      "Sim 50 - QALYs: 1777612.77815534 - Costs: 2925629812.6466985\n",
      "Sim 51 - QALYs: 1776279.3000000005 - Costs: 2915536086.918253\n",
      "Sim 52 - QALYs: 1777154.951456311 - Costs: 2958312691.4971843\n",
      "Sim 53 - QALYs: 1776445.8383495144 - Costs: 2937168962.117378\n",
      "Sim 54 - QALYs: 1777437.732038835 - Costs: 2941480084.618447\n",
      "Sim 55 - QALYs: 1777112.9966019418 - Costs: 2908405560.095145\n",
      "Sim 56 - QALYs: 1777982.8038834948 - Costs: 2925711899.201068\n",
      "Sim 57 - QALYs: 1776169.9126213593 - Costs: 2909242201.76\n",
      "Sim 58 - QALYs: 1777258.4014563106 - Costs: 2929555496.134757\n",
      "Sim 59 - QALYs: 1778587.5427184463 - Costs: 2931617052.351456\n",
      "Sim 60 - QALYs: 1778684.0563106802 - Costs: 2944026490.742622\n",
      "Sim 61 - QALYs: 1777939.6427184462 - Costs: 2940186083.7848544\n",
      "Sim 62 - QALYs: 1778625.1980582522 - Costs: 2917306853.097767\n",
      "Sim 63 - QALYs: 1778732.027669903 - Costs: 2907140474.4186406\n",
      "Sim 64 - QALYs: 1780380.295631068 - Costs: 2928506313.5328155\n",
      "Sim 65 - QALYs: 1781316.01407767 - Costs: 2914758842.037961\n",
      "Sim 66 - QALYs: 1780351.9087378643 - Costs: 2923497870.9035926\n",
      "Sim 67 - QALYs: 1779678.4500000002 - Costs: 2928989439.106407\n",
      "Sim 68 - QALYs: 1780566.1402912622 - Costs: 2912710670.648738\n",
      "Sim 69 - QALYs: 1780774.6228155342 - Costs: 2928210663.909709\n",
      "Sim 70 - QALYs: 1781695.5640776698 - Costs: 2924716761.2160187\n",
      "Sim 71 - QALYs: 1782856.2218446604 - Costs: 2917638407.788932\n",
      "Sim 72 - QALYs: 1779536.8330097091 - Costs: 2900724670.155728\n",
      "Sim 73 - QALYs: 1782771.8650485438 - Costs: 2911829189.2892237\n",
      "Sim 74 - QALYs: 1782284.841262136 - Costs: 2905250171.5004854\n",
      "Sim 75 - QALYs: 1782748.3558252428 - Costs: 2917366092.4812613\n",
      "Sim 76 - QALYs: 1782533.27184466 - Costs: 2925849413.296796\n",
      "Sim 77 - QALYs: 1783179.0504854368 - Costs: 2906841527.296117\n",
      "Sim 78 - QALYs: 1782001.3223300972 - Costs: 2935909236.6160197\n",
      "Sim 79 - QALYs: 1782825.1325242717 - Costs: 2912723927.0059223\n",
      "Sim 80 - QALYs: 1780853.0344660196 - Costs: 2929249179.9107766\n",
      "Sim 81 - QALYs: 1782259.8660194175 - Costs: 2914363955.2203884\n",
      "Sim 82 - QALYs: 1783858.2101941747 - Costs: 2932690950.205048\n",
      "Sim 83 - QALYs: 1783237.9655339802 - Costs: 2942406778.932524\n",
      "Sim 84 - QALYs: 1783641.2878640778 - Costs: 2927337198.237282\n",
      "Sim 85 - QALYs: 1781761.1660194173 - Costs: 2891085898.975631\n",
      "Sim 86 - QALYs: 1781773.1577669904 - Costs: 2898081910.3878636\n",
      "Sim 87 - QALYs: 1783587.3563106798 - Costs: 2924998043.7967973\n",
      "Sim 88 - QALYs: 1783210.300485437 - Costs: 2907967294.791262\n",
      "Sim 89 - QALYs: 1785120.9461165045 - Costs: 2929478605.2785435\n",
      "Sim 90 - QALYs: 1785228.5592233012 - Costs: 2945582559.284757\n",
      "Sim 91 - QALYs: 1785196.3635922333 - Costs: 2902246117.189514\n",
      "Sim 92 - QALYs: 1783897.3325242714 - Costs: 2913655251.62466\n",
      "Sim 93 - QALYs: 1785190.0902912621 - Costs: 2894738213.066699\n",
      "Sim 94 - QALYs: 1783903.2184466014 - Costs: 2883155059.055825\n",
      "Sim 95 - QALYs: 1784002.4383495147 - Costs: 2919363133.7471843\n",
      "Sim 96 - QALYs: 1784216.5131067957 - Costs: 2898685865.5952425\n",
      "Sim 97 - QALYs: 1783203.2087378642 - Costs: 2912907623.2039804\n",
      "Sim 98 - QALYs: 1785326.4956310675 - Costs: 2914473165.947087\n",
      "Sim 99 - QALYs: 1784728.523786408 - Costs: 2905340173.1670876\n"
     ]
    }
   ],
   "source": [
    "individual_sensitivity_qalys = np.array([])\n",
    "individual_sensitivity_costs = np.array([])\n",
    "\n",
    "# Simulate!\n",
    "for compliance_rate in range(1, 100):\n",
    "    individual_count = 100000\n",
    "    rand_individual_state_gen = RandomCVGenerator()\n",
    "    rand_individual_sex_gen = RandomCVGenerator(724)\n",
    "\n",
    "    individuals = [Individual(next(rand_individual_state_gen), next(rand_individual_sex_gen),\n",
    "                              init_states_prob=health_prevalence_rate) for _ in range(individual_count)]\n",
    "    sim_gen = RandomCVGenerator()\n",
    "    for k in range(20):\n",
    "        for i in individuals:\n",
    "            FOBT_screening(i, sim_gen, compliance_rate/100, 1, Procedure.FIT)\n",
    "    individual_sensitivity_qalys = np.append(individual_sensitivity_qalys, \n",
    "                                           sum(np.array([i.qalys for i in individuals])))\n",
    "    individual_sensitivity_costs = np.append(individual_sensitivity_costs, \n",
    "                                           sum(np.array([i.costs for i in individuals])))\n",
    "    \n",
    "    print(f'Sim {compliance_rate} - '\\\n",
    "          f'QALYs: {sum(np.array([i.qalys for i in individuals]))} - '\\\n",
    "          f'Costs: {sum(np.array([i.costs for i in individuals]))}')"
   ]
  },
  {
   "cell_type": "code",
   "execution_count": 32,
   "metadata": {},
   "outputs": [
    {
     "data": {
      "text/plain": [
       "[<matplotlib.lines.Line2D at 0x7f602cb5fdd8>]"
      ]
     },
     "execution_count": 32,
     "metadata": {},
     "output_type": "execute_result"
    },
    {
     "data": {
      "image/png": "[encoded data removed]",
      "text/plain": [
       "<Figure size 432x288 with 1 Axes>"
      ]
     },
     "metadata": {},
     "output_type": "display_data"
    }
   ],
   "source": [
    "plot(range(1,100), individual_sensitivity_qalys)"
   ]
  },
  {
   "cell_type": "code",
   "execution_count": 33,
   "metadata": {},
   "outputs": [
    {
     "data": {
      "text/plain": [
       "[<matplotlib.lines.Line2D at 0x7f602f0604e0>]"
      ]
     },
     "execution_count": 33,
     "metadata": {},
     "output_type": "execute_result"
    },
    {
     "data": {
      "image/png": "[encoded data removed]",
      "text/plain": [
       "<Figure size 432x288 with 1 Axes>"
      ]
     },
     "metadata": {},
     "output_type": "display_data"
    }
   ],
   "source": [
    "plot(range(1,100), individual_sensitivity_costs)"
   ]
  },
  {
   "cell_type": "code",
   "execution_count": 34,
   "metadata": {},
   "outputs": [],
   "source": [
    "from statsmodels.tsa.filters.hp_filter import hpfilter"
   ]
  },
  {
   "cell_type": "code",
   "execution_count": 35,
   "metadata": {},
   "outputs": [
    {
     "data": {
      "text/plain": [
       "[<matplotlib.lines.Line2D at 0x7f602cc62a58>]"
      ]
     },
     "execution_count": 35,
     "metadata": {},
     "output_type": "execute_result"
    },
    {
     "data": {
      "image/png": "[encoded data removed]",
      "text/plain": [
       "<Figure size 432x288 with 1 Axes>"
      ]
     },
     "metadata": {},
     "output_type": "display_data"
    }
   ],
   "source": [
    "plot(range(1, 100), hpfilter(individual_sensitivity_qalys, lamb=100*52**2 )[1])"
   ]
  },
  {
   "cell_type": "code",
   "execution_count": 36,
   "metadata": {
    "scrolled": false
   },
   "outputs": [
    {
     "data": {
      "text/plain": [
       "[<matplotlib.lines.Line2D at 0x7f602f8eb518>]"
      ]
     },
     "execution_count": 36,
     "metadata": {},
     "output_type": "execute_result"
    },
    {
     "data": {
      "image/png": "[encoded data removed]",
      "text/plain": [
       "<Figure size 432x288 with 1 Axes>"
      ]
     },
     "metadata": {},
     "output_type": "display_data"
    }
   ],
   "source": [
    "plot(range(1, 100), hpfilter(individual_sensitivity_costs, lamb=100*52**2)[1])"
   ]
  },
  {
   "cell_type": "code",
   "execution_count": 49,
   "metadata": {},
   "outputs": [
    {
     "data": {
      "text/plain": [
       "[<matplotlib.lines.Line2D at 0x7f602f09dcc0>]"
      ]
     },
     "execution_count": 49,
     "metadata": {},
     "output_type": "execute_result"
    },
    {
     "data": {
      "image/png": "[encoded data removed]",
      "text/plain": [
       "<Figure size 432x288 with 1 Axes>"
      ]
     },
     "metadata": {},
     "output_type": "display_data"
    }
   ],
   "source": [
    "plot(range(1, 100), hpfilter(individual_sensitivity_qalys, lamb=100*15**2)[1])"
   ]
  },
  {
   "cell_type": "code",
   "execution_count": null,
   "metadata": {},
   "outputs": [],
   "source": []
  },
  {
   "cell_type": "code",
   "execution_count": null,
   "metadata": {},
   "outputs": [],
   "source": []
  }
 ],
 "metadata": {
  "kernelspec": {
   "display_name": "Python 3",
   "language": "python",
   "name": "python3"
  },
  "language_info": {
   "codemirror_mode": {
    "name": "ipython",
    "version": 3
   },
   "file_extension": ".py",
   "mimetype": "text/x-python",
   "name": "python",
   "nbconvert_exporter": "python",
   "pygments_lexer": "ipython3",
   "version": "3.6.4"
  }
 },
 "nbformat": 4,
 "nbformat_minor": 2
}
