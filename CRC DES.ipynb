{
 "cells": [
  {
   "cell_type": "code",
   "execution_count": 63,
   "metadata": {},
   "outputs": [
    {
     "name": "stdout",
     "output_type": "stream",
     "text": [
      "Populating the interactive namespace from numpy and matplotlib\n"
     ]
    }
   ],
   "source": [
    "%pylab inline"
   ]
  },
  {
   "cell_type": "code",
   "execution_count": 64,
   "metadata": {},
   "outputs": [],
   "source": [
    "from collections import Generator\n",
    "from enum import Enum, auto\n",
    "import pandas as pd\n",
    "import seaborn as sns"
   ]
  },
  {
   "cell_type": "markdown",
   "metadata": {},
   "source": [
    "## Simulation States"
   ]
  },
  {
   "cell_type": "code",
   "execution_count": 65,
   "metadata": {},
   "outputs": [],
   "source": [
    "class HealthState(Enum):\n",
    "    NORMAL = 1\n",
    "    LOW_RISK_POLYP = 2\n",
    "    HIGH_RISK_POLYP = 3\n",
    "    CRC_STAGE1 = 5\n",
    "    CRC_STAGE2 = 6\n",
    "    CRC_STAGE3 = 7\n",
    "    CRC_STAGE4 = 8\n",
    "    DEATH_OTHER_CAUSES = 9\n",
    "    DEATH_CRC = 10\n",
    "    DEATH_FROM_SCREENING = 11\n",
    "    TREATED_CRCSTAGE1 = 12\n",
    "    TREATED_CRCSTAGE2 = 13\n",
    "    TREATED_CRCSTAGE3 = 14\n",
    "    TREATED_CRCSTAGE4 = 15\n",
    "\n",
    "\n",
    "class Sex(Enum):\n",
    "    MALE = 1\n",
    "    FEMALE = 2\n",
    "\n",
    "\n",
    "class Procedure(Enum):\n",
    "    GFOBT = 1\n",
    "    FIT = 2\n",
    "    FIT_FS = 3\n",
    "    COLONOSCOPY = 4\n",
    "    POLYPECTOMY = 5\n",
    "    BIOPSY = 6\n",
    "    CRC_TREATMENT1 = 8\n",
    "    CRC_TREATMENT2 = 9\n",
    "    CRC_TREATMENT3 = 10\n",
    "    CRC_TREATMENT4 = 11\n"
   ]
  },
  {
   "cell_type": "markdown",
   "metadata": {},
   "source": [
    "## Parameters"
   ]
  },
  {
   "cell_type": "code",
   "execution_count": 66,
   "metadata": {},
   "outputs": [],
   "source": [
    "health_prevalence_rate = {\n",
    "    HealthState.NORMAL: 0.67227699,\n",
    "    HealthState.LOW_RISK_POLYP: 0.16927146,\n",
    "    HealthState.HIGH_RISK_POLYP: 0.11348882,\n",
    "    HealthState.CRC_STAGE1: 0.00470540,\n",
    "    HealthState.CRC_STAGE2: 0.01503115,\n",
    "    HealthState.CRC_STAGE3: 0.01638177,\n",
    "    HealthState.CRC_STAGE4: 0.00884441,\n",
    "}\n"
   ]
  },
  {
   "cell_type": "code",
   "execution_count": 67,
   "metadata": {},
   "outputs": [],
   "source": [
    "age_mortality_rate = {\n",
    "    Sex.MALE: {\n",
    "        54: 0.0076,\n",
    "        59: 0.0089,\n",
    "        64: 0.0102,\n",
    "        69: 0.0106,\n",
    "    },\n",
    "    Sex.FEMALE: {\n",
    "        54: 0.0054,\n",
    "        59: 0.0065,\n",
    "        64: 0.0077,\n",
    "        69: 0.0089,\n",
    "    }\n",
    "}\n"
   ]
  },
  {
   "cell_type": "code",
   "execution_count": 68,
   "metadata": {},
   "outputs": [],
   "source": [
    "health_state_transition_rate = {\n",
    "    HealthState.NORMAL: {\n",
    "        HealthState.LOW_RISK_POLYP: 0.0095,\n",
    "        HealthState.NORMAL: 0.9905, \n",
    "    },\n",
    "    HealthState.LOW_RISK_POLYP: {\n",
    "        HealthState.HIGH_RISK_POLYP: 0.02,\n",
    "        HealthState.LOW_RISK_POLYP: 0.98,\n",
    "    },\n",
    "    HealthState.HIGH_RISK_POLYP: {\n",
    "        HealthState.CRC_STAGE1: 0.04,\n",
    "        HealthState.CRC_STAGE2: 0.04,\n",
    "        HealthState.HIGH_RISK_POLYP: 0.92,\n",
    "    },\n",
    "    HealthState.CRC_STAGE1: {\n",
    "        HealthState.CRC_STAGE1: 0.7,\n",
    "        HealthState.CRC_STAGE2: 0.3,\n",
    "    },\n",
    "    HealthState.CRC_STAGE2: {\n",
    "        HealthState.DEATH_CRC: 0.61,\n",
    "        HealthState.CRC_STAGE2: 0.2301,\n",
    "        HealthState.CRC_STAGE3: 0.1599,\n",
    "    },\n",
    "    HealthState.CRC_STAGE3: {\n",
    "        HealthState.DEATH_CRC: 0.61,\n",
    "        HealthState.CRC_STAGE3: 0.0057,\n",
    "        HealthState.CRC_STAGE4: 0.3843,\n",
    "    },\n",
    "    HealthState.CRC_STAGE4: {\n",
    "        HealthState.DEATH_CRC: 0.5,\n",
    "        HealthState.CRC_STAGE4:0.5,\n",
    "    },\n",
    "    # Treated CRC Mortality Rate\n",
    "    HealthState.TREATED_CRCSTAGE1: {\n",
    "        HealthState.TREATED_CRCSTAGE1: 1,\n",
    "    },\n",
    "    HealthState.TREATED_CRCSTAGE2: {\n",
    "        HealthState.DEATH_CRC: 0.010,\n",
    "        HealthState.TREATED_CRCSTAGE2: 0.99,\n",
    "    },\n",
    "    HealthState.TREATED_CRCSTAGE3: {\n",
    "        HealthState.DEATH_CRC: 0.06,\n",
    "        HealthState.TREATED_CRCSTAGE3: 0.94,\n",
    "    },\n",
    "    HealthState.TREATED_CRCSTAGE4: {\n",
    "        HealthState.DEATH_CRC: 0.387,\n",
    "        HealthState.TREATED_CRCSTAGE4: 0.613\n",
    "    },\n",
    "}\n"
   ]
  },
  {
   "cell_type": "code",
   "execution_count": 69,
   "metadata": {},
   "outputs": [],
   "source": [
    "symptomatic_crc_detection_rate = {\n",
    "    HealthState.CRC_STAGE1: 0.21,\n",
    "    HealthState.CRC_STAGE2: 0.21,\n",
    "    HealthState.CRC_STAGE3: 0.525,\n",
    "    HealthState.CRC_STAGE4: 1\n",
    "}\n"
   ]
  },
  {
   "cell_type": "code",
   "execution_count": 70,
   "metadata": {},
   "outputs": [],
   "source": [
    "treatment_survival_rate = {\n",
    "    HealthState.CRC_STAGE1: 0.95,\n",
    "    HealthState.CRC_STAGE2: 0.79,\n",
    "    HealthState.CRC_STAGE3: 0.56,\n",
    "    HealthState.CRC_STAGE4: 0.0195,\n",
    "}\n"
   ]
  },
  {
   "cell_type": "code",
   "execution_count": 71,
   "metadata": {},
   "outputs": [],
   "source": [
    "utilities = {\n",
    "    HealthState.NORMAL: 1,\n",
    "    HealthState.LOW_RISK_POLYP: 0.8905,\n",
    "    HealthState.HIGH_RISK_POLYP: 0.8295,\n",
    "    HealthState.CRC_STAGE1: 0.7845,\n",
    "    HealthState.CRC_STAGE2: 0.799,\n",
    "    HealthState.CRC_STAGE3: 0.735,\n",
    "    HealthState.CRC_STAGE4: 0.491,\n",
    "    HealthState.TREATED_CRCSTAGE1: 0.7845,\n",
    "    HealthState.TREATED_CRCSTAGE2: 0.799,\n",
    "    HealthState.TREATED_CRCSTAGE3: 0.735,\n",
    "    HealthState.TREATED_CRCSTAGE4: 0.491,\n",
    "    HealthState.DEATH_OTHER_CAUSES: 0,\n",
    "    HealthState.DEATH_CRC: 0,\n",
    "    HealthState.DEATH_FROM_SCREENING: 0\n",
    "}\n",
    "\n",
    "procedure_costs = {\n",
    "    Procedure.GFOBT: 190.8731,\n",
    "    Procedure.FIT: 404.5658,\n",
    "    Procedure.FIT_FS: 4432.0871,\n",
    "    Procedure.COLONOSCOPY: 5366.965,\n",
    "    Procedure.POLYPECTOMY: 6311.9301,\n",
    "    Procedure.BIOPSY: 3450,\n",
    "    Procedure.CRC_TREATMENT1: 235_000,\n",
    "    Procedure.CRC_TREATMENT2: 320_000,\n",
    "    Procedure.CRC_TREATMENT3: 320_000,\n",
    "    Procedure.CRC_TREATMENT4: 0,\n",
    "}"
   ]
  },
  {
   "cell_type": "code",
   "execution_count": 72,
   "metadata": {},
   "outputs": [],
   "source": [
    "colonoscopy_positive_detection_rate = {\n",
    "    HealthState.NORMAL: 0.05,\n",
    "    HealthState.LOW_RISK_POLYP: 0.87,\n",
    "    HealthState.HIGH_RISK_POLYP: 0.87,\n",
    "    HealthState.CRC_STAGE1: 0.95,\n",
    "    HealthState.CRC_STAGE2: 0.95,\n",
    "    HealthState.CRC_STAGE3: 0.95,\n",
    "    HealthState.CRC_STAGE4: 0.95\n",
    "}\n",
    "\n",
    "# biopsy_polyp_positive_detection_rate = {\n",
    "#     HealthState.NORMAL: 0.3955,\n",
    "#     HealthState.LOW_RISK_POLYP: 0.6045,\n",
    "#     HealthState.HIGH_RISK_POLYP: 0.6045\n",
    "# }\n",
    "\n",
    "# Derived from Speci/Sensi/Prevalence using http://vassarstats.net/clin2.html\n",
    "screening_modalities_positive_detection_rate = {\n",
    "    Procedure.GFOBT: {\n",
    "        HealthState.NORMAL: 0.1,\n",
    "        HealthState.LOW_RISK_POLYP: 0.105,\n",
    "        HealthState.HIGH_RISK_POLYP: 0.105,\n",
    "        HealthState.CRC_STAGE1: 0.4,\n",
    "        HealthState.CRC_STAGE2: 0.4,\n",
    "        HealthState.CRC_STAGE3: 0.4,\n",
    "        HealthState.CRC_STAGE4: 0.4\n",
    "    },\n",
    "    Procedure.FIT: {\n",
    "        HealthState.NORMAL: 0.052,\n",
    "        HealthState.LOW_RISK_POLYP: 0.1405,\n",
    "        HealthState.HIGH_RISK_POLYP: 0.1405,\n",
    "        HealthState.CRC_STAGE1: 0.7,\n",
    "        HealthState.CRC_STAGE2: 0.7,\n",
    "        HealthState.CRC_STAGE3: 0.7,\n",
    "        HealthState.CRC_STAGE4: 0.7\n",
    "    },\n",
    "    Procedure.FIT_FS: {\n",
    "        HealthState.NORMAL: 0.126,\n",
    "        HealthState.LOW_RISK_POLYP: 0.7946,\n",
    "        HealthState.HIGH_RISK_POLYP: 0.7946,\n",
    "        HealthState.CRC_STAGE1: 0.971,\n",
    "        HealthState.CRC_STAGE2: 0.971,\n",
    "        HealthState.CRC_STAGE3: 0.971,\n",
    "        HealthState.CRC_STAGE4: 0.971\n",
    "    }\n",
    "}\n",
    "\n",
    "colonoscopy_mortality_rate = 0.000024\n",
    "qaly_discounting = 0.03\n",
    "cost_discounting = 0.03"
   ]
  },
  {
   "cell_type": "markdown",
   "metadata": {},
   "source": [
    "## Simulation Classes and Functions"
   ]
  },
  {
   "cell_type": "code",
   "execution_count": 73,
   "metadata": {},
   "outputs": [],
   "source": [
    "class RandomCVGenerator(Generator):\n",
    "    def __init__(self, seed=427):\n",
    "        self.seed_genX = np.random.RandomState(seed)\n",
    "\n",
    "    def send(self, stub):\n",
    "        randomX = self.seed_genX.rand()\n",
    "        return randomX\n",
    "\n",
    "    def throw(self, type=None, value=None, traceback=None):\n",
    "        raise StopIteration\n"
   ]
  },
  {
   "cell_type": "code",
   "execution_count": 74,
   "metadata": {},
   "outputs": [],
   "source": [
    "def dict_to_cumulative(d):\n",
    "    res = {}\n",
    "    for k, v in d.items():\n",
    "        res[v] = k\n",
    "    return res\n"
   ]
  },
  {
   "cell_type": "code",
   "execution_count": 75,
   "metadata": {},
   "outputs": [],
   "source": [
    "to_treated = {\n",
    "    HealthState.CRC_STAGE1: HealthState.TREATED_CRCSTAGE1,\n",
    "    HealthState.CRC_STAGE2: HealthState.TREATED_CRCSTAGE2,\n",
    "    HealthState.CRC_STAGE3: HealthState.TREATED_CRCSTAGE3,\n",
    "    HealthState.CRC_STAGE4: HealthState.TREATED_CRCSTAGE4\n",
    "}\n",
    "\n",
    "to_treatment = {\n",
    "    HealthState.CRC_STAGE1: Procedure.CRC_TREATMENT1,\n",
    "    HealthState.CRC_STAGE2: Procedure.CRC_TREATMENT2,\n",
    "    HealthState.CRC_STAGE3: Procedure.CRC_TREATMENT3,\n",
    "    HealthState.CRC_STAGE4: Procedure.CRC_TREATMENT4\n",
    "}\n"
   ]
  },
  {
   "cell_type": "code",
   "execution_count": 76,
   "metadata": {},
   "outputs": [],
   "source": [
    "class Individual(object):\n",
    "    def __init__(self, state_prob, sex_prob, init_states_prob={}):\n",
    "        self.state = self.init_health_state(state_prob, init_states_prob)\n",
    "        self.age = 50\n",
    "        self.procedures = np.array([])\n",
    "        self.previous_states = np.array([])\n",
    "        self.sex = Sex.MALE if sex_prob < 0.5 else Sex.FEMALE\n",
    "        self.qalys = 0\n",
    "        self.costs = 0\n",
    "        self.years_til_colonoscopy = 0\n",
    "        self.get_FOBT = True\n",
    "        \n",
    "        if self.state is None:\n",
    "            raise Exception('No State!')\n",
    "\n",
    "    def init_health_state(self, state_prob, states):\n",
    "        if states == {}:\n",
    "            states = {\n",
    "                HealthState.NORMAL: 0.67227699,\n",
    "                HealthState.LOW_RISK_POLYP: 0.16927146,\n",
    "                HealthState.HIGH_RISK_POLYP: 0.11348882,\n",
    "                HealthState.CRC_STAGE1: 0.00470540,\n",
    "                HealthState.CRC_STAGE2: 0.01503115,\n",
    "                HealthState.CRC_STAGE3: 0.01638177,\n",
    "                HealthState.CRC_STAGE4: 0.00884441,\n",
    "            }\n",
    "\n",
    "        # We just transpose the health states and probs\n",
    "        # to compare with the random number generated\n",
    "        states_conv = dict_to_cumulative(states)\n",
    "        prev_k = 0\n",
    "        sum_k = 0\n",
    "        for k, v in states_conv.items():\n",
    "            sum_k += k\n",
    "            if prev_k <= state_prob < sum_k:\n",
    "                return v\n",
    "            prev_k += k\n",
    "\n",
    "    @property\n",
    "    def is_dead(self):\n",
    "        if self.state == HealthState.DEATH_CRC or \\\n",
    "                self.state == HealthState.DEATH_FROM_SCREENING or \\\n",
    "                self.state == HealthState.DEATH_OTHER_CAUSES:\n",
    "            return True\n",
    "        else:\n",
    "            return False\n",
    "\n",
    "    @property\n",
    "    def is_treated(self):\n",
    "        if self.state == HealthState.TREATED_CRCSTAGE1 or \\\n",
    "                self.state == HealthState.TREATED_CRCSTAGE2 or \\\n",
    "                self.state == HealthState.TREATED_CRCSTAGE3 or \\\n",
    "                self.state == HealthState.TREATED_CRCSTAGE4:\n",
    "            return True\n",
    "        else:\n",
    "            return False\n",
    "        \n",
    "    @property\n",
    "    def has_cancer(self):\n",
    "        if self.state == HealthState.CRC_STAGE1 or \\\n",
    "                self.state == HealthState.CRC_STAGE2 or \\\n",
    "                self.state == HealthState.CRC_STAGE3 or \\\n",
    "                self.state == HealthState.CRC_STAGE4:\n",
    "            return True\n",
    "        else:\n",
    "            return False\n",
    "\n",
    "    def __str__(self):\n",
    "        return f'{self.age}: {self.state}'\n",
    "\n",
    "    def __repr__(self):\n",
    "        return self.__str__()\n"
   ]
  },
  {
   "cell_type": "markdown",
   "metadata": {},
   "source": [
    "## Screening Strategies"
   ]
  },
  {
   "cell_type": "code",
   "execution_count": 177,
   "metadata": {},
   "outputs": [],
   "source": [
    "def compute_other_mortality(individual):\n",
    "    sex_mortality = age_mortality_rate[individual.sex]\n",
    "    for k, v in sex_mortality.items():\n",
    "        if individual.age > k:\n",
    "            continue\n",
    "        else:\n",
    "            return v\n",
    "    return\n"
   ]
  },
  {
   "cell_type": "code",
   "execution_count": 178,
   "metadata": {},
   "outputs": [],
   "source": [
    "def no_screening(individual, num_gen):\n",
    "    # Check dead\n",
    "    if individual.is_dead:\n",
    "        return None\n",
    "    \n",
    "    # Record Previous State\n",
    "    individual.previous_states = np.append(\n",
    "        individual.previous_states, individual.state)\n",
    "\n",
    "    # Rates\n",
    "    symptom_rate = symptomatic_crc_detection_rate.get(individual.state)\n",
    "    asm_rate = compute_other_mortality(individual)\n",
    "\n",
    "    # Symptomatic Representation\n",
    "    if symptom_rate is not None and symptom_rate <= next(num_gen) and not individual.is_treated:\n",
    "        treatment_survival_prob = next(num_gen)\n",
    "        if treatment_survival_prob <= treatment_survival_rate[individual.state]:\n",
    "            # Get the procedure for treatment\n",
    "            proc = to_treatment[individual.state]\n",
    "            individual.procedures = np.append(\n",
    "                individual.procedures, {individual.age: proc})\n",
    "            individual.costs += procedure_costs[proc] / ((1 + cost_discounting) ** (individual.age - (individual.age - 1)))\n",
    "            # Convert to treated\n",
    "            individual.state = to_treated[individual.state]\n",
    "        else:\n",
    "            # Copy paste sadness\n",
    "            ht_rate = health_state_transition_rate[individual.state]\n",
    "            # We just transpose the health states and probs\n",
    "            # to compare with the random number generated\n",
    "            states_conv = dict_to_cumulative(ht_rate)\n",
    "            prev_k = 0\n",
    "            sum_k = 0\n",
    "            htr_prob = next(num_gen)\n",
    "            for k, v in states_conv.items():\n",
    "                sum_k += k\n",
    "                if prev_k <= htr_prob < sum_k:\n",
    "                    individual.state = v\n",
    "                prev_k += k\n",
    "\n",
    "    # Natural Health Transition\n",
    "    elif next(num_gen) > asm_rate:\n",
    "        ht_rate = health_state_transition_rate[individual.state]\n",
    "        # We just transpose the health states and probs\n",
    "        # to compare with the random number generated\n",
    "        states_conv = dict_to_cumulative(ht_rate)\n",
    "        prev_k = 0\n",
    "        sum_k = 0\n",
    "        htr_prob = next(num_gen)\n",
    "        for k, v in states_conv.items():\n",
    "            sum_k += k\n",
    "            if prev_k <= htr_prob < sum_k:\n",
    "                individual.state = v\n",
    "            prev_k += k\n",
    "    # Death from other causes\n",
    "    else:\n",
    "        individual.state = HealthState.DEATH_OTHER_CAUSES\n",
    "\n",
    "    individual.qalys += utilities[individual.state] / ((1 + qaly_discounting) ** (individual.age - (individual.age - 1)))\n",
    "    individual.age += 1"
   ]
  },
  {
   "cell_type": "code",
   "execution_count": 179,
   "metadata": {},
   "outputs": [],
   "source": [
    "def colonoscopy_screening(individual, num_gen, compliance_rate_thresh):\n",
    "    # Check dead\n",
    "    if individual.is_dead:\n",
    "        return None\n",
    "    \n",
    "    # Record Previous State\n",
    "    individual.previous_states = np.append(\n",
    "        individual.previous_states, individual.state)\n",
    "\n",
    "    # Rates\n",
    "    symptom_rate = symptomatic_crc_detection_rate.get(individual.state)\n",
    "    asm_rate = compute_other_mortality(individual)\n",
    "\n",
    "    # Screening\n",
    "    if next(num_gen) <= compliance_rate_thresh and \\\n",
    "            individual.years_til_colonoscopy == 0 and \\\n",
    "            not individual.is_treated:\n",
    "\n",
    "        # Get colonoscopy\n",
    "        individual.procedures = np.append(\n",
    "            individual.procedures, {individual.age: Procedure.COLONOSCOPY})\n",
    "        individual.costs += procedure_costs[Procedure.COLONOSCOPY] / ((1 + cost_discounting) ** (individual.age - (individual.age - 1)))\n",
    "\n",
    "        # Probability of bleeding/perforation death\n",
    "        if next(num_gen) <= colonoscopy_mortality_rate:\n",
    "            individual.state = HealthState.DEATH_FROM_SCREENING\n",
    "\n",
    "        else:\n",
    "            if next(num_gen) <= colonoscopy_positive_detection_rate[individual.state]:\n",
    "\n",
    "                # Get Biopsy\n",
    "                individual.procedures = np.append(\n",
    "                    individual.procedures, {individual.age: Procedure.BIOPSY})\n",
    "                individual.costs += procedure_costs[Procedure.BIOPSY] / ((1 + cost_discounting) ** (individual.age - (individual.age - 1)))\n",
    "\n",
    "                if individual.state == HealthState.LOW_RISK_POLYP or \\\n",
    "                        individual.state == HealthState.HIGH_RISK_POLYP:\n",
    "\n",
    "                    # Get Polypectomy\n",
    "                    individual.procedures = np.append(\n",
    "                        individual.procedures, {individual.age: Procedure.POLYPECTOMY})\n",
    "                    individual.costs += procedure_costs[Procedure.POLYPECTOMY] / ((1 + cost_discounting) ** (individual.age - (individual.age - 1)))\n",
    "                    individual.state = HealthState.NORMAL\n",
    "                    individual.years_til_colonoscopy = 1\n",
    "\n",
    "                elif individual.has_cancer:\n",
    "\n",
    "                    # Copy paste sadness\n",
    "                    treatment_survival_prob = next(num_gen)\n",
    "                    if treatment_survival_prob <= treatment_survival_rate[individual.state]:\n",
    "                        # Get the procedure for treatment\n",
    "                        proc = to_treatment[individual.state]\n",
    "                        individual.procedures = np.append(\n",
    "                            individual.procedures, {individual.age: proc})\n",
    "                        individual.costs += procedure_costs[proc] / ((1 + cost_discounting) ** (individual.age - (individual.age - 1)))\n",
    "                        # Convert to treated\n",
    "                        individual.state = to_treated[individual.state]\n",
    "                        \n",
    "                    else:\n",
    "                        # Copy paste sadness\n",
    "                        ht_rate = health_state_transition_rate[individual.state]\n",
    "                        # We just transpose the health states and probs\n",
    "                        # to compare with the random number generated\n",
    "                        states_conv = dict_to_cumulative(ht_rate)\n",
    "                        prev_k = 0\n",
    "                        sum_k = 0\n",
    "                        htr_prob = next(num_gen)\n",
    "                        for k, v in states_conv.items():\n",
    "                            sum_k += k\n",
    "                            if prev_k <= htr_prob < sum_k:\n",
    "                                individual.state = v\n",
    "                            prev_k += k\n",
    "                        individual.years_til_colonoscopy = 1\n",
    "\n",
    "                else: # Normal State but had colonoscopy\n",
    "                    individual.years_til_colonoscopy = 10\n",
    "                    # Copy paste sadness\n",
    "                    ht_rate = health_state_transition_rate[individual.state]\n",
    "                    # We just transpose the health states and probs\n",
    "                    # to compare with the random number generated\n",
    "                    states_conv = dict_to_cumulative(ht_rate)\n",
    "                    prev_k = 0\n",
    "                    sum_k = 0\n",
    "                    htr_prob = next(num_gen)\n",
    "                    for k, v in states_conv.items():\n",
    "                        sum_k += k\n",
    "                        if prev_k <= htr_prob < sum_k:\n",
    "                            individual.state = v\n",
    "                        prev_k += k\n",
    "\n",
    "            else:\n",
    "                individual.years_til_colonoscopy = 10\n",
    "\n",
    "    # Symptomatic Representation\n",
    "    elif symptom_rate is not None and symptom_rate <= next(num_gen) and not individual.is_treated:\n",
    "        if next(num_gen) <= treatment_survival_rate[individual.state]:\n",
    "            # Get the procedure for treatment\n",
    "            proc = to_treatment[individual.state]\n",
    "            individual.procedures = np.append(\n",
    "                individual.procedures, {individual.age: proc})\n",
    "            individual.costs += procedure_costs[proc] / ((1 + cost_discounting) ** (individual.age - (individual.age - 1)))\n",
    "            # Convert to treated\n",
    "            individual.state = to_treated[individual.state]\n",
    "        else:\n",
    "            # Copy paste sadness\n",
    "            ht_rate = health_state_transition_rate[individual.state]\n",
    "            # We just transpose the health states and probs\n",
    "            # to compare with the random number generated\n",
    "            states_conv = dict_to_cumulative(ht_rate)\n",
    "            prev_k = 0\n",
    "            sum_k = 0\n",
    "            htr_prob = next(num_gen)\n",
    "            for k, v in states_conv.items():\n",
    "                sum_k += k\n",
    "                if prev_k <= htr_prob < sum_k:\n",
    "                    individual.state = v\n",
    "                prev_k += k\n",
    "\n",
    "    # Natural Health Transition\n",
    "    elif next(num_gen) > asm_rate:\n",
    "        ht_rate = health_state_transition_rate[individual.state]\n",
    "        # We just transpose the health states and probs\n",
    "        # to compare with the random number generated\n",
    "        states_conv = dict_to_cumulative(ht_rate)\n",
    "        prev_k = 0\n",
    "        sum_k = 0\n",
    "        htr_prob = next(num_gen)\n",
    "        for k, v in states_conv.items():\n",
    "            sum_k += k\n",
    "            if prev_k <= htr_prob < sum_k:\n",
    "                individual.state = v\n",
    "            prev_k += k\n",
    "    # Death from other causes\n",
    "    else:\n",
    "        individual.state = HealthState.DEATH_OTHER_CAUSES\n",
    "\n",
    "    individual.qalys += utilities[individual.state] / ((1 + qaly_discounting) ** (individual.age - (individual.age - 1)))\n",
    "    if individual.years_til_colonoscopy > 0:\n",
    "        individual.years_til_colonoscopy -= 1\n",
    "    individual.age += 1"
   ]
  },
  {
   "cell_type": "code",
   "execution_count": 180,
   "metadata": {},
   "outputs": [],
   "source": [
    "def FOBT_screening(individual, num_gen, compliance_rate_thresh1, compliance_rate_thresh2, screening_modality):\n",
    "    # Check dead\n",
    "    if individual.is_dead:\n",
    "        return None\n",
    "    \n",
    "    # Record Previous State\n",
    "    individual.previous_states = np.append(\n",
    "        individual.previous_states, individual.state)\n",
    "\n",
    "    # Rates\n",
    "    symptom_rate = symptomatic_crc_detection_rate.get(individual.state)\n",
    "    asm_rate = compute_other_mortality(individual)\n",
    "\n",
    "    if next(num_gen) <= compliance_rate_thresh1 and individual.get_FOBT and not individual.is_treated:\n",
    "\n",
    "        individual.procedures = np.append(\n",
    "            individual.procedures, {individual.age: screening_modality})\n",
    "        individual.costs += procedure_costs[screening_modality] / ((1 + cost_discounting) ** (individual.age - (individual.age - 1)))\n",
    "\n",
    "        fobt_detection_rate = screening_modalities_positive_detection_rate[\n",
    "            screening_modality][individual.state]\n",
    "        if next(num_gen) <= fobt_detection_rate:\n",
    "            # Colonoscopy Screening\n",
    "            if next(num_gen) <= compliance_rate_thresh2:\n",
    "                # Get colonoscopy\n",
    "                individual.procedures = np.append(\n",
    "                    individual.procedures, {individual.age: Procedure.COLONOSCOPY})\n",
    "                individual.costs += procedure_costs[Procedure.COLONOSCOPY] / ((1 + cost_discounting) ** (individual.age - (individual.age - 1)))\n",
    "\n",
    "                # Probability of bleeding/perforation death\n",
    "                if next(num_gen) <= colonoscopy_mortality_rate:\n",
    "                    individual.state = HealthState.DEATH_FROM_SCREENING\n",
    "\n",
    "                else:\n",
    "                    if next(num_gen) <= colonoscopy_positive_detection_rate[individual.state]:\n",
    "\n",
    "                        # Get Biopsy\n",
    "                        individual.procedures = np.append(\n",
    "                            individual.procedures, {individual.age: Procedure.BIOPSY})\n",
    "                        individual.costs += procedure_costs[Procedure.BIOPSY] / ((1 + cost_discounting) ** (individual.age - (individual.age - 1)))\n",
    "\n",
    "                        if individual.state == HealthState.LOW_RISK_POLYP or \\\n",
    "                                individual.state == HealthState.HIGH_RISK_POLYP:\n",
    "\n",
    "                            # Get Polypectomy\n",
    "                            individual.procedures = np.append(\n",
    "                                individual.procedures, {individual.age: Procedure.POLYPECTOMY})\n",
    "                            individual.costs += procedure_costs[Procedure.POLYPECTOMY] / ((1 + cost_discounting) ** (individual.age - (individual.age - 1)))\n",
    "                            individual.state = HealthState.NORMAL\n",
    "                            individual.get_FOBT = True\n",
    "                            individual.years_til_colonoscopy = 1\n",
    "\n",
    "                        elif individual.has_cancer:\n",
    "\n",
    "                            # Copy paste sadness\n",
    "                            treatment_survival_prob = next(num_gen)\n",
    "                            if treatment_survival_prob <= treatment_survival_rate[individual.state]:\n",
    "                                # Get the procedure for treatment\n",
    "                                proc = to_treatment[individual.state]\n",
    "                                individual.procedures = np.append(\n",
    "                                    individual.procedures, {individual.age: proc})\n",
    "                                individual.costs += procedure_costs[proc] / ((1 + cost_discounting) ** (individual.age - (individual.age - 1)))\n",
    "                                # Convert to treated\n",
    "                                individual.state = to_treated[individual.state]\n",
    "                            else:\n",
    "                                # Copy paste sadness\n",
    "                                ht_rate = health_state_transition_rate[individual.state]\n",
    "                                # We just transpose the health states and probs\n",
    "                                # to compare with the random number generated\n",
    "                                states_conv = dict_to_cumulative(ht_rate)\n",
    "                                prev_k = 0\n",
    "                                sum_k = 0\n",
    "                                htr_prob = next(num_gen)\n",
    "                                for k, v in states_conv.items():\n",
    "                                    sum_k += k\n",
    "                                    if prev_k <= htr_prob < sum_k:\n",
    "                                        individual.state = v\n",
    "                                    prev_k += k\n",
    "                        else:\n",
    "                            # Normal State but had colonoscopy\n",
    "                            individual.years_til_colonoscopy = 10\n",
    "                            # Copy paste sadness\n",
    "                            ht_rate = health_state_transition_rate[individual.state]\n",
    "                            # We just transpose the health states and probs\n",
    "                            # to compare with the random number generated\n",
    "                            states_conv = dict_to_cumulative(ht_rate)\n",
    "                            prev_k = 0\n",
    "                            sum_k = 0\n",
    "                            htr_prob = next(num_gen)\n",
    "                            for k, v in states_conv.items():\n",
    "                                sum_k += k\n",
    "                                if prev_k <= htr_prob < sum_k:\n",
    "                                    individual.state = v\n",
    "                                prev_k += k\n",
    "                            individual.years_til_colonoscopy = 1\n",
    "                            individual.get_FOBT = True\n",
    "\n",
    "                    else:\n",
    "                        individual.years_til_colonoscopy = 10\n",
    "                        individual.get_FOBT = False\n",
    "\n",
    "    # Colonoscopy Screening\n",
    "    elif next(num_gen) <= compliance_rate_thresh2 and \\\n",
    "            individual.years_til_colonoscopy == 0 and \\\n",
    "            not individual.is_treated and not individual.get_FOBT:\n",
    "\n",
    "        # Get colonoscopy\n",
    "        individual.procedures = np.append(\n",
    "            individual.procedures, {individual.age: Procedure.COLONOSCOPY})\n",
    "        individual.costs += procedure_costs[Procedure.COLONOSCOPY] / ((1 + cost_discounting) ** (individual.age - (individual.age - 1)))\n",
    "\n",
    "        # Probability of bleeding/perforation death\n",
    "        if next(num_gen) <= colonoscopy_mortality_rate:\n",
    "            individual.state = HealthState.DEATH_FROM_SCREENING\n",
    "\n",
    "        else:\n",
    "            if next(num_gen) <= colonoscopy_positive_detection_rate[individual.state]:\n",
    "\n",
    "                # Get Biopsy\n",
    "                individual.procedures = np.append(\n",
    "                    individual.procedures, {individual.age: Procedure.BIOPSY})\n",
    "                individual.costs += procedure_costs[Procedure.BIOPSY] / ((1 + cost_discounting) ** (individual.age - (individual.age - 1)))\n",
    "\n",
    "                if individual.state == HealthState.LOW_RISK_POLYP or \\\n",
    "                        individual.state == HealthState.HIGH_RISK_POLYP:\n",
    "\n",
    "                    # Get Polypectomy\n",
    "                    individual.procedures = np.append(\n",
    "                        individual.procedures, {individual.age: Procedure.POLYPECTOMY})\n",
    "                    individual.costs += procedure_costs[Procedure.POLYPECTOMY] / ((1 + cost_discounting) ** (individual.age - (individual.age - 1)))\n",
    "                    individual.state = HealthState.NORMAL\n",
    "                    individual.get_FOBT = True\n",
    "\n",
    "                elif individual.has_cancer:\n",
    "\n",
    "                    # Copy paste sadness\n",
    "                    treatment_survival_prob = next(num_gen)\n",
    "                    if treatment_survival_prob <= treatment_survival_rate[individual.state]:\n",
    "                        # Get the procedure for treatment\n",
    "                        proc = to_treatment[individual.state]\n",
    "                        individual.procedures = np.append(\n",
    "                            individual.procedures, {individual.age: proc})\n",
    "                        individual.costs += procedure_costs[proc] / ((1 + cost_discounting) ** (individual.age - (individual.age - 1)))\n",
    "                        # Convert to treated\n",
    "                        individual.state = to_treated[individual.state]\n",
    "                    else:\n",
    "                        # Copy paste sadness\n",
    "                        ht_rate = health_state_transition_rate[individual.state]\n",
    "                        # We just transpose the health states and probs\n",
    "                        # to compare with the random number generated\n",
    "                        states_conv = dict_to_cumulative(ht_rate)\n",
    "                        prev_k = 0\n",
    "                        sum_k = 0\n",
    "                        htr_prob = next(num_gen)\n",
    "                        for k, v in states_conv.items():\n",
    "                            sum_k += k\n",
    "                            if prev_k <= htr_prob < sum_k:\n",
    "                                individual.state = v\n",
    "                            prev_k += k\n",
    "                else:\n",
    "                    # Normal State but had colonoscopy\n",
    "                    individual.years_til_colonoscopy = 10\n",
    "                    # Copy paste sadness\n",
    "                    ht_rate = health_state_transition_rate[individual.state]\n",
    "                    # We just transpose the health states and probs\n",
    "                    # to compare with the random number generated\n",
    "                    states_conv = dict_to_cumulative(ht_rate)\n",
    "                    prev_k = 0\n",
    "                    sum_k = 0\n",
    "                    htr_prob = next(num_gen)\n",
    "                    for k, v in states_conv.items():\n",
    "                        sum_k += k\n",
    "                        if prev_k <= htr_prob < sum_k:\n",
    "                            individual.state = v\n",
    "                        prev_k += k\n",
    "                    individual.years_til_colonoscopy = 1\n",
    "                    individual.get_FOBT = True\n",
    "\n",
    "            else:\n",
    "                individual.years_til_colonoscopy = 10\n",
    "\n",
    "    # Symptomatic Representation\n",
    "    elif symptom_rate is not None and symptom_rate <= next(num_gen) and not individual.is_treated:\n",
    "        if next(num_gen) <= treatment_survival_rate[individual.state]:\n",
    "            # Get the procedure for treatment\n",
    "            proc = to_treatment[individual.state]\n",
    "            individual.procedures = np.append(\n",
    "                individual.procedures, {individual.age: proc})\n",
    "            individual.costs += procedure_costs[proc] / ((1 + cost_discounting) ** (individual.age - (individual.age - 1)))\n",
    "            # Convert to treated\n",
    "            individual.state = to_treated[individual.state]\n",
    "        else:\n",
    "            # Copy paste sadness\n",
    "            ht_rate = health_state_transition_rate[individual.state]\n",
    "            # We just transpose the health states and probs\n",
    "            # to compare with the random number generated\n",
    "            states_conv = dict_to_cumulative(ht_rate)\n",
    "            prev_k = 0\n",
    "            sum_k = 0\n",
    "            htr_prob = next(num_gen)\n",
    "            for k, v in states_conv.items():\n",
    "                sum_k += k\n",
    "                if prev_k <= htr_prob < sum_k:\n",
    "                    individual.state = v\n",
    "                prev_k += k\n",
    "\n",
    "    # Natural Health Transition\n",
    "    elif next(num_gen) > asm_rate:\n",
    "        ht_rate = health_state_transition_rate[individual.state]\n",
    "        # We just transpose the health states and probs\n",
    "        # to compare with the random number generated\n",
    "        states_conv = dict_to_cumulative(ht_rate)\n",
    "        prev_k = 0\n",
    "        sum_k = 0\n",
    "        htr_prob = next(num_gen)\n",
    "        for k, v in states_conv.items():\n",
    "            sum_k += k\n",
    "            if prev_k <= htr_prob < sum_k:\n",
    "                individual.state = v\n",
    "            prev_k += k\n",
    "    # Death from other causes\n",
    "    else:\n",
    "        individual.state = HealthState.DEATH_OTHER_CAUSES\n",
    "\n",
    "    individual.qalys += utilities[individual.state] / ((1 + qaly_discounting) ** (individual.age - (individual.age - 1)))\n",
    "    if individual.years_til_colonoscopy > 0:\n",
    "        individual.years_til_colonoscopy -= 1\n",
    "    individual.age += 1"
   ]
  },
  {
   "cell_type": "code",
   "execution_count": 181,
   "metadata": {},
   "outputs": [],
   "source": [
    "def to_df(individuals):\n",
    "    df = pd.DataFrame()\n",
    "    df['life_years'] = np.array(\n",
    "        [len(i.previous_states) if not i.is_dead else len(i.previous_states) + 1 for i in individuals])\n",
    "    df['cost'] = np.array([i.costs for i in individuals])\n",
    "    df['qalys'] = np.array([i.qalys for i in individuals])\n",
    "    return df\n"
   ]
  },
  {
   "cell_type": "markdown",
   "metadata": {},
   "source": [
    "## Test Bed for No Screening"
   ]
  },
  {
   "cell_type": "code",
   "execution_count": 82,
   "metadata": {},
   "outputs": [],
   "source": [
    "individual_count = 100000\n",
    "rand_individual_state_gen = RandomCVGenerator()\n",
    "rand_individual_sex_gen = RandomCVGenerator(724)\n",
    "\n",
    "individuals_noscreening = np.array([Individual(next(rand_individual_state_gen), next(rand_individual_sex_gen), \n",
    "                          init_states_prob=health_prevalence_rate)\n",
    "               for _ in range(individual_count)])"
   ]
  },
  {
   "cell_type": "code",
   "execution_count": 83,
   "metadata": {},
   "outputs": [
    {
     "data": {
      "text/plain": [
       "(array([67205., 17000., 11479.,     0.,     0.,   434.,     0.,  1438.,\n",
       "         1622.,   822.]),\n",
       " array([1. , 1.7, 2.4, 3.1, 3.8, 4.5, 5.2, 5.9, 6.6, 7.3, 8. ]),\n",
       " <a list of 10 Patch objects>)"
      ]
     },
     "execution_count": 83,
     "metadata": {},
     "output_type": "execute_result"
    },
    {
     "data": {
      "image/png": "[encoded data removed]",
      "text/plain": [
       "<matplotlib.figure.Figure at 0x7fa836fe09e8>"
      ]
     },
     "metadata": {},
     "output_type": "display_data"
    }
   ],
   "source": [
    "# Health State Distribution\n",
    "hist(np.array([i.state.value for i in individuals_noscreening]))"
   ]
  },
  {
   "cell_type": "code",
   "execution_count": 84,
   "metadata": {},
   "outputs": [],
   "source": [
    "# Simulate!\n",
    "sim_gen = RandomCVGenerator()\n",
    "for k in range(20):\n",
    "    for i in individuals_noscreening:\n",
    "        no_screening(i, sim_gen)"
   ]
  },
  {
   "cell_type": "code",
   "execution_count": 85,
   "metadata": {
    "scrolled": false
   },
   "outputs": [
    {
     "data": {
      "text/plain": [
       "(array([6.4996e+04, 8.8600e+03, 0.0000e+00, 3.8300e+02, 2.3000e+01,\n",
       "        1.2130e+03, 1.8801e+04, 0.0000e+00, 3.5200e+02, 5.3720e+03]),\n",
       " array([ 1. ,  2.3,  3.6,  4.9,  6.2,  7.5,  8.8, 10.1, 11.4, 12.7, 14. ]),\n",
       " <a list of 10 Patch objects>)"
      ]
     },
     "execution_count": 85,
     "metadata": {},
     "output_type": "execute_result"
    },
    {
     "data": {
      "image/png": "[encoded data removed]",
      "text/plain": [
       "<matplotlib.figure.Figure at 0x7fa8354fef98>"
      ]
     },
     "metadata": {},
     "output_type": "display_data"
    }
   ],
   "source": [
    "# Health State Outcomes\n",
    "hist(np.array([i.state.value for i in individuals_noscreening]))"
   ]
  },
  {
   "cell_type": "code",
   "execution_count": 86,
   "metadata": {},
   "outputs": [
    {
     "data": {
      "text/plain": [
       "(4156,)"
      ]
     },
     "execution_count": 86,
     "metadata": {},
     "output_type": "execute_result"
    }
   ],
   "source": [
    "prev_states = np.array([i.previous_states[-1].value for i in individuals_noscreening if i.state.value == 10])\n",
    "prev_states.shape\n"
   ]
  },
  {
   "cell_type": "code",
   "execution_count": 87,
   "metadata": {},
   "outputs": [
    {
     "data": {
      "text/plain": [
       "(array([2266.,  973.,    0.,    0.,    0.,    0.,    0.,    0.,  583.,\n",
       "         334.]),\n",
       " array([ 6. ,  6.8,  7.6,  8.4,  9.2, 10. , 10.8, 11.6, 12.4, 13.2, 14. ]),\n",
       " <a list of 10 Patch objects>)"
      ]
     },
     "execution_count": 87,
     "metadata": {},
     "output_type": "execute_result"
    },
    {
     "data": {
      "image/png": "[encoded data removed]",
      "text/plain": [
       "<matplotlib.figure.Figure at 0x7fa83550c0f0>"
      ]
     },
     "metadata": {},
     "output_type": "display_data"
    }
   ],
   "source": [
    "hist(prev_states)"
   ]
  },
  {
   "cell_type": "code",
   "execution_count": 88,
   "metadata": {},
   "outputs": [
    {
     "name": "stdout",
     "output_type": "stream",
     "text": [
      "QALY: 1646952.6029126213\n",
      "Costs: 2236296116.504854\n",
      "QALY Diff: 0.8234763014563107\n"
     ]
    }
   ],
   "source": [
    "QALYs = sum(np.array([i.qalys for i in individuals_noscreening]))\n",
    "costs = sum(np.array([i.costs for i in individuals_noscreening]))\n",
    "print(f'QALY: {QALYs}')\n",
    "print(f'Costs: {costs}')\n",
    "print(f'QALY Diff: {QALYs / (individual_count * 20)}')"
   ]
  },
  {
   "cell_type": "code",
   "execution_count": 89,
   "metadata": {},
   "outputs": [
    {
     "data": {
      "text/plain": [
       "(array([ 662.,    0.,  917.,    0.,    0.,    0.,  352.,    0., 5155.,\n",
       "         217.]),\n",
       " array([ 9. ,  9.5, 10. , 10.5, 11. , 11.5, 12. , 12.5, 13. , 13.5, 14. ]),\n",
       " <a list of 10 Patch objects>)"
      ]
     },
     "execution_count": 89,
     "metadata": {},
     "output_type": "execute_result"
    },
    {
     "data": {
      "image/png": "[encoded data removed]",
      "text/plain": [
       "<matplotlib.figure.Figure at 0x7fa833755518>"
      ]
     },
     "metadata": {},
     "output_type": "display_data"
    }
   ],
   "source": [
    "hist(\n",
    "    np.array([i.state.value for i in individuals_noscreening if len(i.procedures) == 1]))\n"
   ]
  },
  {
   "cell_type": "markdown",
   "metadata": {},
   "source": [
    "## Test Bed for Colonoscopy Screening"
   ]
  },
  {
   "cell_type": "code",
   "execution_count": 90,
   "metadata": {},
   "outputs": [],
   "source": [
    "individual_count = 100000\n",
    "rand_individual_state_gen = RandomCVGenerator()\n",
    "rand_individual_sex_gen = RandomCVGenerator(724)\n",
    "\n",
    "individuals_colonoscopy = np.array([Individual(next(rand_individual_state_gen), next(rand_individual_sex_gen),\n",
    "                          init_states_prob=health_prevalence_rate) for _ in range(individual_count)])"
   ]
  },
  {
   "cell_type": "code",
   "execution_count": 91,
   "metadata": {},
   "outputs": [
    {
     "data": {
      "text/plain": [
       "(array([67205., 17000., 11479.,     0.,     0.,   434.,     0.,  1438.,\n",
       "         1622.,   822.]),\n",
       " array([1. , 1.7, 2.4, 3.1, 3.8, 4.5, 5.2, 5.9, 6.6, 7.3, 8. ]),\n",
       " <a list of 10 Patch objects>)"
      ]
     },
     "execution_count": 91,
     "metadata": {},
     "output_type": "execute_result"
    },
    {
     "data": {
      "image/png": "[encoded data removed]",
      "text/plain": [
       "<matplotlib.figure.Figure at 0x7fa835b73a58>"
      ]
     },
     "metadata": {},
     "output_type": "display_data"
    }
   ],
   "source": [
    "# Health State Distribution\n",
    "hist(np.array([i.state.value for i in individuals_colonoscopy]))"
   ]
  },
  {
   "cell_type": "code",
   "execution_count": 92,
   "metadata": {},
   "outputs": [],
   "source": [
    "# Simulate!\n",
    "sim_gen = RandomCVGenerator()\n",
    "for k in range(20):\n",
    "    for i in individuals_colonoscopy:\n",
    "        colonoscopy_screening(i, sim_gen, 0.725)"
   ]
  },
  {
   "cell_type": "code",
   "execution_count": 93,
   "metadata": {
    "scrolled": false
   },
   "outputs": [
    {
     "data": {
      "text/plain": [
       "(array([8.1172e+04, 6.4900e+02, 0.0000e+00, 2.5000e+01, 2.0000e+00,\n",
       "        1.4285e+04, 1.9620e+03, 3.6800e+02, 1.3070e+03, 2.3000e+02]),\n",
       " array([ 1. ,  2.4,  3.8,  5.2,  6.6,  8. ,  9.4, 10.8, 12.2, 13.6, 15. ]),\n",
       " <a list of 10 Patch objects>)"
      ]
     },
     "execution_count": 93,
     "metadata": {},
     "output_type": "execute_result"
    },
    {
     "data": {
      "image/png": "[encoded data removed]",
      "text/plain": [
       "<matplotlib.figure.Figure at 0x7fa8420aaa58>"
      ]
     },
     "metadata": {},
     "output_type": "display_data"
    }
   ],
   "source": [
    "# Health State Outcomes\n",
    "hist(np.array([i.state.value for i in individuals_colonoscopy]))"
   ]
  },
  {
   "cell_type": "code",
   "execution_count": 94,
   "metadata": {},
   "outputs": [
    {
     "data": {
      "text/plain": [
       "(1962,)"
      ]
     },
     "execution_count": 94,
     "metadata": {},
     "output_type": "execute_result"
    }
   ],
   "source": [
    "prev_states = np.array([i.previous_states[-1].value for i in individuals_colonoscopy if i.state.value == 10])\n",
    "prev_states.shape\n"
   ]
  },
  {
   "cell_type": "code",
   "execution_count": 95,
   "metadata": {},
   "outputs": [
    {
     "data": {
      "text/plain": [
       "(array([450., 589.,   0.,   0.,   0.,   0.,   0., 233., 498., 192.]),\n",
       " array([ 6. ,  6.9,  7.8,  8.7,  9.6, 10.5, 11.4, 12.3, 13.2, 14.1, 15. ]),\n",
       " <a list of 10 Patch objects>)"
      ]
     },
     "execution_count": 95,
     "metadata": {},
     "output_type": "execute_result"
    },
    {
     "data": {
      "image/png": "[encoded data removed]",
      "text/plain": [
       "<matplotlib.figure.Figure at 0x7fa8420aa438>"
      ]
     },
     "metadata": {},
     "output_type": "display_data"
    }
   ],
   "source": [
    "hist(prev_states)"
   ]
  },
  {
   "cell_type": "code",
   "execution_count": 96,
   "metadata": {},
   "outputs": [
    {
     "name": "stdout",
     "output_type": "stream",
     "text": [
      "QALY: 1757189.4922330098\n",
      "Costs: 2481981734.4365044\n",
      "QALY Diff: 0.8785947461165049\n"
     ]
    }
   ],
   "source": [
    "QALYs = sum(np.array([i.qalys for i in individuals_colonoscopy]))\n",
    "costs = sum(np.array([i.costs for i in individuals_colonoscopy]))\n",
    "print(f'QALY: {QALYs}')\n",
    "print(f'Costs: {costs}')\n",
    "print(f'QALY Diff: {QALYs / (individual_count * 20)}')"
   ]
  },
  {
   "cell_type": "code",
   "execution_count": 97,
   "metadata": {},
   "outputs": [
    {
     "data": {
      "text/plain": [
       "(array([5., 3., 3., 0., 0., 0., 0., 0., 0., 1.]),\n",
       " array([ 8. ,  8.7,  9.4, 10.1, 10.8, 11.5, 12.2, 12.9, 13.6, 14.3, 15. ]),\n",
       " <a list of 10 Patch objects>)"
      ]
     },
     "execution_count": 97,
     "metadata": {},
     "output_type": "execute_result"
    },
    {
     "data": {
      "image/png": "[encoded data removed]",
      "text/plain": [
       "<matplotlib.figure.Figure at 0x7fa841c73b00>"
      ]
     },
     "metadata": {},
     "output_type": "display_data"
    }
   ],
   "source": [
    "hist(\n",
    "    np.array([i.state.value for i in individuals_colonoscopy if len(i.procedures) == 14]))\n"
   ]
  },
  {
   "cell_type": "markdown",
   "metadata": {},
   "source": [
    "## Test Bed for G-FOBT Screening"
   ]
  },
  {
   "cell_type": "code",
   "execution_count": 98,
   "metadata": {},
   "outputs": [],
   "source": [
    "individual_count = 100000\n",
    "rand_individual_state_gen = RandomCVGenerator()\n",
    "rand_individual_sex_gen = RandomCVGenerator(724)\n",
    "\n",
    "individuals_gfobt = np.array([Individual(next(rand_individual_state_gen), next(rand_individual_sex_gen),\n",
    "                          init_states_prob=health_prevalence_rate) for _ in range(individual_count)])"
   ]
  },
  {
   "cell_type": "code",
   "execution_count": 99,
   "metadata": {},
   "outputs": [
    {
     "data": {
      "text/plain": [
       "(array([67205., 17000., 11479.,     0.,     0.,   434.,     0.,  1438.,\n",
       "         1622.,   822.]),\n",
       " array([1. , 1.7, 2.4, 3.1, 3.8, 4.5, 5.2, 5.9, 6.6, 7.3, 8. ]),\n",
       " <a list of 10 Patch objects>)"
      ]
     },
     "execution_count": 99,
     "metadata": {},
     "output_type": "execute_result"
    },
    {
     "data": {
      "image/png": "[encoded data removed]",
      "text/plain": [
       "<matplotlib.figure.Figure at 0x7fa834c8b4a8>"
      ]
     },
     "metadata": {},
     "output_type": "display_data"
    }
   ],
   "source": [
    "# Health State Distribution\n",
    "hist(np.array([i.state.value for i in individuals_gfobt]))"
   ]
  },
  {
   "cell_type": "code",
   "execution_count": 100,
   "metadata": {},
   "outputs": [],
   "source": [
    "# Simulate!\n",
    "sim_gen = RandomCVGenerator()\n",
    "for k in range(20):\n",
    "    for i in individuals_gfobt:\n",
    "        FOBT_screening(i, sim_gen, 0.65, 0.8, Procedure.GFOBT)"
   ]
  },
  {
   "cell_type": "code",
   "execution_count": 101,
   "metadata": {
    "scrolled": false
   },
   "outputs": [
    {
     "data": {
      "text/plain": [
       "(array([8.1658e+04, 3.8290e+03, 0.0000e+00, 1.0600e+02, 9.0000e+00,\n",
       "        9.4710e+03, 2.2770e+03, 3.4300e+02, 2.1050e+03, 2.0200e+02]),\n",
       " array([ 1. ,  2.4,  3.8,  5.2,  6.6,  8. ,  9.4, 10.8, 12.2, 13.6, 15. ]),\n",
       " <a list of 10 Patch objects>)"
      ]
     },
     "execution_count": 101,
     "metadata": {},
     "output_type": "execute_result"
    },
    {
     "data": {
      "image/png": "[encoded data removed]",
      "text/plain": [
       "<matplotlib.figure.Figure at 0x7fa833313940>"
      ]
     },
     "metadata": {},
     "output_type": "display_data"
    }
   ],
   "source": [
    "# Health State Outcomes\n",
    "hist(np.array([i.state.value for i in individuals_gfobt]))"
   ]
  },
  {
   "cell_type": "code",
   "execution_count": 102,
   "metadata": {},
   "outputs": [
    {
     "data": {
      "text/plain": [
       "(4,)"
      ]
     },
     "execution_count": 102,
     "metadata": {},
     "output_type": "execute_result"
    }
   ],
   "source": [
    "prev_states = np.array([i.previous_states[-1].value for i in individuals_gfobt if i.state.value == 11])\n",
    "prev_states.shape\n"
   ]
  },
  {
   "cell_type": "code",
   "execution_count": 103,
   "metadata": {},
   "outputs": [
    {
     "data": {
      "text/plain": [
       "(array([3., 0., 0., 0., 0., 0., 0., 0., 0., 1.]),\n",
       " array([1. , 1.1, 1.2, 1.3, 1.4, 1.5, 1.6, 1.7, 1.8, 1.9, 2. ]),\n",
       " <a list of 10 Patch objects>)"
      ]
     },
     "execution_count": 103,
     "metadata": {},
     "output_type": "execute_result"
    },
    {
     "data": {
      "image/png": "[encoded data removed]",
      "text/plain": [
       "<matplotlib.figure.Figure at 0x7fa833317630>"
      ]
     },
     "metadata": {},
     "output_type": "display_data"
    }
   ],
   "source": [
    "hist(prev_states)"
   ]
  },
  {
   "cell_type": "code",
   "execution_count": 104,
   "metadata": {},
   "outputs": [
    {
     "name": "stdout",
     "output_type": "stream",
     "text": [
      "QALY: 1766505.4339805825\n",
      "Costs: 2059372313.6324267\n",
      "QALY Diff: 0.8832527169902913\n"
     ]
    }
   ],
   "source": [
    "QALYs = sum(np.array([i.qalys for i in individuals_gfobt]))\n",
    "costs = sum(np.array([i.costs for i in individuals_gfobt]))\n",
    "print(f'QALY: {QALYs}')\n",
    "print(f'Costs: {costs}')\n",
    "print(f'QALY Diff: {QALYs / (individual_count * 20)}')"
   ]
  },
  {
   "cell_type": "code",
   "execution_count": 105,
   "metadata": {},
   "outputs": [
    {
     "data": {
      "text/plain": [
       "(array([7.143e+03, 5.270e+02, 0.000e+00, 1.600e+01, 2.000e+00, 1.920e+02,\n",
       "        8.000e+00, 0.000e+00, 4.800e+01, 3.000e+00]),\n",
       " array([ 1. ,  2.4,  3.8,  5.2,  6.6,  8. ,  9.4, 10.8, 12.2, 13.6, 15. ]),\n",
       " <a list of 10 Patch objects>)"
      ]
     },
     "execution_count": 105,
     "metadata": {},
     "output_type": "execute_result"
    },
    {
     "data": {
      "image/png": "[encoded data removed]",
      "text/plain": [
       "<matplotlib.figure.Figure at 0x7fa832a41588>"
      ]
     },
     "metadata": {},
     "output_type": "display_data"
    }
   ],
   "source": [
    "hist(\n",
    "    np.array([i.state.value for i in individuals_gfobt if len(i.procedures) == 14]))\n"
   ]
  },
  {
   "cell_type": "markdown",
   "metadata": {},
   "source": [
    "## Test Bed for FIT Screening"
   ]
  },
  {
   "cell_type": "code",
   "execution_count": 106,
   "metadata": {},
   "outputs": [],
   "source": [
    "individual_count = 100000\n",
    "rand_individual_state_gen = RandomCVGenerator()\n",
    "rand_individual_sex_gen = RandomCVGenerator(724)\n",
    "\n",
    "individuals_FIT = np.array([Individual(next(rand_individual_state_gen), next(rand_individual_sex_gen),\n",
    "                          init_states_prob=health_prevalence_rate) for _ in range(individual_count)])"
   ]
  },
  {
   "cell_type": "code",
   "execution_count": 107,
   "metadata": {},
   "outputs": [
    {
     "data": {
      "text/plain": [
       "(array([67205., 17000., 11479.,     0.,     0.,   434.,     0.,  1438.,\n",
       "         1622.,   822.]),\n",
       " array([1. , 1.7, 2.4, 3.1, 3.8, 4.5, 5.2, 5.9, 6.6, 7.3, 8. ]),\n",
       " <a list of 10 Patch objects>)"
      ]
     },
     "execution_count": 107,
     "metadata": {},
     "output_type": "execute_result"
    },
    {
     "data": {
      "image/png": "[encoded data removed]",
      "text/plain": [
       "<matplotlib.figure.Figure at 0x7fa832875d68>"
      ]
     },
     "metadata": {},
     "output_type": "display_data"
    }
   ],
   "source": [
    "# Health State Distribution\n",
    "hist(np.array([i.state.value for i in individuals_FIT]))"
   ]
  },
  {
   "cell_type": "code",
   "execution_count": 108,
   "metadata": {},
   "outputs": [],
   "source": [
    "# Simulate!\n",
    "sim_gen = RandomCVGenerator()\n",
    "for k in range(20):\n",
    "    for i in individuals_FIT:\n",
    "        FOBT_screening(i, sim_gen, 0.65, 0.8, Procedure.FIT)"
   ]
  },
  {
   "cell_type": "code",
   "execution_count": 109,
   "metadata": {
    "scrolled": false
   },
   "outputs": [
    {
     "data": {
      "text/plain": [
       "(array([8.411e+04, 2.741e+03, 0.000e+00, 7.300e+01, 2.000e+00, 8.364e+03,\n",
       "        2.237e+03, 3.360e+02, 1.940e+03, 1.970e+02]),\n",
       " array([ 1. ,  2.4,  3.8,  5.2,  6.6,  8. ,  9.4, 10.8, 12.2, 13.6, 15. ]),\n",
       " <a list of 10 Patch objects>)"
      ]
     },
     "execution_count": 109,
     "metadata": {},
     "output_type": "execute_result"
    },
    {
     "data": {
      "image/png": "[encoded data removed]",
      "text/plain": [
       "<matplotlib.figure.Figure at 0x7fa82feba8d0>"
      ]
     },
     "metadata": {},
     "output_type": "display_data"
    }
   ],
   "source": [
    "# Health State Outcomes\n",
    "hist(np.array([i.state.value for i in individuals_FIT]))"
   ]
  },
  {
   "cell_type": "code",
   "execution_count": 110,
   "metadata": {},
   "outputs": [
    {
     "data": {
      "text/plain": [
       "(3,)"
      ]
     },
     "execution_count": 110,
     "metadata": {},
     "output_type": "execute_result"
    }
   ],
   "source": [
    "prev_states = np.array([i.previous_states[-1].value for i in individuals_FIT if i.state.value == 11])\n",
    "prev_states.shape\n"
   ]
  },
  {
   "cell_type": "code",
   "execution_count": 111,
   "metadata": {},
   "outputs": [
    {
     "data": {
      "text/plain": [
       "(array([2., 0., 0., 0., 0., 0., 0., 0., 0., 1.]),\n",
       " array([1. , 1.5, 2. , 2.5, 3. , 3.5, 4. , 4.5, 5. , 5.5, 6. ]),\n",
       " <a list of 10 Patch objects>)"
      ]
     },
     "execution_count": 111,
     "metadata": {},
     "output_type": "execute_result"
    },
    {
     "data": {
      "image/png": "[encoded data removed]",
      "text/plain": [
       "<matplotlib.figure.Figure at 0x7fa82f86a8d0>"
      ]
     },
     "metadata": {},
     "output_type": "display_data"
    }
   ],
   "source": [
    "hist(prev_states)"
   ]
  },
  {
   "cell_type": "code",
   "execution_count": 112,
   "metadata": {},
   "outputs": [
    {
     "name": "stdout",
     "output_type": "stream",
     "text": [
      "QALY: 1781578.051456311\n",
      "Costs: 2167500657.683981\n",
      "QALY Diff: 0.8907890257281555\n"
     ]
    }
   ],
   "source": [
    "QALYs = sum(np.array([i.qalys for i in individuals_FIT]))\n",
    "costs = sum(np.array([i.costs for i in individuals_FIT]))\n",
    "print(f'QALY: {QALYs}')\n",
    "print(f'Costs: {costs}')\n",
    "print(f'QALY Diff: {QALYs / (individual_count * 20)}')"
   ]
  },
  {
   "cell_type": "code",
   "execution_count": 113,
   "metadata": {},
   "outputs": [
    {
     "data": {
      "text/plain": [
       "(array([9.626e+03, 3.530e+02, 0.000e+00, 8.000e+00, 0.000e+00, 1.520e+02,\n",
       "        1.500e+01, 0.000e+00, 2.000e+01, 2.000e+00]),\n",
       " array([ 1. ,  2.4,  3.8,  5.2,  6.6,  8. ,  9.4, 10.8, 12.2, 13.6, 15. ]),\n",
       " <a list of 10 Patch objects>)"
      ]
     },
     "execution_count": 113,
     "metadata": {},
     "output_type": "execute_result"
    },
    {
     "data": {
      "image/png": "[encoded data removed]",
      "text/plain": [
       "<matplotlib.figure.Figure at 0x7fa82f840ba8>"
      ]
     },
     "metadata": {},
     "output_type": "display_data"
    }
   ],
   "source": [
    "hist(\n",
    "    np.array([i.state.value for i in individuals_FIT if len(i.procedures) == 14]))\n"
   ]
  },
  {
   "cell_type": "markdown",
   "metadata": {},
   "source": [
    "## Test Bed for FIT+FS Screening"
   ]
  },
  {
   "cell_type": "code",
   "execution_count": 114,
   "metadata": {},
   "outputs": [],
   "source": [
    "individual_count = 100000\n",
    "rand_individual_state_gen = RandomCVGenerator()\n",
    "rand_individual_sex_gen = RandomCVGenerator(724)\n",
    "\n",
    "individuals_FITFS = np.array([Individual(next(rand_individual_state_gen), next(rand_individual_sex_gen),\n",
    "                          init_states_prob=health_prevalence_rate) for _ in range(individual_count)])"
   ]
  },
  {
   "cell_type": "code",
   "execution_count": 115,
   "metadata": {},
   "outputs": [
    {
     "data": {
      "text/plain": [
       "(array([67205., 17000., 11479.,     0.,     0.,   434.,     0.,  1438.,\n",
       "         1622.,   822.]),\n",
       " array([1. , 1.7, 2.4, 3.1, 3.8, 4.5, 5.2, 5.9, 6.6, 7.3, 8. ]),\n",
       " <a list of 10 Patch objects>)"
      ]
     },
     "execution_count": 115,
     "metadata": {},
     "output_type": "execute_result"
    },
    {
     "data": {
      "image/png": "[encoded data removed]",
      "text/plain": [
       "<matplotlib.figure.Figure at 0x7fa82f796358>"
      ]
     },
     "metadata": {},
     "output_type": "display_data"
    }
   ],
   "source": [
    "# Health State Distribution\n",
    "hist(np.array([i.state.value for i in individuals_FITFS]))"
   ]
  },
  {
   "cell_type": "code",
   "execution_count": 116,
   "metadata": {},
   "outputs": [],
   "source": [
    "import multiprocessing as mp\n",
    "\n",
    "# Simulate!\n",
    "sim_gen = RandomCVGenerator()\n",
    "for k in range(20):\n",
    "    for i in individuals_FITFS:\n",
    "        FOBT_screening(i, sim_gen, 0.8, 0.996, Procedure.FIT_FS)        \n",
    "#     processes = [mp.Process(target=rand_string, args=(5, output)) for x in range(4)]\n"
   ]
  },
  {
   "cell_type": "code",
   "execution_count": 117,
   "metadata": {
    "scrolled": false
   },
   "outputs": [
    {
     "data": {
      "text/plain": [
       "(array([8.5665e+04, 3.5200e+02, 0.0000e+00, 1.2000e+01, 0.0000e+00,\n",
       "        1.0170e+04, 1.9390e+03, 3.5800e+02, 1.2450e+03, 2.5900e+02]),\n",
       " array([ 1. ,  2.4,  3.8,  5.2,  6.6,  8. ,  9.4, 10.8, 12.2, 13.6, 15. ]),\n",
       " <a list of 10 Patch objects>)"
      ]
     },
     "execution_count": 117,
     "metadata": {},
     "output_type": "execute_result"
    },
    {
     "data": {
      "image/png": "[encoded data removed]",
      "text/plain": [
       "<matplotlib.figure.Figure at 0x7fa82d3611d0>"
      ]
     },
     "metadata": {},
     "output_type": "display_data"
    }
   ],
   "source": [
    "# Health State Outcomes\n",
    "hist(np.array([i.state.value for i in individuals_FITFS]))"
   ]
  },
  {
   "cell_type": "code",
   "execution_count": 118,
   "metadata": {},
   "outputs": [
    {
     "data": {
      "text/plain": [
       "(1,)"
      ]
     },
     "execution_count": 118,
     "metadata": {},
     "output_type": "execute_result"
    }
   ],
   "source": [
    "prev_states = np.array([i.previous_states[-1].value for i in individuals_FITFS if i.state.value == 11])\n",
    "prev_states.shape\n"
   ]
  },
  {
   "cell_type": "code",
   "execution_count": 119,
   "metadata": {},
   "outputs": [
    {
     "data": {
      "text/plain": [
       "(array([0., 0., 0., 0., 0., 1., 0., 0., 0., 0.]),\n",
       " array([0.5, 0.6, 0.7, 0.8, 0.9, 1. , 1.1, 1.2, 1.3, 1.4, 1.5]),\n",
       " <a list of 10 Patch objects>)"
      ]
     },
     "execution_count": 119,
     "metadata": {},
     "output_type": "execute_result"
    },
    {
     "data": {
      "image/png": "[encoded data removed]",
      "text/plain": [
       "<matplotlib.figure.Figure at 0x7fa82ce00240>"
      ]
     },
     "metadata": {},
     "output_type": "display_data"
    }
   ],
   "source": [
    "hist(prev_states)"
   ]
  },
  {
   "cell_type": "code",
   "execution_count": 120,
   "metadata": {},
   "outputs": [
    {
     "name": "stdout",
     "output_type": "stream",
     "text": [
      "QALY: 1805840.0038834955\n",
      "Costs: 5399584136.800969\n",
      "QALY Diff: 0.9029200019417477\n"
     ]
    }
   ],
   "source": [
    "QALYs = sum(np.array([i.qalys for i in individuals_FITFS]))\n",
    "costs = sum(np.array([i.costs for i in individuals_FITFS]))\n",
    "print(f'QALY: {QALYs}')\n",
    "print(f'Costs: {costs}')\n",
    "print(f'QALY Diff: {QALYs / (individual_count * 20)}')"
   ]
  },
  {
   "cell_type": "code",
   "execution_count": 121,
   "metadata": {},
   "outputs": [
    {
     "data": {
      "text/plain": [
       "(array([4.925e+03, 8.000e+00, 0.000e+00, 0.000e+00, 0.000e+00, 2.000e+00,\n",
       "        1.860e+02, 1.000e+00, 0.000e+00, 2.000e+00]),\n",
       " array([ 1. ,  2.2,  3.4,  4.6,  5.8,  7. ,  8.2,  9.4, 10.6, 11.8, 13. ]),\n",
       " <a list of 10 Patch objects>)"
      ]
     },
     "execution_count": 121,
     "metadata": {},
     "output_type": "execute_result"
    },
    {
     "data": {
      "image/png": "[encoded data removed]",
      "text/plain": [
       "<matplotlib.figure.Figure at 0x7fa82cde9f60>"
      ]
     },
     "metadata": {},
     "output_type": "display_data"
    }
   ],
   "source": [
    "hist(\n",
    "    np.array([i.state.value for i in individuals_FITFS if len(i.procedures) == 14]))\n"
   ]
  },
  {
   "cell_type": "code",
   "execution_count": 122,
   "metadata": {},
   "outputs": [
    {
     "data": {
      "text/plain": [
       "(array([ 1195.,   664.,   854.,   980.,  1134.,  1109.,  1178.,  1301.,\n",
       "         1439., 90146.]),\n",
       " array([51. , 52.9, 54.8, 56.7, 58.6, 60.5, 62.4, 64.3, 66.2, 68.1, 70. ]),\n",
       " <a list of 10 Patch objects>)"
      ]
     },
     "execution_count": 122,
     "metadata": {},
     "output_type": "execute_result"
    },
    {
     "data": {
      "image/png": "[encoded data removed]",
      "text/plain": [
       "<matplotlib.figure.Figure at 0x7fa82f79bc18>"
      ]
     },
     "metadata": {},
     "output_type": "display_data"
    }
   ],
   "source": [
    "hist(\n",
    "    np.array([i.age for i in individuals_FITFS]))"
   ]
  },
  {
   "cell_type": "code",
   "execution_count": 124,
   "metadata": {},
   "outputs": [
    {
     "name": "stdout",
     "output_type": "stream",
     "text": [
      "Stored 'individuals_noscreening' (ndarray)\n",
      "Stored 'individuals_gfobt' (ndarray)\n",
      "Stored 'individuals_FIT' (ndarray)\n",
      "Stored 'individuals_FITFS' (ndarray)\n"
     ]
    }
   ],
   "source": [
    "%store individuals_noscreening\n",
    "%store individuals_gfobt\n",
    "%store individuals_FIT\n",
    "%store individuals_FITFS"
   ]
  },
  {
   "cell_type": "markdown",
   "metadata": {},
   "source": [
    "## For Budget Impact Analysis"
   ]
  },
  {
   "cell_type": "markdown",
   "metadata": {},
   "source": [
    "### GFOBT"
   ]
  },
  {
   "cell_type": "code",
   "execution_count": 182,
   "metadata": {},
   "outputs": [
    {
     "name": "stdout",
     "output_type": "stream",
     "text": [
      "Sim 0.1\n",
      "Sim 0.2\n",
      "Sim 0.3\n",
      "Sim 0.4\n",
      "Sim 0.5\n"
     ]
    }
   ],
   "source": [
    "individuals_compliance_rates_GFOBT = np.array([])\n",
    "\n",
    "# Simulate!\n",
    "for compliance_rate in [0.1, 0.2, 0.3, 0.4, 0.5]:\n",
    "    individual_count = 100000\n",
    "    rand_individual_state_gen = RandomCVGenerator()\n",
    "    rand_individual_sex_gen = RandomCVGenerator(724)\n",
    "\n",
    "    individuals = [Individual(next(rand_individual_state_gen), next(rand_individual_sex_gen),\n",
    "                              init_states_prob=health_prevalence_rate) for _ in range(individual_count)]\n",
    "    sim_gen = RandomCVGenerator()\n",
    "    for k in range(20):\n",
    "        for i in individuals:\n",
    "            FOBT_screening(i, sim_gen, compliance_rate, 0.8, Procedure.GFOBT)\n",
    "    individuals_compliance_rates_GFOBT = np.append(individuals_compliance_rates_GFOBT, \n",
    "                                                   {compliance_rate: individuals})\n",
    "    \n",
    "    print(f'Sim {compliance_rate}')"
   ]
  },
  {
   "cell_type": "code",
   "execution_count": 225,
   "metadata": {},
   "outputs": [
    {
     "name": "stdout",
     "output_type": "stream",
     "text": [
      "0.1 - 9984 - 904\n",
      "0.2 - 20267 - 1823\n",
      "0.3 - 30155 - 2660\n",
      "0.4 - 39852 - 3658\n",
      "0.5 - 49828 - 4608\n"
     ]
    }
   ],
   "source": [
    "for e, r in enumerate([0.1, 0.2, 0.3, 0.4, 0.5]):\n",
    "    indiv_comp_rate = individuals_compliance_rates_GFOBT[e][r]\n",
    "    gfobt_count = 0\n",
    "    colonoscopy_count = 0\n",
    "    for x in indiv_comp_rate:\n",
    "        for i in x.procedures:\n",
    "            if list(i.keys())[0] == 50:\n",
    "                if i[50] == Procedure.GFOBT:\n",
    "    #                 print(f'{x.previous_states[0]} : ')\n",
    "                    gfobt_count += 1\n",
    "                elif i[50] == Procedure.COLONOSCOPY:\n",
    "                    colonoscopy_count += 1\n",
    "    print(f'{r} - {gfobt_count} - {colonoscopy_count}')"
   ]
  },
  {
   "cell_type": "code",
   "execution_count": 226,
   "metadata": {},
   "outputs": [
    {
     "name": "stdout",
     "output_type": "stream",
     "text": [
      "Sim 0.1\n",
      "Sim 0.2\n",
      "Sim 0.3\n",
      "Sim 0.4\n",
      "Sim 0.5\n"
     ]
    }
   ],
   "source": [
    "individuals_compliance_rates_FIT = np.array([])\n",
    "\n",
    "# Simulate!\n",
    "for compliance_rate in [0.1, 0.2, 0.3, 0.4, 0.5]:\n",
    "    individual_count = 100000\n",
    "    rand_individual_state_gen = RandomCVGenerator()\n",
    "    rand_individual_sex_gen = RandomCVGenerator(724)\n",
    "\n",
    "    individuals = [Individual(next(rand_individual_state_gen), next(rand_individual_sex_gen),\n",
    "                              init_states_prob=health_prevalence_rate) for _ in range(individual_count)]\n",
    "    sim_gen = RandomCVGenerator()\n",
    "    for k in range(20):\n",
    "        for i in individuals:\n",
    "            FOBT_screening(i, sim_gen, compliance_rate, 0.8, Procedure.FIT)\n",
    "    individuals_compliance_rates_FIT = np.append(individuals_compliance_rates_FIT, {compliance_rate: individuals})\n",
    "    \n",
    "    print(f'Sim {compliance_rate}')"
   ]
  },
  {
   "cell_type": "code",
   "execution_count": 227,
   "metadata": {},
   "outputs": [
    {
     "name": "stdout",
     "output_type": "stream",
     "text": [
      "0.1 - 9985 - 857\n",
      "0.2 - 20186 - 1657\n",
      "0.3 - 29964 - 2541\n",
      "0.4 - 39900 - 3386\n",
      "0.5 - 49940 - 4161\n"
     ]
    }
   ],
   "source": [
    "for e, r in enumerate([0.1, 0.2, 0.3, 0.4, 0.5]):\n",
    "    indiv_comp_rate = individuals_compliance_rates_FIT[e][r]\n",
    "    fit_count = 0\n",
    "    colonoscopy_count = 0\n",
    "    for x in indiv_comp_rate:\n",
    "        for i in x.procedures:\n",
    "            if list(i.keys())[0] == 50:\n",
    "                if i[50] == Procedure.FIT:\n",
    "    #                 print(f'{x.previous_states[0]} : ')\n",
    "                    fit_count += 1\n",
    "                elif i[50] == Procedure.COLONOSCOPY:\n",
    "                    colonoscopy_count += 1\n",
    "    print(f'{r} - {fit_count} - {colonoscopy_count}')"
   ]
  },
  {
   "cell_type": "code",
   "execution_count": null,
   "metadata": {},
   "outputs": [],
   "source": []
  },
  {
   "cell_type": "code",
   "execution_count": 128,
   "metadata": {},
   "outputs": [],
   "source": [
    "gfobt_procs = pd.DataFrame()\n",
    "gfobt_procs['first'] = [i.procedures[0].name if len(i.procedures) > 0 else 'NONE' for i in individuals_gfobt]\n",
    "gfobt_procs['second'] = [i.procedures[1].name if len(i.procedures) > 1 else 'NONE' for i in individuals_gfobt]"
   ]
  },
  {
   "cell_type": "code",
   "execution_count": 144,
   "metadata": {},
   "outputs": [
    {
     "data": {
      "text/plain": [
       "1019789.2705199999"
      ]
     },
     "execution_count": 144,
     "metadata": {},
     "output_type": "execute_result"
    }
   ],
   "source": [
    "gfobt_procs[gfobt_procs['second'] == 'COLONOSCOPY'].count()['second'] / 100_000 * 11_697_514"
   ]
  },
  {
   "cell_type": "code",
   "execution_count": 139,
   "metadata": {},
   "outputs": [],
   "source": [
    "fit_procs = pd.DataFrame()\n",
    "fit_procs['first'] = [i.procedures[0].name if len(i.procedures) > 0 else 'NONE' for i in individuals_FIT]\n",
    "fit_procs['second'] = [i.procedures[1].name if len(i.procedures) > 1 else 'NONE' for i in individuals_FIT]"
   ]
  },
  {
   "cell_type": "code",
   "execution_count": 145,
   "metadata": {},
   "outputs": [
    {
     "data": {
      "text/plain": [
       "926209.15852"
      ]
     },
     "execution_count": 145,
     "metadata": {},
     "output_type": "execute_result"
    }
   ],
   "source": [
    "fit_procs[fit_procs['second'] == 'COLONOSCOPY'].count()['second'] / 100_000 *  11_697_514"
   ]
  },
  {
   "cell_type": "code",
   "execution_count": null,
   "metadata": {},
   "outputs": [],
   "source": []
  },
  {
   "cell_type": "markdown",
   "metadata": {},
   "source": [
    "## Sensitivity Analysis for GFOBT Compliance Rates"
   ]
  },
  {
   "cell_type": "code",
   "execution_count": 228,
   "metadata": {
    "scrolled": true
   },
   "outputs": [
    {
     "name": "stdout",
     "output_type": "stream",
     "text": [
      "Sim 1 - QALYs: 1647127.45631068 - Costs: 2229120713.225242\n",
      "Sim 2 - QALYs: 1650990.677184466 - Costs: 2205254832.875728\n",
      "Sim 3 - QALYs: 1653287.9218446605 - Costs: 2214100644.441845\n",
      "Sim 4 - QALYs: 1655097.900485437 - Costs: 2223567762.2891264\n",
      "Sim 5 - QALYs: 1659259.5184466022 - Costs: 2182135952.955048\n",
      "Sim 6 - QALYs: 1662254.0043689322 - Costs: 2173593416.1263103\n",
      "Sim 7 - QALYs: 1662276.246601942 - Costs: 2191771300.402136\n",
      "Sim 8 - QALYs: 1663323.7432038833 - Costs: 2167163960.97466\n",
      "Sim 9 - QALYs: 1667243.9975728157 - Costs: 2151613375.634369\n",
      "Sim 10 - QALYs: 1670180.5427184466 - Costs: 2161869522.7183495\n",
      "Sim 11 - QALYs: 1671645.4291262138 - Costs: 2192042866.3357277\n",
      "Sim 12 - QALYs: 1675358.8854368932 - Costs: 2178308477.0512614\n",
      "Sim 13 - QALYs: 1676886.1111650486 - Costs: 2180426542.58398\n",
      "Sim 14 - QALYs: 1678429.4354368933 - Costs: 2157761691.8990293\n",
      "Sim 15 - QALYs: 1680377.882524272 - Costs: 2149706670.43\n",
      "Sim 16 - QALYs: 1683438.8213592237 - Costs: 2159706976.3928156\n",
      "Sim 17 - QALYs: 1684731.3495145633 - Costs: 2161167063.2617474\n",
      "Sim 18 - QALYs: 1686196.0155339807 - Costs: 2145081577.88398\n",
      "Sim 19 - QALYs: 1688077.2567961167 - Costs: 2111060373.7411652\n",
      "Sim 20 - QALYs: 1689850.66407767 - Costs: 2136174131.201262\n",
      "Sim 21 - QALYs: 1693217.623300971 - Costs: 2153278461.9268928\n",
      "Sim 22 - QALYs: 1695367.187378641 - Costs: 2157444213.667767\n",
      "Sim 23 - QALYs: 1696280.6626213593 - Costs: 2105108288.0760193\n",
      "Sim 24 - QALYs: 1700253.7980582523 - Costs: 2149134215.394757\n",
      "Sim 25 - QALYs: 1697730.9111650484 - Costs: 2132898455.1994174\n",
      "Sim 26 - QALYs: 1702660.1834951462 - Costs: 2112773175.0977669\n",
      "Sim 27 - QALYs: 1705205.247572816 - Costs: 2143649251.8816507\n",
      "Sim 28 - QALYs: 1707312.849029126 - Costs: 2108402549.8384461\n",
      "Sim 29 - QALYs: 1708923.8728155342 - Costs: 2159287416.5364075\n",
      "Sim 30 - QALYs: 1710860.1810679617 - Costs: 2157818037.3458247\n",
      "Sim 31 - QALYs: 1712133.4587378642 - Costs: 2115047925.4197087\n",
      "Sim 32 - QALYs: 1713007.6708737866 - Costs: 2125345425.0926213\n",
      "Sim 33 - QALYs: 1716365.9402912622 - Costs: 2168771674.863301\n",
      "Sim 34 - QALYs: 1718433.372815534 - Costs: 2113791736.5467963\n",
      "Sim 35 - QALYs: 1719372.7378640776 - Costs: 2120204002.254466\n",
      "Sim 36 - QALYs: 1722331.3135922332 - Costs: 2100948277.9195142\n",
      "Sim 37 - QALYs: 1723030.7922330098 - Costs: 2145095959.1367965\n",
      "Sim 38 - QALYs: 1723444.6300970872 - Costs: 2136535939.49233\n",
      "Sim 39 - QALYs: 1726864.4548543687 - Costs: 2132433230.1957283\n",
      "Sim 40 - QALYs: 1727722.4902912623 - Costs: 2109380644.3446603\n",
      "Sim 41 - QALYs: 1729098.5422330094 - Costs: 2136402028.587767\n",
      "Sim 42 - QALYs: 1731430.6257281555 - Costs: 2123998607.396602\n",
      "Sim 43 - QALYs: 1732988.007766991 - Costs: 2160516164.5833006\n",
      "Sim 44 - QALYs: 1734618.691262136 - Costs: 2102099657.177864\n",
      "Sim 45 - QALYs: 1738264.3495145633 - Costs: 2142602443.56\n",
      "Sim 46 - QALYs: 1738911.2684466017 - Costs: 2114879464.8834953\n",
      "Sim 47 - QALYs: 1739446.410194175 - Costs: 2137596552.1038833\n",
      "Sim 48 - QALYs: 1741450.6116504855 - Costs: 2142077276.338738\n",
      "Sim 49 - QALYs: 1744379.8723300975 - Costs: 2150331776.099029\n",
      "Sim 50 - QALYs: 1744065.3995145634 - Costs: 2117113413.9540775\n",
      "Sim 51 - QALYs: 1746367.0067961162 - Costs: 2089028752.050097\n",
      "Sim 52 - QALYs: 1749176.1009708738 - Costs: 2130187127.342524\n",
      "Sim 53 - QALYs: 1749074.8213592232 - Costs: 2112628856.8176699\n",
      "Sim 54 - QALYs: 1751196.9436893205 - Costs: 2149860406.9144664\n",
      "Sim 55 - QALYs: 1751993.138834952 - Costs: 2134885908.2593203\n",
      "Sim 56 - QALYs: 1754822.0762135922 - Costs: 2120641602.0627184\n",
      "Sim 57 - QALYs: 1755662.1038834953 - Costs: 2156133859.601068\n",
      "Sim 58 - QALYs: 1758083.0606796117 - Costs: 2124624580.8447573\n",
      "Sim 59 - QALYs: 1757727.4179611653 - Costs: 2148269383.139903\n",
      "Sim 60 - QALYs: 1761842.569417476 - Costs: 2122458360.8314557\n",
      "Sim 61 - QALYs: 1763096.0878640774 - Costs: 2142828189.6337864\n",
      "Sim 62 - QALYs: 1764473.9422330095 - Costs: 2132711669.8200002\n",
      "Sim 63 - QALYs: 1764880.9495145632 - Costs: 2142853282.827961\n",
      "Sim 64 - QALYs: 1767588.2490291263 - Costs: 2130132480.7730095\n",
      "Sim 65 - QALYs: 1767927.204368932 - Costs: 2126574770.0250483\n",
      "Sim 66 - QALYs: 1769185.0864077671 - Costs: 2148698310.879514\n",
      "Sim 67 - QALYs: 1770931.4757281556 - Costs: 2159139892.2299027\n",
      "Sim 68 - QALYs: 1775026.1538834954 - Costs: 2139079356.1638834\n",
      "Sim 69 - QALYs: 1774389.6956310682 - Costs: 2148348089.1738834\n",
      "Sim 70 - QALYs: 1776670.9645631071 - Costs: 2130520460.863204\n",
      "Sim 71 - QALYs: 1775962.5179611652 - Costs: 2160325508.6084466\n",
      "Sim 72 - QALYs: 1778921.4310679615 - Costs: 2151352528.14767\n",
      "Sim 73 - QALYs: 1779477.7441747575 - Costs: 2154247078.269126\n",
      "Sim 74 - QALYs: 1780553.9597087381 - Costs: 2150102579.431262\n",
      "Sim 75 - QALYs: 1780403.7805825244 - Costs: 2145025042.4913595\n",
      "Sim 76 - QALYs: 1783261.3946601946 - Costs: 2153399615.0134954\n",
      "Sim 77 - QALYs: 1784918.8985436892 - Costs: 2154191969.5115533\n",
      "Sim 78 - QALYs: 1786030.1461165051 - Costs: 2148730604.127185\n",
      "Sim 79 - QALYs: 1788299.9883495148 - Costs: 2154947577.3026214\n",
      "Sim 80 - QALYs: 1789292.2286407768 - Costs: 2145762526.2839806\n",
      "Sim 81 - QALYs: 1790530.8961165047 - Costs: 2145913054.6483495\n",
      "Sim 82 - QALYs: 1791281.2368932043 - Costs: 2163395101.744563\n",
      "Sim 83 - QALYs: 1792483.2475728155 - Costs: 2161564585.2486405\n",
      "Sim 84 - QALYs: 1792159.8106796117 - Costs: 2153136533.902524\n",
      "Sim 85 - QALYs: 1793498.7747572816 - Costs: 2162561218.7801943\n",
      "Sim 86 - QALYs: 1796710.2334951453 - Costs: 2165281980.1837864\n",
      "Sim 87 - QALYs: 1796935.9859223305 - Costs: 2169803518.1994176\n",
      "Sim 88 - QALYs: 1799155.286407767 - Costs: 2192830400.2983494\n",
      "Sim 89 - QALYs: 1798852.0635922332 - Costs: 2187670844.9894176\n",
      "Sim 90 - QALYs: 1801105.2495145635 - Costs: 2185395397.1637864\n",
      "Sim 91 - QALYs: 1803065.0966019419 - Costs: 2183684659.557767\n",
      "Sim 92 - QALYs: 1803090.633495146 - Costs: 2197160581.80534\n",
      "Sim 93 - QALYs: 1804601.4538834952 - Costs: 2205960762.9853396\n",
      "Sim 94 - QALYs: 1806526.0014563107 - Costs: 2198575432.9293203\n",
      "Sim 95 - QALYs: 1807400.3558252428 - Costs: 2195266735.6502914\n",
      "Sim 96 - QALYs: 1808796.0058252427 - Costs: 2187709663.1281557\n",
      "Sim 97 - QALYs: 1808723.9805825243 - Costs: 2188628111.3081555\n",
      "Sim 98 - QALYs: 1809337.623786408 - Costs: 2193164951.140874\n",
      "Sim 99 - QALYs: 1809911.319902913 - Costs: 2201326565.0878644\n"
     ]
    }
   ],
   "source": [
    "individual_sensitivity_qalys = np.array([])\n",
    "individual_sensitivity_costs = np.array([])\n",
    "individual_sensitivity_icers = np.array([])\n",
    "\n",
    "# Simulate!\n",
    "for compliance_rate in range(1, 100):\n",
    "    individual_count = 100000\n",
    "    rand_individual_state_gen = RandomCVGenerator()\n",
    "    rand_individual_sex_gen = RandomCVGenerator(724)\n",
    "\n",
    "    individuals = [Individual(next(rand_individual_state_gen), next(rand_individual_sex_gen),\n",
    "                              init_states_prob=health_prevalence_rate) for _ in range(individual_count)]\n",
    "    sim_gen = RandomCVGenerator()\n",
    "    for k in range(20):\n",
    "        for i in individuals:\n",
    "            FOBT_screening(i, sim_gen, compliance_rate/100, 1, Procedure.GFOBT)\n",
    "    individual_sensitivity_qalys = np.append(individual_sensitivity_qalys, \n",
    "                                           sum(np.array([i.qalys for i in individuals])))\n",
    "    individual_sensitivity_costs = np.append(individual_sensitivity_costs, \n",
    "                                           sum(np.array([i.costs for i in individuals])))\n",
    "    \n",
    "    print(f'Sim {compliance_rate} - '\\\n",
    "          f'QALYs: {sum(np.array([i.qalys for i in individuals]))} - '\\\n",
    "          f'Costs: {sum(np.array([i.costs for i in individuals]))}')"
   ]
  },
  {
   "cell_type": "code",
   "execution_count": 229,
   "metadata": {},
   "outputs": [
    {
     "data": {
      "text/plain": [
       "[<matplotlib.lines.Line2D at 0x7fa7b131da90>]"
      ]
     },
     "execution_count": 229,
     "metadata": {},
     "output_type": "execute_result"
    },
    {
     "data": {
      "image/png": "[encoded data removed]",
      "text/plain": [
       "<matplotlib.figure.Figure at 0x7fa7c803a518>"
      ]
     },
     "metadata": {},
     "output_type": "display_data"
    }
   ],
   "source": [
    "plot(range(1,100), individual_sensitivity_qalys)"
   ]
  },
  {
   "cell_type": "code",
   "execution_count": 230,
   "metadata": {},
   "outputs": [
    {
     "data": {
      "text/plain": [
       "[<matplotlib.lines.Line2D at 0x7fa7b784aa58>]"
      ]
     },
     "execution_count": 230,
     "metadata": {},
     "output_type": "execute_result"
    },
    {
     "data": {
      "image/png": "[encoded data removed]",
      "text/plain": [
       "<matplotlib.figure.Figure at 0x7fa7aeefaf28>"
      ]
     },
     "metadata": {},
     "output_type": "display_data"
    }
   ],
   "source": [
    "plot(range(1,100), individual_sensitivity_costs)"
   ]
  },
  {
   "cell_type": "code",
   "execution_count": 231,
   "metadata": {},
   "outputs": [
    {
     "name": "stderr",
     "output_type": "stream",
     "text": [
      "/home/hadrian/anaconda3/lib/python3.6/site-packages/statsmodels/compat/pandas.py:56: FutureWarning: The pandas.core.datetools module is deprecated and will be removed in a future version. Please use the pandas.tseries module instead.\n",
      "  from pandas.core import datetools\n"
     ]
    }
   ],
   "source": [
    "from statsmodels.tsa.filters.hp_filter import hpfilter"
   ]
  },
  {
   "cell_type": "code",
   "execution_count": 249,
   "metadata": {},
   "outputs": [
    {
     "data": {
      "text/plain": [
       "[<matplotlib.lines.Line2D at 0x7fa7a70d94a8>]"
      ]
     },
     "execution_count": 249,
     "metadata": {},
     "output_type": "execute_result"
    },
    {
     "data": {
      "image/png": "[encoded data removed]",
      "text/plain": [
       "<matplotlib.figure.Figure at 0x7fa7a71984a8>"
      ]
     },
     "metadata": {},
     "output_type": "display_data"
    }
   ],
   "source": [
    "plot(range(1, 100), hpfilter(individual_sensitivity_qalys, lamb=100*2**2 )[1],'g.')\n"
   ]
  },
  {
   "cell_type": "code",
   "execution_count": 248,
   "metadata": {
    "scrolled": false
   },
   "outputs": [
    {
     "data": {
      "text/plain": [
       "[<matplotlib.lines.Line2D at 0x7fa7a7100ba8>]"
      ]
     },
     "execution_count": 248,
     "metadata": {},
     "output_type": "execute_result"
    },
    {
     "data": {
      "image/png": "[encoded data removed]",
      "text/plain": [
       "<matplotlib.figure.Figure at 0x7fa7a71901d0>"
      ]
     },
     "metadata": {},
     "output_type": "display_data"
    }
   ],
   "source": [
    "plot(range(1, 100), hpfilter(individual_sensitivity_costs, lamb=100*2**2)[1], 'g.')"
   ]
  },
  {
   "cell_type": "markdown",
   "metadata": {},
   "source": [
    "## Sensitivity Analysis for FIT Compliance Rates"
   ]
  },
  {
   "cell_type": "code",
   "execution_count": 250,
   "metadata": {
    "scrolled": true
   },
   "outputs": [
    {
     "name": "stdout",
     "output_type": "stream",
     "text": [
      "Sim 1 - QALYs: 1650192.2048543694 - Costs: 2195419729.102913\n",
      "Sim 2 - QALYs: 1652282.2199029129 - Costs: 2221036361.4008737\n",
      "Sim 3 - QALYs: 1654898.1179611653 - Costs: 2193105361.3089323\n",
      "Sim 4 - QALYs: 1656186.469417476 - Costs: 2184255180.629709\n",
      "Sim 5 - QALYs: 1657785.1422330101 - Costs: 2190366195.696408\n",
      "Sim 6 - QALYs: 1663234.0577669903 - Costs: 2224735950.6843686\n",
      "Sim 7 - QALYs: 1665953.5800970877 - Costs: 2199050380.140971\n",
      "Sim 8 - QALYs: 1667159.4286407768 - Costs: 2186330579.6583495\n",
      "Sim 9 - QALYs: 1669871.1519417476 - Costs: 2178362564.491359\n",
      "Sim 10 - QALYs: 1671803.0082524272 - Costs: 2183566602.655631\n",
      "Sim 11 - QALYs: 1674546.3650485438 - Costs: 2154536432.8941746\n",
      "Sim 12 - QALYs: 1677984.3223300972 - Costs: 2178374767.71466\n",
      "Sim 13 - QALYs: 1681206.8121359223 - Costs: 2163167080.0518446\n",
      "Sim 14 - QALYs: 1682203.3747572817 - Costs: 2151519136.0802913\n",
      "Sim 15 - QALYs: 1684522.7548543692 - Costs: 2180154193.6174755\n",
      "Sim 16 - QALYs: 1686551.2611650492 - Costs: 2194001048.9021363\n",
      "Sim 17 - QALYs: 1687990.9796116508 - Costs: 2149783824.1425242\n",
      "Sim 18 - QALYs: 1691498.0174757284 - Costs: 2184497348.6314564\n",
      "Sim 19 - QALYs: 1693652.8033980583 - Costs: 2161832635.8893204\n",
      "Sim 20 - QALYs: 1696135.6063106798 - Costs: 2167562126.576796\n",
      "Sim 21 - QALYs: 1697585.859223301 - Costs: 2176593276.0403886\n",
      "Sim 22 - QALYs: 1699707.2669902914 - Costs: 2179590799.3332033\n",
      "Sim 23 - QALYs: 1702187.6766990293 - Costs: 2155181060.8001943\n",
      "Sim 24 - QALYs: 1705464.0480582528 - Costs: 2188886384.6443686\n",
      "Sim 25 - QALYs: 1707697.4703883496 - Costs: 2169181309.821359\n",
      "Sim 26 - QALYs: 1708182.1563106796 - Costs: 2158860346.34534\n",
      "Sim 27 - QALYs: 1710560.878640777 - Costs: 2158151503.7442718\n",
      "Sim 28 - QALYs: 1711807.2854368933 - Costs: 2147622732.178641\n",
      "Sim 29 - QALYs: 1715020.3854368934 - Costs: 2167941215.315437\n",
      "Sim 30 - QALYs: 1719613.5961165049 - Costs: 2169015641.1548543\n",
      "Sim 31 - QALYs: 1719501.7606796117 - Costs: 2198473268.7448545\n",
      "Sim 32 - QALYs: 1721961.741262136 - Costs: 2179794875.099417\n",
      "Sim 33 - QALYs: 1723057.953883495 - Costs: 2190027457.715437\n",
      "Sim 34 - QALYs: 1725809.4456310684 - Costs: 2188190589.6539803\n",
      "Sim 35 - QALYs: 1727873.5432038833 - Costs: 2184822868.2339807\n",
      "Sim 36 - QALYs: 1730234.5276699031 - Costs: 2188630904.4872813\n",
      "Sim 37 - QALYs: 1733060.0922330096 - Costs: 2212880664.2442718\n",
      "Sim 38 - QALYs: 1734363.0737864082 - Costs: 2184985079.778058\n",
      "Sim 39 - QALYs: 1736528.075728156 - Costs: 2193895146.9398055\n",
      "Sim 40 - QALYs: 1738299.6577669904 - Costs: 2183466709.743398\n",
      "Sim 41 - QALYs: 1740728.8902912622 - Costs: 2197999764.17835\n",
      "Sim 42 - QALYs: 1742435.186407767 - Costs: 2179660993.5993204\n",
      "Sim 43 - QALYs: 1743731.336407767 - Costs: 2184595116.9331064\n",
      "Sim 44 - QALYs: 1745619.990776699 - Costs: 2184424071.2228155\n",
      "Sim 45 - QALYs: 1749546.908737864 - Costs: 2244105938.2116504\n",
      "Sim 46 - QALYs: 1750226.7995145633 - Costs: 2188815044.176699\n",
      "Sim 47 - QALYs: 1752793.4844660196 - Costs: 2190321051.4032035\n",
      "Sim 48 - QALYs: 1753207.519902913 - Costs: 2226580348.876408\n",
      "Sim 49 - QALYs: 1755511.2854368936 - Costs: 2199494497.544078\n",
      "Sim 50 - QALYs: 1757195.8946601944 - Costs: 2230018404.09\n",
      "Sim 51 - QALYs: 1757476.9703883498 - Costs: 2233172164.363981\n",
      "Sim 52 - QALYs: 1762366.8237864082 - Costs: 2218633523.8063107\n",
      "Sim 53 - QALYs: 1763706.9966019415 - Costs: 2211762514.4735923\n",
      "Sim 54 - QALYs: 1764734.8504854373 - Costs: 2217509662.2899027\n",
      "Sim 55 - QALYs: 1766302.9131067963 - Costs: 2223747674.987572\n",
      "Sim 56 - QALYs: 1768202.5689320392 - Costs: 2227340245.359709\n",
      "Sim 57 - QALYs: 1770451.1796116505 - Costs: 2251942798.439612\n",
      "Sim 58 - QALYs: 1772760.633495146 - Costs: 2214180035.809709\n",
      "Sim 59 - QALYs: 1771668.6189320392 - Costs: 2205151367.2405825\n",
      "Sim 60 - QALYs: 1775545.608737864 - Costs: 2270245568.0558248\n",
      "Sim 61 - QALYs: 1777326.6189320388 - Costs: 2242583089.614757\n",
      "Sim 62 - QALYs: 1776576.1572815536 - Costs: 2278625990.683786\n",
      "Sim 63 - QALYs: 1780629.8606796118 - Costs: 2249773348.2804847\n",
      "Sim 64 - QALYs: 1781179.2980582523 - Costs: 2252461562.866894\n",
      "Sim 65 - QALYs: 1783431.4504854374 - Costs: 2263383819.396699\n",
      "Sim 66 - QALYs: 1784125.4640776704 - Costs: 2271181097.9661164\n",
      "Sim 67 - QALYs: 1786246.2111650489 - Costs: 2281236892.9060197\n",
      "Sim 68 - QALYs: 1789059.2286407766 - Costs: 2272175711.1776695\n",
      "Sim 69 - QALYs: 1791010.6427184467 - Costs: 2259027174.892913\n",
      "Sim 70 - QALYs: 1791918.7538834955 - Costs: 2272925174.249029\n",
      "Sim 71 - QALYs: 1793155.1766990293 - Costs: 2290044285.340583\n",
      "Sim 72 - QALYs: 1795636.836893204 - Costs: 2277048070.139709\n",
      "Sim 73 - QALYs: 1796237.7475728157 - Costs: 2304091501.4010677\n",
      "Sim 74 - QALYs: 1799658.9718446606 - Costs: 2309837392.7062144\n",
      "Sim 75 - QALYs: 1799668.6038834956 - Costs: 2293627368.53534\n",
      "Sim 76 - QALYs: 1799402.660679612 - Costs: 2283725388.3943686\n",
      "Sim 77 - QALYs: 1801926.719417476 - Costs: 2291168468.9182525\n",
      "Sim 78 - QALYs: 1804296.5330097089 - Costs: 2313078779.0888352\n",
      "Sim 79 - QALYs: 1804490.5131067962 - Costs: 2320258392.6307764\n",
      "Sim 80 - QALYs: 1807000.5155339807 - Costs: 2288719267.561845\n",
      "Sim 81 - QALYs: 1809032.291747573 - Costs: 2323019279.2130103\n",
      "Sim 82 - QALYs: 1809113.4820388353 - Costs: 2327379598.310777\n",
      "Sim 83 - QALYs: 1811525.0291262139 - Costs: 2317611566.292621\n",
      "Sim 84 - QALYs: 1812259.2830097086 - Costs: 2313507396.319223\n",
      "Sim 85 - QALYs: 1812871.8567961168 - Costs: 2314961677.1049514\n",
      "Sim 86 - QALYs: 1816745.0713592237 - Costs: 2351840677.041748\n",
      "Sim 87 - QALYs: 1817794.6354368934 - Costs: 2361575334.3192234\n",
      "Sim 88 - QALYs: 1817039.5359223303 - Costs: 2330505078.180389\n",
      "Sim 89 - QALYs: 1820236.351456311 - Costs: 2341245670.601554\n",
      "Sim 90 - QALYs: 1823022.0354368938 - Costs: 2355301869.8963113\n",
      "Sim 91 - QALYs: 1821966.0854368932 - Costs: 2354591538.9244666\n",
      "Sim 92 - QALYs: 1824118.5480582525 - Costs: 2370519145.1936893\n",
      "Sim 93 - QALYs: 1826552.8000000003 - Costs: 2380085478.6168933\n",
      "Sim 94 - QALYs: 1827242.509708738 - Costs: 2360346378.060971\n",
      "Sim 95 - QALYs: 1828823.5213592234 - Costs: 2371914963.1680584\n",
      "Sim 96 - QALYs: 1828878.4844660198 - Costs: 2378917748.8567963\n",
      "Sim 97 - QALYs: 1830056.74223301 - Costs: 2380638746.0463114\n",
      "Sim 98 - QALYs: 1832225.2145631067 - Costs: 2386024503.196311\n",
      "Sim 99 - QALYs: 1833127.1747572818 - Costs: 2381742508.9306803\n"
     ]
    }
   ],
   "source": [
    "individual_sensitivity_qalys = np.array([])\n",
    "individual_sensitivity_costs = np.array([])\n",
    "\n",
    "# Simulate!\n",
    "for compliance_rate in range(1, 100):\n",
    "    individual_count = 100000\n",
    "    rand_individual_state_gen = RandomCVGenerator()\n",
    "    rand_individual_sex_gen = RandomCVGenerator(724)\n",
    "\n",
    "    individuals = [Individual(next(rand_individual_state_gen), next(rand_individual_sex_gen),\n",
    "                              init_states_prob=health_prevalence_rate) for _ in range(individual_count)]\n",
    "    sim_gen = RandomCVGenerator()\n",
    "    for k in range(20):\n",
    "        for i in individuals:\n",
    "            FOBT_screening(i, sim_gen, compliance_rate/100, 1, Procedure.FIT)\n",
    "    individual_sensitivity_qalys = np.append(individual_sensitivity_qalys,\n",
    "                                             sum(np.array([i.qalys for i in individuals])))\n",
    "    individual_sensitivity_costs = np.append(individual_sensitivity_costs,\n",
    "                                             sum(np.array([i.costs for i in individuals])))\n",
    "\n",
    "    print(f'Sim {compliance_rate} - '\n",
    "          f'QALYs: {sum(np.array([i.qalys for i in individuals]))} - '\n",
    "          f'Costs: {sum(np.array([i.costs for i in individuals]))}')"
   ]
  },
  {
   "cell_type": "code",
   "execution_count": 251,
   "metadata": {},
   "outputs": [
    {
     "data": {
      "text/plain": [
       "[<matplotlib.lines.Line2D at 0x7fa7aebb6ef0>]"
      ]
     },
     "execution_count": 251,
     "metadata": {},
     "output_type": "execute_result"
    },
    {
     "data": {
      "image/png": "[encoded data removed]",
      "text/plain": [
       "<matplotlib.figure.Figure at 0x7fa7a7142748>"
      ]
     },
     "metadata": {},
     "output_type": "display_data"
    }
   ],
   "source": [
    "plot(range(1,100), individual_sensitivity_qalys)"
   ]
  },
  {
   "cell_type": "code",
   "execution_count": 252,
   "metadata": {},
   "outputs": [
    {
     "data": {
      "text/plain": [
       "[<matplotlib.lines.Line2D at 0x7fa7aa38f9b0>]"
      ]
     },
     "execution_count": 252,
     "metadata": {},
     "output_type": "execute_result"
    },
    {
     "data": {
      "image/png": "[encoded data removed]",
      "text/plain": [
       "<matplotlib.figure.Figure at 0x7fa7acaa25c0>"
      ]
     },
     "metadata": {},
     "output_type": "display_data"
    }
   ],
   "source": [
    "plot(range(1,100), individual_sensitivity_costs)"
   ]
  },
  {
   "cell_type": "code",
   "execution_count": 253,
   "metadata": {},
   "outputs": [],
   "source": [
    "from statsmodels.tsa.filters.hp_filter import hpfilter"
   ]
  },
  {
   "cell_type": "code",
   "execution_count": 256,
   "metadata": {},
   "outputs": [
    {
     "data": {
      "text/plain": [
       "[<matplotlib.lines.Line2D at 0x7fa7b3772d30>]"
      ]
     },
     "execution_count": 256,
     "metadata": {},
     "output_type": "execute_result"
    },
    {
     "data": {
      "image/png": "[encoded data removed]",
      "text/plain": [
       "<matplotlib.figure.Figure at 0x7fa7a32b5ef0>"
      ]
     },
     "metadata": {},
     "output_type": "display_data"
    }
   ],
   "source": [
    "plot(range(1, 100), hpfilter(individual_sensitivity_qalys, lamb=100*2**2)[1], 'g.')"
   ]
  },
  {
   "cell_type": "code",
   "execution_count": 257,
   "metadata": {
    "scrolled": false
   },
   "outputs": [
    {
     "data": {
      "text/plain": [
       "[<matplotlib.lines.Line2D at 0x7fa7af717b00>]"
      ]
     },
     "execution_count": 257,
     "metadata": {},
     "output_type": "execute_result"
    },
    {
     "data": {
      "image/png": "[encoded data removed]",
      "text/plain": [
       "<matplotlib.figure.Figure at 0x7fa7afedaa58>"
      ]
     },
     "metadata": {},
     "output_type": "display_data"
    }
   ],
   "source": [
    "plot(range(1, 100), hpfilter(individual_sensitivity_costs, lamb=100*2**2)[1], 'g.')"
   ]
  },
  {
   "cell_type": "markdown",
   "metadata": {},
   "source": [
    "## Sensitivity Analysis for Colonoscopy Compliance Rates"
   ]
  },
  {
   "cell_type": "code",
   "execution_count": 258,
   "metadata": {
    "scrolled": true
   },
   "outputs": [
    {
     "name": "stdout",
     "output_type": "stream",
     "text": [
      "Sim 1 - QALYs: 1655149.9553398057 - Costs: 2211030438.207475\n",
      "Sim 2 - QALYs: 1662041.3480582524 - Costs: 2226783212.055437\n",
      "Sim 3 - QALYs: 1666926.2024271847 - Costs: 2222827640.649126\n",
      "Sim 4 - QALYs: 1675192.860194175 - Costs: 2238927265.0533977\n",
      "Sim 5 - QALYs: 1680783.879126214 - Costs: 2244915259.957379\n",
      "Sim 6 - QALYs: 1686856.5019417475 - Costs: 2278869544.7266016\n",
      "Sim 7 - QALYs: 1691577.8927184464 - Costs: 2291126292.970291\n",
      "Sim 8 - QALYs: 1694493.5499999998 - Costs: 2269027828.410291\n",
      "Sim 9 - QALYs: 1698384.6757281553 - Costs: 2271137840.0825243\n",
      "Sim 10 - QALYs: 1704151.1203883495 - Costs: 2264706230.7118444\n",
      "Sim 11 - QALYs: 1705892.4902912623 - Costs: 2290467128.1659226\n",
      "Sim 12 - QALYs: 1710185.81407767 - Costs: 2298330312.401553\n",
      "Sim 13 - QALYs: 1713658.4004854371 - Costs: 2309800863.1808743\n",
      "Sim 14 - QALYs: 1714609.769417476 - Costs: 2275328416.3715534\n",
      "Sim 15 - QALYs: 1717355.282038835 - Costs: 2327613333.0299997\n",
      "Sim 16 - QALYs: 1717923.845145631 - Costs: 2339097076.8938837\n",
      "Sim 17 - QALYs: 1719650.3893203884 - Costs: 2315844924.198835\n",
      "Sim 18 - QALYs: 1722964.9713592236 - Costs: 2369955111.267961\n",
      "Sim 19 - QALYs: 1722798.8247572817 - Costs: 2357948448.4553394\n",
      "Sim 20 - QALYs: 1725665.7092233011 - Costs: 2359957128.72534\n",
      "Sim 21 - QALYs: 1728022.8388349516 - Costs: 2363361690.440291\n",
      "Sim 22 - QALYs: 1729332.1723300975 - Costs: 2358287591.9183493\n",
      "Sim 23 - QALYs: 1730185.558737864 - Costs: 2348400918.642233\n",
      "Sim 24 - QALYs: 1732670.0354368936 - Costs: 2387558348.204757\n",
      "Sim 25 - QALYs: 1733456.109223301 - Costs: 2411690187.6437864\n",
      "Sim 26 - QALYs: 1735168.103883495 - Costs: 2413615292.9487376\n",
      "Sim 27 - QALYs: 1734971.0665048545 - Costs: 2397566798.1481557\n",
      "Sim 28 - QALYs: 1736887.7917475728 - Costs: 2403552257.2073784\n",
      "Sim 29 - QALYs: 1738931.2917475726 - Costs: 2423270958.1036897\n",
      "Sim 30 - QALYs: 1739116.236407767 - Costs: 2430430064.2837863\n",
      "Sim 31 - QALYs: 1739517.1067961163 - Costs: 2425833860.9607763\n",
      "Sim 32 - QALYs: 1741701.959223301 - Costs: 2443184821.7715535\n",
      "Sim 33 - QALYs: 1741599.3917475727 - Costs: 2432865978.9766994\n",
      "Sim 34 - QALYs: 1740979.1208737865 - Costs: 2433503160.501262\n",
      "Sim 35 - QALYs: 1742639.9063106796 - Costs: 2432861982.601262\n",
      "Sim 36 - QALYs: 1743118.5058252427 - Costs: 2463247997.778447\n",
      "Sim 37 - QALYs: 1744699.0917475729 - Costs: 2436318081.324175\n",
      "Sim 38 - QALYs: 1743291.897572816 - Costs: 2447943875.7772818\n",
      "Sim 39 - QALYs: 1744535.3800970877 - Costs: 2468658396.4549513\n",
      "Sim 40 - QALYs: 1745485.9043689324 - Costs: 2460517687.1606793\n",
      "Sim 41 - QALYs: 1747201.223300971 - Costs: 2469562363.9602914\n",
      "Sim 42 - QALYs: 1746646.2364077668 - Costs: 2448137741.8953395\n",
      "Sim 43 - QALYs: 1749273.1121359225 - Costs: 2452458498.972816\n",
      "Sim 44 - QALYs: 1748538.900485437 - Costs: 2460902070.39233\n",
      "Sim 45 - QALYs: 1748403.641747573 - Costs: 2443748168.7069902\n",
      "Sim 46 - QALYs: 1749433.9723300973 - Costs: 2474471986.408252\n",
      "Sim 47 - QALYs: 1749294.6961165047 - Costs: 2448553808.5732036\n",
      "Sim 48 - QALYs: 1748640.319902913 - Costs: 2485051922.0728154\n",
      "Sim 49 - QALYs: 1750143.3859223304 - Costs: 2490191263.7491264\n",
      "Sim 50 - QALYs: 1750009.024271845 - Costs: 2467711370.02699\n",
      "Sim 51 - QALYs: 1752503.950485437 - Costs: 2496300480.758058\n",
      "Sim 52 - QALYs: 1749847.5766990294 - Costs: 2467552131.7822323\n",
      "Sim 53 - QALYs: 1750205.7985436895 - Costs: 2475384692.2039804\n",
      "Sim 54 - QALYs: 1751667.882524272 - Costs: 2474689871.151553\n",
      "Sim 55 - QALYs: 1752164.7262135926 - Costs: 2494467254.073689\n",
      "Sim 56 - QALYs: 1753553.3674757283 - Costs: 2484571489.9154367\n",
      "Sim 57 - QALYs: 1754309.955339806 - Costs: 2473392232.0836887\n",
      "Sim 58 - QALYs: 1753276.9218446605 - Costs: 2483248894.261651\n",
      "Sim 59 - QALYs: 1755154.5286407766 - Costs: 2442275085.075825\n",
      "Sim 60 - QALYs: 1753177.5194174757 - Costs: 2463141289.3199034\n",
      "Sim 61 - QALYs: 1754416.5398058253 - Costs: 2478355364.0929127\n",
      "Sim 62 - QALYs: 1754013.6844660197 - Costs: 2495014171.800971\n",
      "Sim 63 - QALYs: 1755052.6820388352 - Costs: 2484443290.8289323\n",
      "Sim 64 - QALYs: 1755886.6388349517 - Costs: 2482076401.1956306\n",
      "Sim 65 - QALYs: 1754621.7174757281 - Costs: 2487966372.395534\n",
      "Sim 66 - QALYs: 1754142.559708738 - Costs: 2472501152.9733977\n",
      "Sim 67 - QALYs: 1755499.1422330101 - Costs: 2483114452.408058\n",
      "Sim 68 - QALYs: 1755156.572330097 - Costs: 2479955686.0397086\n",
      "Sim 69 - QALYs: 1756511.7155339809 - Costs: 2461924208.832524\n",
      "Sim 70 - QALYs: 1756666.7203883494 - Costs: 2488472742.1352425\n",
      "Sim 71 - QALYs: 1756915.1694174756 - Costs: 2479123648.96932\n",
      "Sim 72 - QALYs: 1757069.726699029 - Costs: 2474533073.947088\n",
      "Sim 73 - QALYs: 1757343.2480582523 - Costs: 2493478716.9626217\n",
      "Sim 74 - QALYs: 1757072.532038835 - Costs: 2481265480.2633014\n",
      "Sim 75 - QALYs: 1758130.5398058256 - Costs: 2480265243.069126\n",
      "Sim 76 - QALYs: 1757563.9966019418 - Costs: 2482647612.8121357\n",
      "Sim 77 - QALYs: 1759626.0524271845 - Costs: 2497021751.795631\n",
      "Sim 78 - QALYs: 1759999.5825242724 - Costs: 2504532408.9464073\n",
      "Sim 79 - QALYs: 1757600.4587378644 - Costs: 2488312121.166602\n",
      "Sim 80 - QALYs: 1758230.4063106794 - Costs: 2494685798.221359\n",
      "Sim 81 - QALYs: 1759573.5 - Costs: 2475658116.587087\n",
      "Sim 82 - QALYs: 1759741.706796117 - Costs: 2495729345.2781553\n",
      "Sim 83 - QALYs: 1759650.527669903 - Costs: 2513226190.018932\n",
      "Sim 84 - QALYs: 1759910.9762135926 - Costs: 2523807427.5031066\n",
      "Sim 85 - QALYs: 1760822.7669902917 - Costs: 2516885514.1033983\n",
      "Sim 86 - QALYs: 1759880.6160194175 - Costs: 2519975749.6628156\n",
      "Sim 87 - QALYs: 1759361.4645631071 - Costs: 2504018544.4646597\n",
      "Sim 88 - QALYs: 1760430.6893203885 - Costs: 2527352941.7819414\n",
      "Sim 89 - QALYs: 1759835.9393203883 - Costs: 2518372469.1236887\n",
      "Sim 90 - QALYs: 1759881.7674757284 - Costs: 2522750651.0075727\n",
      "Sim 91 - QALYs: 1759200.0291262139 - Costs: 2498988025.7987375\n",
      "Sim 92 - QALYs: 1759840.445631068 - Costs: 2522447557.2777667\n",
      "Sim 93 - QALYs: 1760217.9038834954 - Costs: 2515971572.1410675\n",
      "Sim 94 - QALYs: 1761964.183495146 - Costs: 2524735581.287281\n",
      "Sim 95 - QALYs: 1761197.248058253 - Costs: 2516800575.083301\n",
      "Sim 96 - QALYs: 1761655.0868932044 - Costs: 2517898288.6874757\n",
      "Sim 97 - QALYs: 1761154.7854368933 - Costs: 2529925460.55233\n",
      "Sim 98 - QALYs: 1761218.406796117 - Costs: 2519915805.658447\n",
      "Sim 99 - QALYs: 1761745.7990291263 - Costs: 2536999133.91932\n"
     ]
    }
   ],
   "source": [
    "individual_sensitivity_qalys = np.array([])\n",
    "individual_sensitivity_costs = np.array([])\n",
    "\n",
    "# Simulate!\n",
    "for compliance_rate in range(1, 100):\n",
    "    individual_count = 100000\n",
    "    rand_individual_state_gen = RandomCVGenerator()\n",
    "    rand_individual_sex_gen = RandomCVGenerator(724)\n",
    "\n",
    "    individuals = [Individual(next(rand_individual_state_gen), next(rand_individual_sex_gen),\n",
    "                              init_states_prob=health_prevalence_rate) for _ in range(individual_count)]\n",
    "    sim_gen = RandomCVGenerator()\n",
    "    for k in range(20):\n",
    "        for i in individuals:\n",
    "            colonoscopy_screening(i, sim_gen, compliance_rate/100)\n",
    "    individual_sensitivity_qalys = np.append(individual_sensitivity_qalys, \n",
    "                                           sum(np.array([i.qalys for i in individuals])))\n",
    "    individual_sensitivity_costs = np.append(individual_sensitivity_costs, \n",
    "                                           sum(np.array([i.costs for i in individuals])))\n",
    "    \n",
    "    print(f'Sim {compliance_rate} - '\\\n",
    "          f'QALYs: {sum(np.array([i.qalys for i in individuals]))} - '\\\n",
    "          f'Costs: {sum(np.array([i.costs for i in individuals]))}')"
   ]
  },
  {
   "cell_type": "markdown",
   "metadata": {},
   "source": [
    "## Sensitivity Analysis for FIT Compliance Rates"
   ]
  },
  {
   "cell_type": "code",
   "execution_count": 263,
   "metadata": {
    "scrolled": true
   },
   "outputs": [
    {
     "name": "stdout",
     "output_type": "stream",
     "text": [
      "Sim 1 - QALYs: 1759250.0009708747 - Costs: 1587485879.8218446\n",
      "Sim 2 - QALYs: 1759417.1339805827 - Costs: 1586351104.2812622\n",
      "Sim 3 - QALYs: 1758968.5169902917 - Costs: 1610399793.3924272\n",
      "Sim 4 - QALYs: 1759363.5291262139 - Costs: 1638352925.9057283\n",
      "Sim 5 - QALYs: 1761080.1276699032 - Costs: 1639798588.3197086\n",
      "Sim 6 - QALYs: 1761242.4791262138 - Costs: 1646719601.0187378\n",
      "Sim 7 - QALYs: 1762201.1519417479 - Costs: 1683828630.1394176\n",
      "Sim 8 - QALYs: 1763189.5242718447 - Costs: 1700973171.8621356\n",
      "Sim 9 - QALYs: 1761556.1262135927 - Costs: 1723743408.6010675\n",
      "Sim 10 - QALYs: 1762329.7898058256 - Costs: 1701326596.4815533\n",
      "Sim 11 - QALYs: 1763693.7504854372 - Costs: 1712919272.6958249\n",
      "Sim 12 - QALYs: 1763976.8577669903 - Costs: 1753497676.927864\n",
      "Sim 13 - QALYs: 1764716.2174757281 - Costs: 1766265355.5346606\n",
      "Sim 14 - QALYs: 1763779.6339805827 - Costs: 1763038827.0859222\n",
      "Sim 15 - QALYs: 1765501.9373786412 - Costs: 1768963346.7302914\n",
      "Sim 16 - QALYs: 1764039.0902912624 - Costs: 1776807374.073495\n",
      "Sim 17 - QALYs: 1765048.3436893208 - Costs: 1764173143.3705828\n",
      "Sim 18 - QALYs: 1765723.937378641 - Costs: 1760589425.7548542\n",
      "Sim 19 - QALYs: 1767396.1898058255 - Costs: 1794471350.7181551\n",
      "Sim 20 - QALYs: 1767192.7592233012 - Costs: 1798820826.2795146\n",
      "Sim 21 - QALYs: 1768368.9572815537 - Costs: 1804104952.058544\n",
      "Sim 22 - QALYs: 1766926.315048544 - Costs: 1808822955.8563104\n",
      "Sim 23 - QALYs: 1767566.451941748 - Costs: 1828178200.6447573\n",
      "Sim 24 - QALYs: 1767508.6529126216 - Costs: 1830661858.0684466\n",
      "Sim 25 - QALYs: 1767924.9378640782 - Costs: 1860334945.4668932\n",
      "Sim 26 - QALYs: 1767759.6747572818 - Costs: 1870378296.742816\n",
      "Sim 27 - QALYs: 1769252.0825242724 - Costs: 1872855869.1724274\n",
      "Sim 28 - QALYs: 1769633.8825242722 - Costs: 1917087468.9350488\n",
      "Sim 29 - QALYs: 1769053.42815534 - Costs: 1884203813.0566025\n",
      "Sim 30 - QALYs: 1769500.6223300972 - Costs: 1878880172.7993205\n",
      "Sim 31 - QALYs: 1770867.2927184468 - Costs: 1893696831.5523303\n",
      "Sim 32 - QALYs: 1771306.8150485437 - Costs: 1913004405.227767\n",
      "Sim 33 - QALYs: 1771065.6961165052 - Costs: 1911741392.896408\n",
      "Sim 34 - QALYs: 1770337.377184466 - Costs: 1934061105.4027183\n",
      "Sim 35 - QALYs: 1770826.2276699033 - Costs: 1916883084.1068928\n",
      "Sim 36 - QALYs: 1772422.0203883497 - Costs: 1923345378.54068\n",
      "Sim 37 - QALYs: 1771683.1417475734 - Costs: 1957665058.0442715\n",
      "Sim 38 - QALYs: 1773184.4650485436 - Costs: 1931707797.4036894\n",
      "Sim 39 - QALYs: 1772616.1830097088 - Costs: 1958748008.7246602\n",
      "Sim 40 - QALYs: 1771538.459708738 - Costs: 1956297816.6685436\n",
      "Sim 41 - QALYs: 1772891.8995145631 - Costs: 1973448960.7129126\n",
      "Sim 42 - QALYs: 1773111.1849514563 - Costs: 1998078688.0187378\n",
      "Sim 43 - QALYs: 1772930.015533981 - Costs: 1999278038.4340777\n",
      "Sim 44 - QALYs: 1773931.7820388353 - Costs: 2008130359.2016501\n",
      "Sim 45 - QALYs: 1773402.3291262134 - Costs: 2047287086.0233982\n",
      "Sim 46 - QALYs: 1776148.218932039 - Costs: 2030279420.3338838\n",
      "Sim 47 - QALYs: 1774045.264563107 - Costs: 2007190403.82233\n",
      "Sim 48 - QALYs: 1774780.823786408 - Costs: 2015322599.812621\n",
      "Sim 49 - QALYs: 1774548.9155339806 - Costs: 2037090699.1499028\n",
      "Sim 50 - QALYs: 1775053.6567961166 - Costs: 2040191854.1070874\n",
      "Sim 51 - QALYs: 1774980.8262135924 - Costs: 2038000846.6971843\n",
      "Sim 52 - QALYs: 1775396.887378641 - Costs: 2024504246.4602914\n",
      "Sim 53 - QALYs: 1775076.083980583 - Costs: 2067072607.228641\n",
      "Sim 54 - QALYs: 1775222.9388349515 - Costs: 2067930371.8763103\n",
      "Sim 55 - QALYs: 1776184.6029126213 - Costs: 2062082773.3808737\n",
      "Sim 56 - QALYs: 1775896.0674757285 - Costs: 2095235945.5346603\n",
      "Sim 57 - QALYs: 1776914.4786407766 - Costs: 2089499245.260291\n",
      "Sim 58 - QALYs: 1777684.0762135924 - Costs: 2101517146.2842722\n",
      "Sim 59 - QALYs: 1777845.110194175 - Costs: 2117877760.8408737\n",
      "Sim 60 - QALYs: 1777210.8572815538 - Costs: 2099867836.78233\n",
      "Sim 61 - QALYs: 1778083.2184466019 - Costs: 2130059231.5633981\n",
      "Sim 62 - QALYs: 1778621.3932038837 - Costs: 2085896494.0496118\n",
      "Sim 63 - QALYs: 1776958.8145631072 - Costs: 2106096809.7691267\n",
      "Sim 64 - QALYs: 1778079.228640777 - Costs: 2098735727.4612622\n",
      "Sim 65 - QALYs: 1779685.0771844662 - Costs: 2107292713.6439805\n",
      "Sim 66 - QALYs: 1777883.7587378644 - Costs: 2113919731.8000007\n",
      "Sim 67 - QALYs: 1779793.2087378642 - Costs: 2141684143.953884\n",
      "Sim 68 - QALYs: 1780124.6436893207 - Costs: 2147324610.57\n",
      "Sim 69 - QALYs: 1779834.0859223302 - Costs: 2131854611.4500003\n",
      "Sim 70 - QALYs: 1779217.163592233 - Costs: 2122698905.7327182\n",
      "Sim 71 - QALYs: 1779843.532038835 - Costs: 2141862472.3774757\n",
      "Sim 72 - QALYs: 1779198.23592233 - Costs: 2118833582.5906796\n",
      "Sim 73 - QALYs: 1778660.4383495143 - Costs: 2145743710.1282525\n",
      "Sim 74 - QALYs: 1780514.1538834954 - Costs: 2174441492.778932\n",
      "Sim 75 - QALYs: 1780961.4859223303 - Costs: 2145802497.206214\n",
      "Sim 76 - QALYs: 1779989.8956310682 - Costs: 2154340368.571845\n",
      "Sim 77 - QALYs: 1781241.388349515 - Costs: 2163939041.92699\n",
      "Sim 78 - QALYs: 1779872.3456310679 - Costs: 2171922746.9569902\n",
      "Sim 79 - QALYs: 1780781.8461165049 - Costs: 2183188517.3214564\n",
      "Sim 80 - QALYs: 1781578.051456311 - Costs: 2167500657.683981\n",
      "Sim 81 - QALYs: 1781183.2519417477 - Costs: 2196594652.2239804\n",
      "Sim 82 - QALYs: 1782010.1019417478 - Costs: 2202325240.4718447\n",
      "Sim 83 - QALYs: 1782272.0398058256 - Costs: 2211304068.041845\n",
      "Sim 84 - QALYs: 1781437.1543689324 - Costs: 2190845669.4843693\n",
      "Sim 85 - QALYs: 1782265.4344660197 - Costs: 2196332927.274078\n",
      "Sim 86 - QALYs: 1781403.5373786406 - Costs: 2195131307.795048\n",
      "Sim 87 - QALYs: 1782081.1014563108 - Costs: 2213343755.4029126\n",
      "Sim 88 - QALYs: 1782769.9655339806 - Costs: 2200728257.307864\n",
      "Sim 89 - QALYs: 1783605.8800970877 - Costs: 2231787176.7083488\n",
      "Sim 90 - QALYs: 1782823.8815533982 - Costs: 2200765896.9922333\n",
      "Sim 91 - QALYs: 1783192.3422330094 - Costs: 2227745310.709903\n",
      "Sim 92 - QALYs: 1782446.2179611654 - Costs: 2246172792.996602\n",
      "Sim 93 - QALYs: 1781955.9776699028 - Costs: 2217651700.548058\n",
      "Sim 94 - QALYs: 1783872.2291262134 - Costs: 2251115652.6441746\n",
      "Sim 95 - QALYs: 1783838.968932039 - Costs: 2267138074.1114564\n",
      "Sim 96 - QALYs: 1784561.0388349518 - Costs: 2246332854.906019\n",
      "Sim 97 - QALYs: 1784013.2218446601 - Costs: 2258049108.518059\n",
      "Sim 98 - QALYs: 1784316.0708737865 - Costs: 2247625297.359126\n",
      "Sim 99 - QALYs: 1783531.2616504857 - Costs: 2238861853.305437\n"
     ]
    }
   ],
   "source": [
    "individual_sensitivity_qalys = np.array([])\n",
    "individual_sensitivity_costs = np.array([])\n",
    "\n",
    "# Simulate!\n",
    "for compliance_rate in range(1, 100):\n",
    "    individual_count = 100000\n",
    "    rand_individual_state_gen = RandomCVGenerator()\n",
    "    rand_individual_sex_gen = RandomCVGenerator(724)\n",
    "\n",
    "    individuals = [Individual(next(rand_individual_state_gen), next(rand_individual_sex_gen),\n",
    "                              init_states_prob=health_prevalence_rate) for _ in range(individual_count)]\n",
    "    sim_gen = RandomCVGenerator()\n",
    "    for k in range(20):\n",
    "        for i in individuals:\n",
    "            FOBT_screening(i, sim_gen, 0.65, compliance_rate/100, Procedure.FIT)\n",
    "    individual_sensitivity_qalys = np.append(individual_sensitivity_qalys,\n",
    "                                             sum(np.array([i.qalys for i in individuals])))\n",
    "    individual_sensitivity_costs = np.append(individual_sensitivity_costs,\n",
    "                                             sum(np.array([i.costs for i in individuals])))\n",
    "\n",
    "    print(f'Sim {compliance_rate} - '\n",
    "          f'QALYs: {sum(np.array([i.qalys for i in individuals]))} - '\n",
    "          f'Costs: {sum(np.array([i.costs for i in individuals]))}')"
   ]
  },
  {
   "cell_type": "code",
   "execution_count": 264,
   "metadata": {},
   "outputs": [
    {
     "data": {
      "text/plain": [
       "[<matplotlib.lines.Line2D at 0x7fa7a25cf5c0>]"
      ]
     },
     "execution_count": 264,
     "metadata": {},
     "output_type": "execute_result"
    },
    {
     "data": {
      "image/png": "[encoded data removed]",
      "text/plain": [
       "<matplotlib.figure.Figure at 0x7fa7aff853c8>"
      ]
     },
     "metadata": {},
     "output_type": "display_data"
    }
   ],
   "source": [
    "plot(range(1,100), individual_sensitivity_qalys)"
   ]
  },
  {
   "cell_type": "code",
   "execution_count": 265,
   "metadata": {},
   "outputs": [
    {
     "data": {
      "text/plain": [
       "[<matplotlib.lines.Line2D at 0x7fa7b53b7da0>]"
      ]
     },
     "execution_count": 265,
     "metadata": {},
     "output_type": "execute_result"
    },
    {
     "data": {
      "image/png": "[encoded data removed]",
      "text/plain": [
       "<matplotlib.figure.Figure at 0x7fa7a9b73128>"
      ]
     },
     "metadata": {},
     "output_type": "display_data"
    }
   ],
   "source": [
    "plot(range(1,100), individual_sensitivity_costs)"
   ]
  },
  {
   "cell_type": "code",
   "execution_count": 266,
   "metadata": {},
   "outputs": [],
   "source": [
    "from statsmodels.tsa.filters.hp_filter import hpfilter"
   ]
  },
  {
   "cell_type": "code",
   "execution_count": 267,
   "metadata": {},
   "outputs": [
    {
     "data": {
      "text/plain": [
       "[<matplotlib.lines.Line2D at 0x7fa7b2e60978>]"
      ]
     },
     "execution_count": 267,
     "metadata": {},
     "output_type": "execute_result"
    },
    {
     "data": {
      "image/png": "[encoded data removed]",
      "text/plain": [
       "<matplotlib.figure.Figure at 0x7fa7b418ed30>"
      ]
     },
     "metadata": {},
     "output_type": "display_data"
    }
   ],
   "source": [
    "plot(range(1, 100), hpfilter(individual_sensitivity_qalys, lamb=100*2**2)[1], 'g.')"
   ]
  },
  {
   "cell_type": "code",
   "execution_count": 268,
   "metadata": {
    "scrolled": false
   },
   "outputs": [
    {
     "data": {
      "text/plain": [
       "[<matplotlib.lines.Line2D at 0x7fa7b4d16c88>]"
      ]
     },
     "execution_count": 268,
     "metadata": {},
     "output_type": "execute_result"
    },
    {
     "data": {
      "image/png": "[encoded data removed]",
      "text/plain": [
       "<matplotlib.figure.Figure at 0x7fa7b3f132e8>"
      ]
     },
     "metadata": {},
     "output_type": "display_data"
    }
   ],
   "source": [
    "plot(range(1, 100), hpfilter(individual_sensitivity_costs, lamb=100*2**2)[1], 'g.')"
   ]
  },
  {
   "cell_type": "markdown",
   "metadata": {},
   "source": [
    "## Sensitivity Analysis for GFOBT Follow-up Colonoscopy Compliance Rates"
   ]
  },
  {
   "cell_type": "code",
   "execution_count": 269,
   "metadata": {
    "scrolled": true
   },
   "outputs": [
    {
     "name": "stdout",
     "output_type": "stream",
     "text": [
      "Sim 1 - QALYs: 1759474.4621359226 - Costs: 1339221100.1694174\n",
      "Sim 2 - QALYs: 1759837.1402912622 - Costs: 1338647604.9822328\n",
      "Sim 3 - QALYs: 1758937.6218446603 - Costs: 1356683039.133107\n",
      "Sim 4 - QALYs: 1759617.7621359227 - Costs: 1387168024.2521358\n",
      "Sim 5 - QALYs: 1759326.5533980585 - Costs: 1379073479.643107\n",
      "Sim 6 - QALYs: 1758945.5883495149 - Costs: 1383209186.6846602\n",
      "Sim 7 - QALYs: 1759999.4485436892 - Costs: 1400469918.2704852\n",
      "Sim 8 - QALYs: 1760045.3776699032 - Costs: 1405383690.3306794\n",
      "Sim 9 - QALYs: 1759979.1038834956 - Costs: 1413167197.057961\n",
      "Sim 10 - QALYs: 1760477.9500000004 - Costs: 1456733610.3005824\n",
      "Sim 11 - QALYs: 1760917.388834952 - Costs: 1483867540.8433979\n",
      "Sim 12 - QALYs: 1761542.4665048546 - Costs: 1457677871.747961\n",
      "Sim 13 - QALYs: 1760799.638834952 - Costs: 1449447101.2437866\n",
      "Sim 14 - QALYs: 1760109.291747573 - Costs: 1512989402.3994174\n",
      "Sim 15 - QALYs: 1761357.4315533985 - Costs: 1507405902.2366018\n",
      "Sim 16 - QALYs: 1762102.139805826 - Costs: 1513907289.2516506\n",
      "Sim 17 - QALYs: 1761359.5810679612 - Costs: 1508422110.4895148\n",
      "Sim 18 - QALYs: 1760706.3936893207 - Costs: 1508938210.7341747\n",
      "Sim 19 - QALYs: 1761400.8271844664 - Costs: 1530018597.7471848\n",
      "Sim 20 - QALYs: 1762010.4000000001 - Costs: 1567355009.2962136\n",
      "Sim 21 - QALYs: 1761926.3344660199 - Costs: 1562728041.011942\n",
      "Sim 22 - QALYs: 1762600.5344660196 - Costs: 1596212215.4806795\n",
      "Sim 23 - QALYs: 1762632.8572815536 - Costs: 1579125270.0647569\n",
      "Sim 24 - QALYs: 1762071.586407767 - Costs: 1591661773.8575728\n",
      "Sim 25 - QALYs: 1762071.865048544 - Costs: 1596425793.6101942\n",
      "Sim 26 - QALYs: 1762907.310194175 - Costs: 1624005642.8290288\n",
      "Sim 27 - QALYs: 1762415.19223301 - Costs: 1612376298.8872817\n",
      "Sim 28 - QALYs: 1762973.2344660196 - Costs: 1651571524.7855337\n",
      "Sim 29 - QALYs: 1763219.787864078 - Costs: 1628931584.3837864\n",
      "Sim 30 - QALYs: 1762811.7883495146 - Costs: 1641928158.295534\n",
      "Sim 31 - QALYs: 1763146.8446601944 - Costs: 1678306842.594563\n",
      "Sim 32 - QALYs: 1763169.7048543692 - Costs: 1658088836.2385435\n",
      "Sim 33 - QALYs: 1762969.4004854371 - Costs: 1693490501.6143687\n",
      "Sim 34 - QALYs: 1763506.513592233 - Costs: 1689997487.5288348\n",
      "Sim 35 - QALYs: 1763823.9441747572 - Costs: 1694953377.2773786\n",
      "Sim 36 - QALYs: 1762990.75631068 - Costs: 1740375990.0540776\n",
      "Sim 37 - QALYs: 1763452.7577669902 - Costs: 1720301509.031359\n",
      "Sim 38 - QALYs: 1763734.479126214 - Costs: 1731577898.7614563\n",
      "Sim 39 - QALYs: 1762954.4980582523 - Costs: 1735378034.5026214\n",
      "Sim 40 - QALYs: 1763934.0422330098 - Costs: 1731441712.0434952\n",
      "Sim 41 - QALYs: 1763764.0524271848 - Costs: 1745523844.3019419\n",
      "Sim 42 - QALYs: 1763968.7771844666 - Costs: 1736574633.5832036\n",
      "Sim 43 - QALYs: 1763628.191747573 - Costs: 1767505885.2786407\n",
      "Sim 44 - QALYs: 1763301.4233009708 - Costs: 1777572567.5989323\n",
      "Sim 45 - QALYs: 1766156.0718446607 - Costs: 1788141469.2808738\n",
      "Sim 46 - QALYs: 1765307.010679612 - Costs: 1781364618.6686409\n",
      "Sim 47 - QALYs: 1764479.5257281552 - Costs: 1787220513.9850485\n",
      "Sim 48 - QALYs: 1765625.1796116505 - Costs: 1807741001.142233\n",
      "Sim 49 - QALYs: 1765712.0092233012 - Costs: 1820288419.867767\n",
      "Sim 50 - QALYs: 1764112.736893204 - Costs: 1823904281.0315535\n",
      "Sim 51 - QALYs: 1764555.0805825242 - Costs: 1825323835.7266989\n",
      "Sim 52 - QALYs: 1766050.5723300972 - Costs: 1860789893.114563\n",
      "Sim 53 - QALYs: 1765493.2067961167 - Costs: 1849214415.087573\n",
      "Sim 54 - QALYs: 1763966.2257281553 - Costs: 1841194833.621165\n",
      "Sim 55 - QALYs: 1765900.113106796 - Costs: 1861823127.3995147\n",
      "Sim 56 - QALYs: 1765635.4713592234 - Costs: 1863147079.3486407\n",
      "Sim 57 - QALYs: 1766135.7000000002 - Costs: 1877457757.5427182\n",
      "Sim 58 - QALYs: 1765774.718446602 - Costs: 1893018012.3225245\n",
      "Sim 59 - QALYs: 1766029.2966019418 - Costs: 1892066605.9905822\n",
      "Sim 60 - QALYs: 1766575.6228155342 - Costs: 1907713503.908835\n",
      "Sim 61 - QALYs: 1765504.9689320389 - Costs: 1895397196.8161163\n",
      "Sim 62 - QALYs: 1765986.4456310684 - Costs: 1916495279.391553\n",
      "Sim 63 - QALYs: 1765726.8791262137 - Costs: 1909713908.9947574\n",
      "Sim 64 - QALYs: 1765487.177184466 - Costs: 1923360542.4117475\n",
      "Sim 65 - QALYs: 1765579.9849514563 - Costs: 1947716636.4941745\n",
      "Sim 66 - QALYs: 1766919.518932039 - Costs: 1934478181.5992234\n",
      "Sim 67 - QALYs: 1767406.3956310682 - Costs: 1970587039.7358255\n",
      "Sim 68 - QALYs: 1767422.5859223304 - Costs: 1952028678.0794175\n",
      "Sim 69 - QALYs: 1768660.6101941748 - Costs: 1967808967.6402912\n",
      "Sim 70 - QALYs: 1766014.878640777 - Costs: 1958834524.4843688\n",
      "Sim 71 - QALYs: 1767136.6179611653 - Costs: 1955024665.789806\n",
      "Sim 72 - QALYs: 1767684.2747572814 - Costs: 1968203997.3919418\n",
      "Sim 73 - QALYs: 1767919.595145631 - Costs: 2006448031.107573\n",
      "Sim 74 - QALYs: 1766201.536893204 - Costs: 1984584923.7748544\n",
      "Sim 75 - QALYs: 1768348.4898058258 - Costs: 1994341689.194757\n",
      "Sim 76 - QALYs: 1766761.3820388352 - Costs: 2031710916.4995148\n",
      "Sim 77 - QALYs: 1766943.7 - Costs: 2047826236.3982525\n",
      "Sim 78 - QALYs: 1768483.7975728158 - Costs: 2023919253.203204\n",
      "Sim 79 - QALYs: 1766806.0514563108 - Costs: 2026526982.244466\n",
      "Sim 80 - QALYs: 1766505.4339805825 - Costs: 2059372313.6324267\n",
      "Sim 81 - QALYs: 1768187.3917475732 - Costs: 2018990006.7416506\n",
      "Sim 82 - QALYs: 1767006.8898058254 - Costs: 2053001060.8490288\n",
      "Sim 83 - QALYs: 1767913.642718447 - Costs: 2065198405.7720387\n",
      "Sim 84 - QALYs: 1767862.0349514564 - Costs: 2054577238.600874\n",
      "Sim 85 - QALYs: 1767355.6752427185 - Costs: 2053365013.6805828\n",
      "Sim 86 - QALYs: 1767245.3514563108 - Costs: 2076238926.02\n",
      "Sim 87 - QALYs: 1768683.059708738 - Costs: 2053496873.1827183\n",
      "Sim 88 - QALYs: 1768367.6087378643 - Costs: 2074588296.939029\n",
      "Sim 89 - QALYs: 1768476.0131067964 - Costs: 2097830246.4738836\n",
      "Sim 90 - QALYs: 1767705.3325242714 - Costs: 2064886619.323689\n",
      "Sim 91 - QALYs: 1766531.5218446602 - Costs: 2093356830.4106793\n",
      "Sim 92 - QALYs: 1768876.5533980587 - Costs: 2099204264.081262\n",
      "Sim 93 - QALYs: 1766373.2281553398 - Costs: 2105686100.132233\n",
      "Sim 94 - QALYs: 1767277.81407767 - Costs: 2113639211.6383493\n",
      "Sim 95 - QALYs: 1768554.1679611655 - Costs: 2104773225.6890295\n",
      "Sim 96 - QALYs: 1768047.122815534 - Costs: 2140462493.4197083\n",
      "Sim 97 - QALYs: 1768903.8145631067 - Costs: 2142497603.1697087\n",
      "Sim 98 - QALYs: 1768461.8407766991 - Costs: 2140516073.7941747\n",
      "Sim 99 - QALYs: 1767351.7126213594 - Costs: 2149709333.597767\n"
     ]
    }
   ],
   "source": [
    "individual_sensitivity_qalys = np.array([])\n",
    "individual_sensitivity_costs = np.array([])\n",
    "\n",
    "# Simulate!\n",
    "for compliance_rate in range(1, 100):\n",
    "    individual_count = 100000\n",
    "    rand_individual_state_gen = RandomCVGenerator()\n",
    "    rand_individual_sex_gen = RandomCVGenerator(724)\n",
    "\n",
    "    individuals = [Individual(next(rand_individual_state_gen), next(rand_individual_sex_gen),\n",
    "                              init_states_prob=health_prevalence_rate) for _ in range(individual_count)]\n",
    "    sim_gen = RandomCVGenerator()\n",
    "    for k in range(20):\n",
    "        for i in individuals:\n",
    "            FOBT_screening(i, sim_gen, 0.65, compliance_rate/100, Procedure.GFOBT)\n",
    "    individual_sensitivity_qalys = np.append(individual_sensitivity_qalys,\n",
    "                                             sum(np.array([i.qalys for i in individuals])))\n",
    "    individual_sensitivity_costs = np.append(individual_sensitivity_costs,\n",
    "                                             sum(np.array([i.costs for i in individuals])))\n",
    "\n",
    "    print(f'Sim {compliance_rate} - '\n",
    "          f'QALYs: {sum(np.array([i.qalys for i in individuals]))} - '\n",
    "          f'Costs: {sum(np.array([i.costs for i in individuals]))}')"
   ]
  },
  {
   "cell_type": "code",
   "execution_count": 270,
   "metadata": {},
   "outputs": [
    {
     "data": {
      "text/plain": [
       "[<matplotlib.lines.Line2D at 0x7fa7a36f54a8>]"
      ]
     },
     "execution_count": 270,
     "metadata": {},
     "output_type": "execute_result"
    },
    {
     "data": {
      "image/png": "[encoded data removed]",
      "text/plain": [
       "<matplotlib.figure.Figure at 0x7fa7b3c3f748>"
      ]
     },
     "metadata": {},
     "output_type": "display_data"
    }
   ],
   "source": [
    "plot(range(1,100), individual_sensitivity_qalys)"
   ]
  },
  {
   "cell_type": "code",
   "execution_count": 271,
   "metadata": {},
   "outputs": [
    {
     "data": {
      "text/plain": [
       "[<matplotlib.lines.Line2D at 0x7fa7a0c41588>]"
      ]
     },
     "execution_count": 271,
     "metadata": {},
     "output_type": "execute_result"
    },
    {
     "data": {
      "image/png": "[encoded data removed]",
      "text/plain": [
       "<matplotlib.figure.Figure at 0x7fa7b3c3f198>"
      ]
     },
     "metadata": {},
     "output_type": "display_data"
    }
   ],
   "source": [
    "plot(range(1,100), individual_sensitivity_costs)"
   ]
  },
  {
   "cell_type": "code",
   "execution_count": 272,
   "metadata": {},
   "outputs": [],
   "source": [
    "from statsmodels.tsa.filters.hp_filter import hpfilter"
   ]
  },
  {
   "cell_type": "code",
   "execution_count": 273,
   "metadata": {},
   "outputs": [
    {
     "data": {
      "text/plain": [
       "[<matplotlib.lines.Line2D at 0x7fa7abf0e780>]"
      ]
     },
     "execution_count": 273,
     "metadata": {},
     "output_type": "execute_result"
    },
    {
     "data": {
      "image/png": "[encoded data removed]",
      "text/plain": [
       "<matplotlib.figure.Figure at 0x7fa7a1a1ddd8>"
      ]
     },
     "metadata": {},
     "output_type": "display_data"
    }
   ],
   "source": [
    "plot(range(1, 100), hpfilter(individual_sensitivity_qalys, lamb=100*2**2)[1], 'g.')"
   ]
  },
  {
   "cell_type": "code",
   "execution_count": 274,
   "metadata": {
    "scrolled": false
   },
   "outputs": [
    {
     "data": {
      "text/plain": [
       "[<matplotlib.lines.Line2D at 0x7fa7b56d07b8>]"
      ]
     },
     "execution_count": 274,
     "metadata": {},
     "output_type": "execute_result"
    },
    {
     "data": {
      "image/png": "[encoded data removed]",
      "text/plain": [
       "<matplotlib.figure.Figure at 0x7fa7eda2fe48>"
      ]
     },
     "metadata": {},
     "output_type": "display_data"
    }
   ],
   "source": [
    "plot(range(1, 100), hpfilter(individual_sensitivity_costs, lamb=100*2**2)[1], 'g.')"
   ]
  },
  {
   "cell_type": "markdown",
   "metadata": {},
   "source": [
    "## Averted Zben cases"
   ]
  },
  {
   "cell_type": "code",
   "execution_count": null,
   "metadata": {},
   "outputs": [],
   "source": []
  }
 ],
 "metadata": {
  "kernelspec": {
   "display_name": "Python 3",
   "language": "python",
   "name": "python3"
  },
  "language_info": {
   "codemirror_mode": {
    "name": "ipython",
    "version": 3
   },
   "file_extension": ".py",
   "mimetype": "text/x-python",
   "name": "python",
   "nbconvert_exporter": "python",
   "pygments_lexer": "ipython3",
   "version": "3.6.4"
  }
 },
 "nbformat": 4,
 "nbformat_minor": 2
}
