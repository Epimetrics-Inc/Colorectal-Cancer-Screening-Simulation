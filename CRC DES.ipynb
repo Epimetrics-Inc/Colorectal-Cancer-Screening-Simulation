{
 "cells": [
  {
   "cell_type": "code",
   "execution_count": 1,
   "metadata": {},
   "outputs": [
    {
     "name": "stdout",
     "output_type": "stream",
     "text": [
      "Populating the interactive namespace from numpy and matplotlib\n"
     ]
    }
   ],
   "source": [
    "%pylab inline"
   ]
  },
  {
   "cell_type": "code",
   "execution_count": 2,
   "metadata": {},
   "outputs": [],
   "source": [
    "from collections import Generator\n",
    "from enum import Enum, auto\n",
    "import pandas as pd\n",
    "import seaborn as sns"
   ]
  },
  {
   "cell_type": "markdown",
   "metadata": {},
   "source": [
    "## Simulation States"
   ]
  },
  {
   "cell_type": "code",
   "execution_count": 3,
   "metadata": {},
   "outputs": [],
   "source": [
    "class HealthState(Enum):\n",
    "    NORMAL = 1\n",
    "    LOW_RISK_POLYP = 2\n",
    "    HIGH_RISK_POLYP = 3\n",
    "    ADENOMA = 4\n",
    "    CRC_STAGE1 = 5\n",
    "    CRC_STAGE2 = 6\n",
    "    CRC_STAGE3 = 7\n",
    "    CRC_STAGE4 = 8\n",
    "    DEATH_OTHER_CAUSES = 9\n",
    "    DEATH_CRC = 10\n",
    "    DEATH_FROM_SCREENING = 11\n",
    "    TREATED_CRCSTAGE1 = 12\n",
    "    TREATED_CRCSTAGE2 = 13\n",
    "    TREATED_CRCSTAGE3 = 14\n",
    "    TREATED_CRCSTAGE4 = 15\n",
    "\n",
    "\n",
    "class Sex(Enum):\n",
    "    MALE = 1\n",
    "    FEMALE = 2\n",
    "\n",
    "\n",
    "class Procedure(Enum):\n",
    "    GFOBT = 1\n",
    "    FIT = 2\n",
    "    FIT_FS = 3\n",
    "    COLONOSCOPY = 4\n",
    "    POLYPECTOMY = 5\n",
    "    BIOPSY = 6\n",
    "    ADENOMA_REMOVAL = 7\n",
    "    CRC_TREATMENT1 = 8\n",
    "    CRC_TREATMENT2 = 9\n",
    "    CRC_TREATMENT3 = 10\n",
    "    CRC_TREATMENT4 = 11\n"
   ]
  },
  {
   "cell_type": "markdown",
   "metadata": {},
   "source": [
    "## Parameters"
   ]
  },
  {
   "cell_type": "code",
   "execution_count": 4,
   "metadata": {},
   "outputs": [],
   "source": [
    "health_prevalence_rate = {\n",
    "    HealthState.NORMAL: 0.699,\n",
    "    HealthState.LOW_RISK_POLYP: 0.1216,\n",
    "    HealthState.HIGH_RISK_POLYP: 0.0749,\n",
    "    HealthState.ADENOMA: 0.079,\n",
    "    HealthState.CRC_STAGE1: 0.015,\n",
    "    HealthState.CRC_STAGE2: 0.0105\n",
    "}\n"
   ]
  },
  {
   "cell_type": "code",
   "execution_count": 5,
   "metadata": {},
   "outputs": [],
   "source": [
    "age_mortality_rate = {\n",
    "    Sex.MALE: {\n",
    "        54: 0.0076,\n",
    "        59: 0.0089,\n",
    "        64: 0.0102,\n",
    "        69: 0.0106,\n",
    "    },\n",
    "    Sex.FEMALE: {\n",
    "        54: 0.0054,\n",
    "        59: 0.0065,\n",
    "        64: 0.0077,\n",
    "        69: 0.0089,\n",
    "    }\n",
    "}\n"
   ]
  },
  {
   "cell_type": "code",
   "execution_count": 6,
   "metadata": {},
   "outputs": [],
   "source": [
    "health_state_transition_rate = {\n",
    "    HealthState.NORMAL: {\n",
    "        HealthState.ADENOMA: 0.013,\n",
    "        HealthState.LOW_RISK_POLYP: 0.016,\n",
    "        HealthState.NORMAL: 0.971\n",
    "    },\n",
    "    HealthState.LOW_RISK_POLYP: {\n",
    "        HealthState.HIGH_RISK_POLYP: 0.02,\n",
    "        HealthState.ADENOMA: 0.05,\n",
    "        HealthState.LOW_RISK_POLYP: 0.93,\n",
    "    },\n",
    "    HealthState.HIGH_RISK_POLYP: {\n",
    "        HealthState.CRC_STAGE1: 0.0326,\n",
    "        HealthState.CRC_STAGE2: 0.0174,\n",
    "        HealthState.HIGH_RISK_POLYP: 0.95,\n",
    "    },\n",
    "    HealthState.ADENOMA: {\n",
    "        HealthState.CRC_STAGE1: 0.016,\n",
    "        HealthState.CRC_STAGE2: 0.016,\n",
    "        HealthState.ADENOMA: 0.968\n",
    "    },\n",
    "    HealthState.CRC_STAGE1: {\n",
    "        HealthState.CRC_STAGE1: 0.7,\n",
    "        HealthState.CRC_STAGE2: 0.3,\n",
    "    },\n",
    "    HealthState.CRC_STAGE2: {\n",
    "        HealthState.DEATH_CRC: 0.01,\n",
    "        HealthState.CRC_STAGE2: 0.69,\n",
    "        HealthState.CRC_STAGE3: 0.3,\n",
    "    },\n",
    "    HealthState.CRC_STAGE3: {\n",
    "        HealthState.DEATH_CRC: 0.06,\n",
    "        HealthState.CRC_STAGE3: 0.375,\n",
    "        HealthState.CRC_STAGE4: 0.565,\n",
    "    },\n",
    "    HealthState.CRC_STAGE4: {\n",
    "        HealthState.DEATH_CRC: 0.387,\n",
    "        HealthState.CRC_STAGE4: 0.613,\n",
    "    },\n",
    "    # Treated CRC Mortality Rate\n",
    "    HealthState.TREATED_CRCSTAGE1: {\n",
    "        HealthState.TREATED_CRCSTAGE1: 1,\n",
    "    },\n",
    "    HealthState.TREATED_CRCSTAGE2: {\n",
    "        HealthState.DEATH_CRC: 0.005,\n",
    "        HealthState.TREATED_CRCSTAGE2: 0.995,\n",
    "    },\n",
    "    HealthState.TREATED_CRCSTAGE3: {\n",
    "        HealthState.DEATH_CRC: 0.03,\n",
    "        HealthState.TREATED_CRCSTAGE3: 0.97,\n",
    "    },\n",
    "    HealthState.TREATED_CRCSTAGE4: {\n",
    "        HealthState.DEATH_CRC: 0.193,\n",
    "        HealthState.TREATED_CRCSTAGE4: 0.807\n",
    "    },\n",
    "}\n"
   ]
  },
  {
   "cell_type": "code",
   "execution_count": 7,
   "metadata": {},
   "outputs": [],
   "source": [
    "symptomatic_crc_detection_rate = {\n",
    "    HealthState.CRC_STAGE1: 0.2,\n",
    "    HealthState.CRC_STAGE2: 0.2,\n",
    "    HealthState.CRC_STAGE3: 0.65,\n",
    "    HealthState.CRC_STAGE4: 1\n",
    "}\n"
   ]
  },
  {
   "cell_type": "code",
   "execution_count": 8,
   "metadata": {},
   "outputs": [],
   "source": [
    "treatment_survival_rate = {\n",
    "    HealthState.CRC_STAGE1: 1,\n",
    "    HealthState.CRC_STAGE2: 0.995,\n",
    "    HealthState.CRC_STAGE3: 0.97,\n",
    "    HealthState.CRC_STAGE4: 0.387,\n",
    "}\n"
   ]
  },
  {
   "cell_type": "code",
   "execution_count": 9,
   "metadata": {},
   "outputs": [],
   "source": [
    "utilities = {\n",
    "    HealthState.NORMAL: 1,\n",
    "    HealthState.LOW_RISK_POLYP: 0.871,\n",
    "    HealthState.HIGH_RISK_POLYP: 0.827,\n",
    "    HealthState.ADENOMA: 1,\n",
    "    HealthState.CRC_STAGE1: 0.8295,\n",
    "    HealthState.CRC_STAGE2: 0.859,\n",
    "    HealthState.CRC_STAGE3: 0.8155,\n",
    "    HealthState.CRC_STAGE4: 0.735,\n",
    "    HealthState.TREATED_CRCSTAGE1: 0.8295,\n",
    "    HealthState.TREATED_CRCSTAGE2: 0.859,\n",
    "    HealthState.TREATED_CRCSTAGE3: 0.8155,\n",
    "    HealthState.TREATED_CRCSTAGE4: 0.735,\n",
    "    HealthState.DEATH_OTHER_CAUSES: 0,\n",
    "    HealthState.DEATH_CRC: 0,\n",
    "    HealthState.DEATH_FROM_SCREENING: 0\n",
    "}\n",
    "\n",
    "procedure_costs = {\n",
    "    Procedure.GFOBT: 190.8731,\n",
    "    Procedure.FIT: 404.5658,\n",
    "    Procedure.FIT_FS: 4432.0871,\n",
    "    Procedure.COLONOSCOPY: 5366.965,\n",
    "    Procedure.POLYPECTOMY: 6311.9301,\n",
    "    Procedure.BIOPSY: 3450,\n",
    "    Procedure.ADENOMA_REMOVAL: 0,\n",
    "    Procedure.CRC_TREATMENT1: 150000,\n",
    "    Procedure.CRC_TREATMENT2: 283333.3333,\n",
    "    Procedure.CRC_TREATMENT3: 350000,\n",
    "    Procedure.CRC_TREATMENT4: 0,\n",
    "}"
   ]
  },
  {
   "cell_type": "code",
   "execution_count": 10,
   "metadata": {},
   "outputs": [],
   "source": [
    "colonoscopy_positive_detection_rate = {\n",
    "    HealthState.NORMAL: 0,\n",
    "    HealthState.LOW_RISK_POLYP: 0.5,\n",
    "    HealthState.HIGH_RISK_POLYP: 0.5,\n",
    "    HealthState.ADENOMA: 0.87,\n",
    "    HealthState.CRC_STAGE1: 0.999,\n",
    "    HealthState.CRC_STAGE2: 0.999,\n",
    "    HealthState.CRC_STAGE3: 0.999,\n",
    "    HealthState.CRC_STAGE4: 0.999\n",
    "}\n",
    "\n",
    "# Derived from Speci/Sensi/Prevalence using http://vassarstats.net/clin2.html\n",
    "screening_modalities_positive_detection_rate = {\n",
    "    Procedure.GFOBT: {\n",
    "        HealthState.NORMAL: 0.8784,\n",
    "        HealthState.LOW_RISK_POLYP: 0.9,\n",
    "        HealthState.HIGH_RISK_POLYP: 0.9,\n",
    "        HealthState.ADENOMA: 0.583,\n",
    "        HealthState.CRC_STAGE1: 0.8305,\n",
    "        HealthState.CRC_STAGE2: 0.8305,\n",
    "        HealthState.CRC_STAGE3: 0.8305,\n",
    "        HealthState.CRC_STAGE4: 0.8305\n",
    "    },\n",
    "    Procedure.FIT: {\n",
    "        HealthState.NORMAL: 0.4608,\n",
    "        HealthState.LOW_RISK_POLYP: 0.9,\n",
    "        HealthState.HIGH_RISK_POLYP: 0.9,\n",
    "        HealthState.ADENOMA: 0.795,\n",
    "        HealthState.CRC_STAGE1: 0.9,\n",
    "        HealthState.CRC_STAGE2: 0.9,\n",
    "        HealthState.CRC_STAGE3: 0.9,\n",
    "        HealthState.CRC_STAGE4: 0.9\n",
    "    },\n",
    "    Procedure.FIT_FS: {\n",
    "        HealthState.NORMAL: 0.01,\n",
    "        HealthState.LOW_RISK_POLYP: 0.99,\n",
    "        HealthState.HIGH_RISK_POLYP: 0.99,\n",
    "        HealthState.ADENOMA: 0.795,\n",
    "        HealthState.CRC_STAGE1: 0.995,\n",
    "        HealthState.CRC_STAGE2: 0.995,\n",
    "        HealthState.CRC_STAGE3: 0.995,\n",
    "        HealthState.CRC_STAGE4: 0.995\n",
    "    }\n",
    "}\n",
    "\n",
    "colonoscopy_mortality_rate = 0.001296 * 0.1 + 0.003037 * 0.007453\n",
    "adenoma_removal_success_rate = 0.6\n",
    "qaly_discounting = 0.03\n",
    "cost_discounting = 0.03"
   ]
  },
  {
   "cell_type": "markdown",
   "metadata": {},
   "source": [
    "## Simulation Classes and Functions"
   ]
  },
  {
   "cell_type": "code",
   "execution_count": 11,
   "metadata": {},
   "outputs": [],
   "source": [
    "class RandomCVGenerator(Generator):\n",
    "    def __init__(self, seed=427):\n",
    "        self.seed_genX = np.random.RandomState(seed)\n",
    "\n",
    "    def send(self, stub):\n",
    "        randomX = self.seed_genX.rand()\n",
    "        return randomX\n",
    "\n",
    "    def throw(self, type=None, value=None, traceback=None):\n",
    "        raise StopIteration\n"
   ]
  },
  {
   "cell_type": "code",
   "execution_count": 12,
   "metadata": {},
   "outputs": [],
   "source": [
    "def dict_to_cumulative(d):\n",
    "    res = {}\n",
    "    for k, v in d.items():\n",
    "        res[v] = k\n",
    "    return res\n"
   ]
  },
  {
   "cell_type": "code",
   "execution_count": 13,
   "metadata": {},
   "outputs": [],
   "source": [
    "to_treated = {\n",
    "    HealthState.CRC_STAGE1: HealthState.TREATED_CRCSTAGE1,\n",
    "    HealthState.CRC_STAGE2: HealthState.TREATED_CRCSTAGE2,\n",
    "    HealthState.CRC_STAGE3: HealthState.TREATED_CRCSTAGE3,\n",
    "    HealthState.CRC_STAGE4: HealthState.TREATED_CRCSTAGE4\n",
    "}\n",
    "\n",
    "to_treatment = {\n",
    "    HealthState.CRC_STAGE1: Procedure.CRC_TREATMENT1,\n",
    "    HealthState.CRC_STAGE2: Procedure.CRC_TREATMENT2,\n",
    "    HealthState.CRC_STAGE3: Procedure.CRC_TREATMENT3,\n",
    "    HealthState.CRC_STAGE4: Procedure.CRC_TREATMENT4\n",
    "}\n"
   ]
  },
  {
   "cell_type": "code",
   "execution_count": 14,
   "metadata": {},
   "outputs": [],
   "source": [
    "class Individual(object):\n",
    "    def __init__(self, state_prob, sex_prob, init_states_prob={}):\n",
    "        self.state = self.init_health_state(state_prob, init_states_prob)\n",
    "        self.age = 50\n",
    "        self.procedures = np.array([])\n",
    "        self.previous_states = np.array([])\n",
    "        self.sex = Sex.MALE if sex_prob < 0.5 else Sex.FEMALE\n",
    "        self.qalys = 0\n",
    "        self.costs = 0\n",
    "        self.years_til_colonoscopy = 0\n",
    "        self.get_FOBT = True\n",
    "        \n",
    "        if self.state is None:\n",
    "            raise Exception('No State!')\n",
    "\n",
    "    def init_health_state(self, state_prob, states):\n",
    "        if states == {}:\n",
    "            states = {\n",
    "                HealthState.NORMAL: 0.699,\n",
    "                HealthState.LOW_RISK_POLYP: 0.1216,\n",
    "                HealthState.HIGH_RISK_POLYP: 0.0749,\n",
    "                HealthState.ADENOMA: 0.079,\n",
    "                HealthState.CRC_STAGE1: 0.02,\n",
    "                HealthState.CRC_STAGE2: 0.0055\n",
    "            }\n",
    "\n",
    "        # We just transpose the health states and probs\n",
    "        # to compare with the random number generated\n",
    "        states_conv = dict_to_cumulative(states)\n",
    "        prev_k = 0\n",
    "        sum_k = 0\n",
    "        for k, v in states_conv.items():\n",
    "            sum_k += k\n",
    "            if prev_k <= state_prob < sum_k:\n",
    "                return v\n",
    "            prev_k += k\n",
    "\n",
    "    @property\n",
    "    def is_dead(self):\n",
    "        if self.state == HealthState.DEATH_CRC or \\\n",
    "                self.state == HealthState.DEATH_FROM_SCREENING or \\\n",
    "                self.state == HealthState.DEATH_OTHER_CAUSES:\n",
    "            return True\n",
    "        else:\n",
    "            return False\n",
    "\n",
    "    @property\n",
    "    def is_treated(self):\n",
    "        if self.state == HealthState.TREATED_CRCSTAGE1 or \\\n",
    "                self.state == HealthState.TREATED_CRCSTAGE2 or \\\n",
    "                self.state == HealthState.TREATED_CRCSTAGE3 or \\\n",
    "                self.state == HealthState.TREATED_CRCSTAGE4:\n",
    "            return True\n",
    "        else:\n",
    "            return False\n",
    "        \n",
    "    @property\n",
    "    def has_cancer(self):\n",
    "        if self.state == HealthState.CRC_STAGE1 or \\\n",
    "                self.state == HealthState.CRC_STAGE2 or \\\n",
    "                self.state == HealthState.CRC_STAGE3 or \\\n",
    "                self.state == HealthState.CRC_STAGE4:\n",
    "            return True\n",
    "        else:\n",
    "            return False\n",
    "\n",
    "    def __str__(self):\n",
    "        return f'{self.age}: {self.state}'\n",
    "\n",
    "    def __repr__(self):\n",
    "        return self.__str__()\n"
   ]
  },
  {
   "cell_type": "markdown",
   "metadata": {},
   "source": [
    "## Screening Strategies"
   ]
  },
  {
   "cell_type": "code",
   "execution_count": 15,
   "metadata": {},
   "outputs": [],
   "source": [
    "def compute_other_mortality(individual):\n",
    "    sex_mortality = age_mortality_rate[individual.sex]\n",
    "    for k, v in sex_mortality.items():\n",
    "        if individual.age > k:\n",
    "            continue\n",
    "        else:\n",
    "            return v\n",
    "    return\n"
   ]
  },
  {
   "cell_type": "code",
   "execution_count": 16,
   "metadata": {},
   "outputs": [],
   "source": [
    "def no_screening(individual, num_gen):\n",
    "    # Check dead\n",
    "    if individual.is_dead:\n",
    "        return None\n",
    "\n",
    "    # Record Previous State\n",
    "    individual.previous_states = np.append(\n",
    "        individual.previous_states, individual.state)\n",
    "\n",
    "    # Rates\n",
    "    symptom_rate = symptomatic_crc_detection_rate.get(individual.state)\n",
    "    asm_rate = compute_other_mortality(individual)\n",
    "\n",
    "    # Symptomatic Representation\n",
    "    if symptom_rate is not None and symptom_rate <= next(num_gen) and not individual.is_treated:\n",
    "        treatment_survival_prob = next(num_gen)\n",
    "        if treatment_survival_prob <= treatment_survival_rate[individual.state]:\n",
    "            # Get the procedure for treatment\n",
    "            proc = to_treatment[individual.state]\n",
    "            individual.procedures = np.append(\n",
    "                individual.procedures, proc)\n",
    "            individual.costs += procedure_costs[proc] / ((1 + cost_discounting) ** (individual.age - (individual.age - 1)))\n",
    "            # Convert to treated\n",
    "            individual.state = to_treated[individual.state]\n",
    "        else:\n",
    "            # Copy paste sadness\n",
    "            ht_rate = health_state_transition_rate[individual.state]\n",
    "            # We just transpose the health states and probs\n",
    "            # to compare with the random number generated\n",
    "            states_conv = dict_to_cumulative(ht_rate)\n",
    "            prev_k = 0\n",
    "            sum_k = 0\n",
    "            htr_prob = next(num_gen)\n",
    "            for k, v in states_conv.items():\n",
    "                sum_k += k\n",
    "                if prev_k <= htr_prob < sum_k:\n",
    "                    individual.state = v\n",
    "                prev_k += k\n",
    "\n",
    "    # Natural Health Transition\n",
    "    elif next(num_gen) > asm_rate:\n",
    "        ht_rate = health_state_transition_rate[individual.state]\n",
    "        # We just transpose the health states and probs\n",
    "        # to compare with the random number generated\n",
    "        states_conv = dict_to_cumulative(ht_rate)\n",
    "        prev_k = 0\n",
    "        sum_k = 0\n",
    "        htr_prob = next(num_gen)\n",
    "        for k, v in states_conv.items():\n",
    "            sum_k += k\n",
    "            if prev_k <= htr_prob < sum_k:\n",
    "                individual.state = v\n",
    "            prev_k += k\n",
    "    # Death from other causes\n",
    "    else:\n",
    "        individual.state = HealthState.DEATH_OTHER_CAUSES\n",
    "\n",
    "    individual.qalys += utilities[individual.state] / ((1 + qaly_discounting) ** (individual.age - (individual.age - 1)))\n"
   ]
  },
  {
   "cell_type": "code",
   "execution_count": 17,
   "metadata": {},
   "outputs": [],
   "source": [
    "def colonoscopy_screening(individual, num_gen, compliance_rate_thresh):\n",
    "    # Check dead\n",
    "    if individual.is_dead:\n",
    "        return None\n",
    "\n",
    "    # Record Previous State\n",
    "    individual.previous_states = np.append(\n",
    "        individual.previous_states, individual.state)\n",
    "\n",
    "    # Rates\n",
    "    symptom_rate = symptomatic_crc_detection_rate.get(individual.state)\n",
    "    asm_rate = compute_other_mortality(individual)\n",
    "\n",
    "    # Screening\n",
    "    if next(num_gen) <= compliance_rate_thresh and \\\n",
    "            individual.years_til_colonoscopy == 0 and \\\n",
    "            not individual.is_treated:\n",
    "\n",
    "        # Get colonoscopy\n",
    "        individual.procedures = np.append(\n",
    "            individual.procedures, Procedure.COLONOSCOPY)\n",
    "        individual.costs += procedure_costs[Procedure.COLONOSCOPY] / ((1 + cost_discounting) ** (individual.age - (individual.age - 1)))\n",
    "\n",
    "        # Probability of bleeding/perforation death\n",
    "        if next(num_gen) <= colonoscopy_mortality_rate:\n",
    "            individual.state = HealthState.DEATH_FROM_SCREENING\n",
    "\n",
    "        else:\n",
    "            if next(num_gen) <= colonoscopy_positive_detection_rate[individual.state]:\n",
    "\n",
    "                # Get Biopsy\n",
    "                individual.procedures = np.append(\n",
    "                    individual.procedures, Procedure.BIOPSY)\n",
    "                individual.costs += procedure_costs[Procedure.BIOPSY] / ((1 + cost_discounting) ** (individual.age - (individual.age - 1)))\n",
    "\n",
    "                if individual.state == HealthState.LOW_RISK_POLYP or \\\n",
    "                        individual.state == HealthState.HIGH_RISK_POLYP:\n",
    "\n",
    "                    # Get Polypectomy\n",
    "                    individual.procedures = np.append(\n",
    "                        individual.procedures, Procedure.POLYPECTOMY)\n",
    "                    individual.costs += procedure_costs[Procedure.POLYPECTOMY] / ((1 + cost_discounting) ** (individual.age - (individual.age - 1)))\n",
    "                    individual.state = HealthState.NORMAL\n",
    "\n",
    "                elif individual.state == HealthState.ADENOMA:\n",
    "\n",
    "                    # Get Adenoma Removal Surgery\n",
    "                    individual.procedures = np.append(\n",
    "                        individual.procedures, Procedure.ADENOMA_REMOVAL)\n",
    "                    individual.costs += procedure_costs[Procedure.ADENOMA_REMOVAL] / ((1 + cost_discounting) ** (individual.age - (individual.age - 1)))\n",
    "\n",
    "                    if next(num_gen) <= adenoma_removal_success_rate:\n",
    "                        individual.state = HealthState.NORMAL\n",
    "                    else:\n",
    "                        individual.state = HealthState.ADENOMA\n",
    "\n",
    "                elif individual.has_cancer:\n",
    "\n",
    "                    # Copy paste sadness\n",
    "                    treatment_survival_prob = next(num_gen)\n",
    "                    if treatment_survival_prob <= treatment_survival_rate[individual.state]:\n",
    "                        # Get the procedure for treatment\n",
    "                        proc = to_treatment[individual.state]\n",
    "                        individual.procedures = np.append(\n",
    "                            individual.procedures, proc)\n",
    "                        individual.costs += procedure_costs[proc] / ((1 + cost_discounting) ** (individual.age - (individual.age - 1)))\n",
    "                        # Convert to treated\n",
    "                        individual.state = to_treated[individual.state]\n",
    "                    else:\n",
    "                        # Copy paste sadness\n",
    "                        ht_rate = health_state_transition_rate[individual.state]\n",
    "                        # We just transpose the health states and probs\n",
    "                        # to compare with the random number generated\n",
    "                        states_conv = dict_to_cumulative(ht_rate)\n",
    "                        prev_k = 0\n",
    "                        sum_k = 0\n",
    "                        htr_prob = next(num_gen)\n",
    "                        for k, v in states_conv.items():\n",
    "                            sum_k += k\n",
    "                            if prev_k <= htr_prob < sum_k:\n",
    "                                individual.state = v\n",
    "                            prev_k += k\n",
    "                else:\n",
    "                    raise Exception(f'{i.state} - This should not happen')\n",
    "\n",
    "                individual.years_til_colonoscopy = 1\n",
    "\n",
    "            else:\n",
    "                individual.years_til_colonoscopy = 10\n",
    "\n",
    "    # Symptomatic Representation\n",
    "    elif symptom_rate is not None and symptom_rate <= next(num_gen) and not individual.is_treated:\n",
    "        if next(num_gen) <= treatment_survival_rate[individual.state]:\n",
    "            # Get the procedure for treatment\n",
    "            proc = to_treatment[individual.state]\n",
    "            individual.procedures = np.append(\n",
    "                individual.procedures, proc)\n",
    "            individual.costs += procedure_costs[proc] / ((1 + cost_discounting) ** (individual.age - (individual.age - 1)))\n",
    "            # Convert to treated\n",
    "            individual.state = to_treated[individual.state]\n",
    "        else:\n",
    "            # Copy paste sadness\n",
    "            ht_rate = health_state_transition_rate[individual.state]\n",
    "            # We just transpose the health states and probs\n",
    "            # to compare with the random number generated\n",
    "            states_conv = dict_to_cumulative(ht_rate)\n",
    "            prev_k = 0\n",
    "            sum_k = 0\n",
    "            htr_prob = next(num_gen)\n",
    "            for k, v in states_conv.items():\n",
    "                sum_k += k\n",
    "                if prev_k <= htr_prob < sum_k:\n",
    "                    individual.state = v\n",
    "                prev_k += k\n",
    "\n",
    "    # Natural Health Transition\n",
    "    elif next(num_gen) > asm_rate:\n",
    "        ht_rate = health_state_transition_rate[individual.state]\n",
    "        # We just transpose the health states and probs\n",
    "        # to compare with the random number generated\n",
    "        states_conv = dict_to_cumulative(ht_rate)\n",
    "        prev_k = 0\n",
    "        sum_k = 0\n",
    "        htr_prob = next(num_gen)\n",
    "        for k, v in states_conv.items():\n",
    "            sum_k += k\n",
    "            if prev_k <= htr_prob < sum_k:\n",
    "                individual.state = v\n",
    "            prev_k += k\n",
    "    # Death from other causes\n",
    "    else:\n",
    "        individual.state = HealthState.DEATH_OTHER_CAUSES\n",
    "\n",
    "    individual.qalys += utilities[individual.state] / ((1 + qaly_discounting) ** (individual.age - (individual.age - 1)))\n",
    "    if individual.years_til_colonoscopy > 0:\n",
    "        individual.years_til_colonoscopy -= 1"
   ]
  },
  {
   "cell_type": "code",
   "execution_count": 18,
   "metadata": {},
   "outputs": [],
   "source": [
    "def FOBT_screening(individual, num_gen, compliance_rate_thresh1, compliance_rate_thresh2, screening_modality):\n",
    "    # Check dead\n",
    "    if individual.is_dead:\n",
    "        return None\n",
    "\n",
    "    # Record Previous State\n",
    "    individual.previous_states = np.append(\n",
    "        individual.previous_states, individual.state)\n",
    "\n",
    "    # Rates\n",
    "    symptom_rate = symptomatic_crc_detection_rate.get(individual.state)\n",
    "    asm_rate = compute_other_mortality(individual)\n",
    "\n",
    "    if next(num_gen) <= compliance_rate_thresh1 and individual.get_FOBT and not individual.is_treated:\n",
    "\n",
    "        individual.procedures = np.append(\n",
    "            individual.procedures, screening_modality)\n",
    "        individual.costs += procedure_costs[screening_modality] / ((1 + cost_discounting) ** (individual.age - (individual.age - 1)))\n",
    "\n",
    "        fobt_detection_rate = screening_modalities_positive_detection_rate[\n",
    "            screening_modality][individual.state]\n",
    "        if next(num_gen) <= fobt_detection_rate:\n",
    "            # Colonoscopy Screening\n",
    "            if next(num_gen) <= compliance_rate_thresh2:\n",
    "                # Get colonoscopy\n",
    "                individual.procedures = np.append(\n",
    "                    individual.procedures, Procedure.COLONOSCOPY)\n",
    "                individual.costs += procedure_costs[Procedure.COLONOSCOPY] / ((1 + cost_discounting) ** (individual.age - (individual.age - 1)))\n",
    "\n",
    "                # Probability of bleeding/perforation death\n",
    "                if next(num_gen) <= colonoscopy_mortality_rate:\n",
    "                    individual.state = HealthState.DEATH_FROM_SCREENING\n",
    "\n",
    "                else:\n",
    "                    if next(num_gen) <= colonoscopy_positive_detection_rate[individual.state]:\n",
    "\n",
    "                        # Get Biopsy\n",
    "                        individual.procedures = np.append(\n",
    "                            individual.procedures, Procedure.BIOPSY)\n",
    "                        individual.costs += procedure_costs[Procedure.BIOPSY] / ((1 + cost_discounting) ** (individual.age - (individual.age - 1)))\n",
    "\n",
    "                        if individual.state == HealthState.LOW_RISK_POLYP or \\\n",
    "                                individual.state == HealthState.HIGH_RISK_POLYP:\n",
    "\n",
    "                            # Get Polypectomy\n",
    "                            individual.procedures = np.append(\n",
    "                                individual.procedures, Procedure.POLYPECTOMY)\n",
    "                            individual.costs += procedure_costs[Procedure.POLYPECTOMY] / ((1 + cost_discounting) ** (individual.age - (individual.age - 1)))\n",
    "                            individual.state = HealthState.NORMAL\n",
    "                            individual.get_FOBT = True\n",
    "\n",
    "                        elif individual.state == HealthState.ADENOMA:\n",
    "\n",
    "                            # Get Adenoma Removal Surgery\n",
    "                            individual.procedures = np.append(\n",
    "                                individual.procedures, Procedure.ADENOMA_REMOVAL)\n",
    "                            individual.costs += procedure_costs[Procedure.ADENOMA_REMOVAL] / ((1 + cost_discounting) ** (individual.age - (individual.age - 1)))\n",
    "\n",
    "                            if next(num_gen) <= adenoma_removal_success_rate:\n",
    "                                individual.state = HealthState.NORMAL\n",
    "                                individual.get_FOBT = True\n",
    "                            else:\n",
    "                                individual.state = HealthState.ADENOMA\n",
    "\n",
    "                        elif individual.has_cancer:\n",
    "\n",
    "                            # Copy paste sadness\n",
    "                            treatment_survival_prob = next(num_gen)\n",
    "                            if treatment_survival_prob <= treatment_survival_rate[individual.state]:\n",
    "                                # Get the procedure for treatment\n",
    "                                proc = to_treatment[individual.state]\n",
    "                                individual.procedures = np.append(\n",
    "                                    individual.procedures, proc)\n",
    "                                individual.costs += procedure_costs[proc] / ((1 + cost_discounting) ** (individual.age - (individual.age - 1)))\n",
    "                                # Convert to treated\n",
    "                                individual.state = to_treated[individual.state]\n",
    "                            else:\n",
    "                                # Copy paste sadness\n",
    "                                ht_rate = health_state_transition_rate[individual.state]\n",
    "                                # We just transpose the health states and probs\n",
    "                                # to compare with the random number generated\n",
    "                                states_conv = dict_to_cumulative(ht_rate)\n",
    "                                prev_k = 0\n",
    "                                sum_k = 0\n",
    "                                htr_prob = next(num_gen)\n",
    "                                for k, v in states_conv.items():\n",
    "                                    sum_k += k\n",
    "                                    if prev_k <= htr_prob < sum_k:\n",
    "                                        individual.state = v\n",
    "                                    prev_k += k\n",
    "                        else:\n",
    "                            raise Exception(\n",
    "                                f'{i.state} - This should not happen')\n",
    "\n",
    "                        individual.years_til_colonoscopy = 1\n",
    "                        individual.get_FOBT = False\n",
    "\n",
    "                    else:\n",
    "                        individual.years_til_colonoscopy = 10\n",
    "                        individual.get_FOBT = False\n",
    "\n",
    "    # Colonoscopy Screening\n",
    "    elif next(num_gen) <= compliance_rate_thresh2 and \\\n",
    "            individual.years_til_colonoscopy == 0 and \\\n",
    "            not individual.is_treated and not individual.get_FOBT:\n",
    "\n",
    "        # Get colonoscopy\n",
    "        individual.procedures = np.append(\n",
    "            individual.procedures, Procedure.COLONOSCOPY)\n",
    "        individual.costs += procedure_costs[Procedure.COLONOSCOPY] / ((1 + cost_discounting) ** (individual.age - (individual.age - 1)))\n",
    "\n",
    "        # Probability of bleeding/perforation death\n",
    "        if next(num_gen) <= colonoscopy_mortality_rate:\n",
    "            individual.state = HealthState.DEATH_FROM_SCREENING\n",
    "\n",
    "        else:\n",
    "            if next(num_gen) <= colonoscopy_positive_detection_rate[individual.state]:\n",
    "\n",
    "                # Get Biopsy\n",
    "                individual.procedures = np.append(\n",
    "                    individual.procedures, Procedure.BIOPSY)\n",
    "                individual.costs += procedure_costs[Procedure.BIOPSY] / ((1 + cost_discounting) ** (individual.age - (individual.age - 1)))\n",
    "\n",
    "                if individual.state == HealthState.LOW_RISK_POLYP or \\\n",
    "                        individual.state == HealthState.HIGH_RISK_POLYP:\n",
    "\n",
    "                    # Get Polypectomy\n",
    "                    individual.procedures = np.append(\n",
    "                        individual.procedures, Procedure.POLYPECTOMY)\n",
    "                    individual.costs += procedure_costs[Procedure.POLYPECTOMY] / ((1 + cost_discounting) ** (individual.age - (individual.age - 1)))\n",
    "                    individual.state = HealthState.NORMAL\n",
    "                    individual.get_FOBT = True\n",
    "\n",
    "                elif individual.state == HealthState.ADENOMA:\n",
    "\n",
    "                    # Get Adenoma Removal Surgery\n",
    "                    individual.procedures = np.append(\n",
    "                        individual.procedures, Procedure.ADENOMA_REMOVAL)\n",
    "                    individual.costs += procedure_costs[Procedure.ADENOMA_REMOVAL] / ((1 + cost_discounting) ** (individual.age - (individual.age - 1)))\n",
    "\n",
    "                    if next(num_gen) <= adenoma_removal_success_rate:\n",
    "                        individual.state = HealthState.NORMAL\n",
    "                        individual.get_FOBT = True\n",
    "                    else:\n",
    "                        individual.state = HealthState.ADENOMA\n",
    "\n",
    "                elif individual.has_cancer:\n",
    "\n",
    "                    # Copy paste sadness\n",
    "                    treatment_survival_prob = next(num_gen)\n",
    "                    if treatment_survival_prob <= treatment_survival_rate[individual.state]:\n",
    "                        # Get the procedure for treatment\n",
    "                        proc = to_treatment[individual.state]\n",
    "                        individual.procedures = np.append(\n",
    "                            individual.procedures, proc)\n",
    "                        individual.costs += procedure_costs[proc] / ((1 + cost_discounting) ** (individual.age - (individual.age - 1)))\n",
    "                        # Convert to treated\n",
    "                        individual.state = to_treated[individual.state]\n",
    "                    else:\n",
    "                        # Copy paste sadness\n",
    "                        ht_rate = health_state_transition_rate[individual.state]\n",
    "                        # We just transpose the health states and probs\n",
    "                        # to compare with the random number generated\n",
    "                        states_conv = dict_to_cumulative(ht_rate)\n",
    "                        prev_k = 0\n",
    "                        sum_k = 0\n",
    "                        htr_prob = next(num_gen)\n",
    "                        for k, v in states_conv.items():\n",
    "                            sum_k += k\n",
    "                            if prev_k <= htr_prob < sum_k:\n",
    "                                individual.state = v\n",
    "                            prev_k += k\n",
    "                else:\n",
    "                    raise Exception(f'{i.state} - This should not happen')\n",
    "\n",
    "                individual.years_til_colonoscopy = 1\n",
    "\n",
    "            else:\n",
    "                individual.years_til_colonoscopy = 10\n",
    "\n",
    "    # Symptomatic Representation\n",
    "    elif symptom_rate is not None and symptom_rate <= next(num_gen) and not individual.is_treated:\n",
    "        if next(num_gen) <= treatment_survival_rate[individual.state]:\n",
    "            # Get the procedure for treatment\n",
    "            proc = to_treatment[individual.state]\n",
    "            individual.procedures = np.append(\n",
    "                individual.procedures, proc)\n",
    "            individual.costs += procedure_costs[proc] / ((1 + cost_discounting) ** (individual.age - (individual.age - 1)))\n",
    "            # Convert to treated\n",
    "            individual.state = to_treated[individual.state]\n",
    "        else:\n",
    "            # Copy paste sadness\n",
    "            ht_rate = health_state_transition_rate[individual.state]\n",
    "            # We just transpose the health states and probs\n",
    "            # to compare with the random number generated\n",
    "            states_conv = dict_to_cumulative(ht_rate)\n",
    "            prev_k = 0\n",
    "            sum_k = 0\n",
    "            htr_prob = next(num_gen)\n",
    "            for k, v in states_conv.items():\n",
    "                sum_k += k\n",
    "                if prev_k <= htr_prob < sum_k:\n",
    "                    individual.state = v\n",
    "                prev_k += k\n",
    "\n",
    "    # Natural Health Transition\n",
    "    elif next(num_gen) > asm_rate:\n",
    "        ht_rate = health_state_transition_rate[individual.state]\n",
    "        # We just transpose the health states and probs\n",
    "        # to compare with the random number generated\n",
    "        states_conv = dict_to_cumulative(ht_rate)\n",
    "        prev_k = 0\n",
    "        sum_k = 0\n",
    "        htr_prob = next(num_gen)\n",
    "        for k, v in states_conv.items():\n",
    "            sum_k += k\n",
    "            if prev_k <= htr_prob < sum_k:\n",
    "                individual.state = v\n",
    "            prev_k += k\n",
    "    # Death from other causes\n",
    "    else:\n",
    "        individual.state = HealthState.DEATH_OTHER_CAUSES\n",
    "\n",
    "    individual.qalys += utilities[individual.state] / ((1 + qaly_discounting) ** (individual.age - (individual.age - 1)))\n",
    "    if individual.years_til_colonoscopy > 0:\n",
    "        individual.years_til_colonoscopy -= 1"
   ]
  },
  {
   "cell_type": "code",
   "execution_count": 19,
   "metadata": {},
   "outputs": [],
   "source": [
    "def to_df(individuals):\n",
    "    df = pd.DataFrame()\n",
    "    df['life_years'] = np.array(\n",
    "        [len(i.previous_states) if not i.is_dead else len(i.previous_states) + 1 for i in individuals])\n",
    "    df['cost'] = np.array([i.costs for i in individuals])\n",
    "    df['qalys'] = np.array([i.qalys for i in individuals])\n",
    "    return df\n"
   ]
  },
  {
   "cell_type": "markdown",
   "metadata": {},
   "source": [
    "## Test Bed for No Screening"
   ]
  },
  {
   "cell_type": "code",
   "execution_count": 20,
   "metadata": {},
   "outputs": [],
   "source": [
    "individual_count = 10000\n",
    "rand_individual_state_gen = RandomCVGenerator()\n",
    "rand_individual_sex_gen = RandomCVGenerator(724)\n",
    "\n",
    "individuals = [Individual(next(rand_individual_state_gen), next(rand_individual_sex_gen), \n",
    "                          init_states_prob=health_prevalence_rate)\n",
    "               for _ in range(individual_count)]"
   ]
  },
  {
   "cell_type": "code",
   "execution_count": 21,
   "metadata": {},
   "outputs": [
    {
     "data": {
      "text/plain": [
       "(array([ 7016.,     0.,  1197.,     0.,   780.,     0.,   776.,     0.,\n",
       "          143.,    88.]),\n",
       " array([ 1. ,  1.5,  2. ,  2.5,  3. ,  3.5,  4. ,  4.5,  5. ,  5.5,  6. ]),\n",
       " <a list of 10 Patch objects>)"
      ]
     },
     "execution_count": 21,
     "metadata": {},
     "output_type": "execute_result"
    },
    {
     "data": {
      "image/png": "[encoded data removed]",
      "text/plain": [
       "<Figure size 432x288 with 1 Axes>"
      ]
     },
     "metadata": {},
     "output_type": "display_data"
    }
   ],
   "source": [
    "# Health State Distribution\n",
    "hist(np.array([i.state.value for i in individuals]))"
   ]
  },
  {
   "cell_type": "code",
   "execution_count": 22,
   "metadata": {},
   "outputs": [],
   "source": [
    "# Simulate!\n",
    "sim_gen = RandomCVGenerator()\n",
    "for k in range(20):\n",
    "    for i in individuals:\n",
    "        no_screening(i, sim_gen)\n",
    "        i.age += 1"
   ]
  },
  {
   "cell_type": "code",
   "execution_count": 23,
   "metadata": {
    "scrolled": false
   },
   "outputs": [
    {
     "data": {
      "text/plain": [
       "(array([  4.28600000e+03,   4.79000000e+02,   2.36000000e+03,\n",
       "          8.00000000e+01,   7.00000000e+00,   3.00000000e+00,\n",
       "          1.62800000e+03,   0.00000000e+00,   4.45000000e+02,\n",
       "          7.12000000e+02]),\n",
       " array([  1. ,   2.3,   3.6,   4.9,   6.2,   7.5,   8.8,  10.1,  11.4,\n",
       "         12.7,  14. ]),\n",
       " <a list of 10 Patch objects>)"
      ]
     },
     "execution_count": 23,
     "metadata": {},
     "output_type": "execute_result"
    },
    {
     "data": {
      "image/png": "[encoded data removed]",
      "text/plain": [
       "<Figure size 432x288 with 1 Axes>"
      ]
     },
     "metadata": {},
     "output_type": "display_data"
    }
   ],
   "source": [
    "# Health State Outcomes\n",
    "hist(np.array([i.state.value for i in individuals]))"
   ]
  },
  {
   "cell_type": "code",
   "execution_count": 24,
   "metadata": {},
   "outputs": [
    {
     "data": {
      "text/plain": [
       "(75,)"
      ]
     },
     "execution_count": 24,
     "metadata": {},
     "output_type": "execute_result"
    }
   ],
   "source": [
    "prev_states = np.array([i.previous_states[-1].value for i in individuals if i.state.value == 10])\n",
    "prev_states.shape\n"
   ]
  },
  {
   "cell_type": "code",
   "execution_count": 25,
   "metadata": {},
   "outputs": [
    {
     "data": {
      "text/plain": [
       "(array([  2.,   4.,  24.,   0.,   0.,   0.,   0.,   0.,  40.,   5.]),\n",
       " array([  6. ,   6.8,   7.6,   8.4,   9.2,  10. ,  10.8,  11.6,  12.4,\n",
       "         13.2,  14. ]),\n",
       " <a list of 10 Patch objects>)"
      ]
     },
     "execution_count": 25,
     "metadata": {},
     "output_type": "execute_result"
    },
    {
     "data": {
      "image/png": "[encoded data removed]",
      "text/plain": [
       "<Figure size 432x288 with 1 Axes>"
      ]
     },
     "metadata": {},
     "output_type": "display_data"
    }
   ],
   "source": [
    "hist(prev_states)"
   ]
  },
  {
   "cell_type": "code",
   "execution_count": 26,
   "metadata": {},
   "outputs": [
    {
     "name": "stdout",
     "output_type": "stream",
     "text": [
      "QALY: 171544.5699029126\n",
      "Costs: 300776699.00339806\n",
      "QALY Diff: 0.857722849514563\n"
     ]
    }
   ],
   "source": [
    "QALYs = sum(np.array([i.qalys for i in individuals]))\n",
    "costs = sum(np.array([i.costs for i in individuals]))\n",
    "print(f'QALY: {QALYs}')\n",
    "print(f'Costs: {costs}')\n",
    "print(f'QALY Diff: {QALYs / (individual_count * 20)}')"
   ]
  },
  {
   "cell_type": "code",
   "execution_count": 27,
   "metadata": {},
   "outputs": [
    {
     "data": {
      "text/plain": [
       "(array([ 122.,    0.,   45.,    0.,    0.,    0.,  445.,    0.,  692.,   20.]),\n",
       " array([  9. ,   9.5,  10. ,  10.5,  11. ,  11.5,  12. ,  12.5,  13. ,\n",
       "         13.5,  14. ]),\n",
       " <a list of 10 Patch objects>)"
      ]
     },
     "execution_count": 27,
     "metadata": {},
     "output_type": "execute_result"
    },
    {
     "data": {
      "image/png": "[encoded data removed]",
      "text/plain": [
       "<Figure size 432x288 with 1 Axes>"
      ]
     },
     "metadata": {},
     "output_type": "display_data"
    }
   ],
   "source": [
    "hist(\n",
    "    np.array([i.state.value for i in individuals if len(i.procedures) == 1]))\n"
   ]
  },
  {
   "cell_type": "markdown",
   "metadata": {},
   "source": [
    "## Test Bed for Colonoscopy Screening"
   ]
  },
  {
   "cell_type": "code",
   "execution_count": 28,
   "metadata": {},
   "outputs": [],
   "source": [
    "individual_count = 10000\n",
    "rand_individual_state_gen = RandomCVGenerator()\n",
    "rand_individual_sex_gen = RandomCVGenerator(724)\n",
    "\n",
    "individuals = [Individual(next(rand_individual_state_gen), next(rand_individual_sex_gen),\n",
    "                          init_states_prob=health_prevalence_rate) for _ in range(individual_count)]"
   ]
  },
  {
   "cell_type": "code",
   "execution_count": 29,
   "metadata": {},
   "outputs": [
    {
     "data": {
      "text/plain": [
       "(array([ 7016.,     0.,  1197.,     0.,   780.,     0.,   776.,     0.,\n",
       "          143.,    88.]),\n",
       " array([ 1. ,  1.5,  2. ,  2.5,  3. ,  3.5,  4. ,  4.5,  5. ,  5.5,  6. ]),\n",
       " <a list of 10 Patch objects>)"
      ]
     },
     "execution_count": 29,
     "metadata": {},
     "output_type": "execute_result"
    },
    {
     "data": {
      "image/png": "[encoded data removed]",
      "text/plain": [
       "<Figure size 432x288 with 1 Axes>"
      ]
     },
     "metadata": {},
     "output_type": "display_data"
    }
   ],
   "source": [
    "# Health State Distribution\n",
    "hist(np.array([i.state.value for i in individuals]))"
   ]
  },
  {
   "cell_type": "code",
   "execution_count": 30,
   "metadata": {},
   "outputs": [],
   "source": [
    "# Simulate!\n",
    "sim_gen = RandomCVGenerator()\n",
    "for k in range(20):\n",
    "    for i in individuals:\n",
    "        colonoscopy_screening(i, sim_gen, 1)\n",
    "        i.age += 1"
   ]
  },
  {
   "cell_type": "code",
   "execution_count": 31,
   "metadata": {
    "scrolled": false
   },
   "outputs": [
    {
     "data": {
      "text/plain": [
       "(array([  6.60800000e+03,   2.30000000e+02,   1.16300000e+03,\n",
       "          2.80000000e+01,   1.00000000e+00,   1.00000000e+00,\n",
       "          1.45500000e+03,   2.00000000e+00,   2.36000000e+02,\n",
       "          2.76000000e+02]),\n",
       " array([  1. ,   2.3,   3.6,   4.9,   6.2,   7.5,   8.8,  10.1,  11.4,\n",
       "         12.7,  14. ]),\n",
       " <a list of 10 Patch objects>)"
      ]
     },
     "execution_count": 31,
     "metadata": {},
     "output_type": "execute_result"
    },
    {
     "data": {
      "image/png": "[encoded data removed]",
      "text/plain": [
       "<Figure size 432x288 with 1 Axes>"
      ]
     },
     "metadata": {},
     "output_type": "display_data"
    }
   ],
   "source": [
    "# Health State Outcomes\n",
    "hist(np.array([i.state.value for i in individuals]))"
   ]
  },
  {
   "cell_type": "code",
   "execution_count": 32,
   "metadata": {},
   "outputs": [
    {
     "data": {
      "text/plain": [
       "(25,)"
      ]
     },
     "execution_count": 32,
     "metadata": {},
     "output_type": "execute_result"
    }
   ],
   "source": [
    "prev_states = np.array([i.previous_states[-1].value for i in individuals if i.state.value == 10])\n",
    "prev_states.shape\n"
   ]
  },
  {
   "cell_type": "code",
   "execution_count": 33,
   "metadata": {},
   "outputs": [
    {
     "data": {
      "text/plain": [
       "(array([  1.,   0.,   5.,   0.,   0.,   0.,   0.,  18.,   0.,   1.]),\n",
       " array([  6. ,   6.9,   7.8,   8.7,   9.6,  10.5,  11.4,  12.3,  13.2,\n",
       "         14.1,  15. ]),\n",
       " <a list of 10 Patch objects>)"
      ]
     },
     "execution_count": 33,
     "metadata": {},
     "output_type": "execute_result"
    },
    {
     "data": {
      "image/png": "[encoded data removed]",
      "text/plain": [
       "<Figure size 432x288 with 1 Axes>"
      ]
     },
     "metadata": {},
     "output_type": "display_data"
    }
   ],
   "source": [
    "hist(prev_states)"
   ]
  },
  {
   "cell_type": "code",
   "execution_count": 34,
   "metadata": {},
   "outputs": [
    {
     "name": "stdout",
     "output_type": "stream",
     "text": [
      "QALY: 176833.47427184467\n",
      "Costs: 276387519.30786407\n",
      "QALY Diff: 0.8841673713592233\n"
     ]
    }
   ],
   "source": [
    "QALYs = sum(np.array([i.qalys for i in individuals]))\n",
    "costs = sum(np.array([i.costs for i in individuals]))\n",
    "print(f'QALY: {QALYs}')\n",
    "print(f'Costs: {costs}')\n",
    "print(f'QALY Diff: {QALYs / (individual_count * 20)}')"
   ]
  },
  {
   "cell_type": "code",
   "execution_count": 35,
   "metadata": {},
   "outputs": [
    {
     "data": {
      "text/plain": [
       "(array([ 46.,   4.,   0.,   6.,   0.,   0.,   0.,   0.,   0.,   4.]),\n",
       " array([ 1. ,  1.8,  2.6,  3.4,  4.2,  5. ,  5.8,  6.6,  7.4,  8.2,  9. ]),\n",
       " <a list of 10 Patch objects>)"
      ]
     },
     "execution_count": 35,
     "metadata": {},
     "output_type": "execute_result"
    },
    {
     "data": {
      "image/png": "[encoded data removed]",
      "text/plain": [
       "<Figure size 432x288 with 1 Axes>"
      ]
     },
     "metadata": {},
     "output_type": "display_data"
    }
   ],
   "source": [
    "hist(\n",
    "    np.array([i.state.value for i in individuals if len(i.procedures) == 14]))\n"
   ]
  },
  {
   "cell_type": "markdown",
   "metadata": {},
   "source": [
    "## Test Bed for G-FOBT Screening"
   ]
  },
  {
   "cell_type": "code",
   "execution_count": 51,
   "metadata": {},
   "outputs": [],
   "source": [
    "individual_count = 10000\n",
    "rand_individual_state_gen = RandomCVGenerator()\n",
    "rand_individual_sex_gen = RandomCVGenerator(724)\n",
    "\n",
    "individuals = [Individual(next(rand_individual_state_gen), next(rand_individual_sex_gen),\n",
    "                          init_states_prob=health_prevalence_rate) for _ in range(individual_count)]"
   ]
  },
  {
   "cell_type": "code",
   "execution_count": 52,
   "metadata": {},
   "outputs": [
    {
     "data": {
      "text/plain": [
       "(array([ 7016.,     0.,  1197.,     0.,   780.,     0.,   776.,     0.,\n",
       "          143.,    88.]),\n",
       " array([ 1. ,  1.5,  2. ,  2.5,  3. ,  3.5,  4. ,  4.5,  5. ,  5.5,  6. ]),\n",
       " <a list of 10 Patch objects>)"
      ]
     },
     "execution_count": 52,
     "metadata": {},
     "output_type": "execute_result"
    },
    {
     "data": {
      "image/png": "[encoded data removed]",
      "text/plain": [
       "<Figure size 432x288 with 1 Axes>"
      ]
     },
     "metadata": {},
     "output_type": "display_data"
    }
   ],
   "source": [
    "# Health State Distribution\n",
    "hist(np.array([i.state.value for i in individuals]))"
   ]
  },
  {
   "cell_type": "code",
   "execution_count": 53,
   "metadata": {},
   "outputs": [],
   "source": [
    "# Simulate!\n",
    "sim_gen = RandomCVGenerator()\n",
    "for k in range(20):\n",
    "    for i in individuals:\n",
    "        FOBT_screening(i, sim_gen, 1, 1, Procedure.FIT_FS)\n",
    "        i.age += 1"
   ]
  },
  {
   "cell_type": "code",
   "execution_count": 54,
   "metadata": {
    "scrolled": false
   },
   "outputs": [
    {
     "data": {
      "text/plain": [
       "(array([  6.64100000e+03,   1.90000000e+02,   1.23000000e+03,\n",
       "          1.30000000e+01,   1.00000000e+00,   1.35500000e+03,\n",
       "          2.50000000e+01,   2.76000000e+02,   2.62000000e+02,\n",
       "          7.00000000e+00]),\n",
       " array([  1. ,   2.4,   3.8,   5.2,   6.6,   8. ,   9.4,  10.8,  12.2,\n",
       "         13.6,  15. ]),\n",
       " <a list of 10 Patch objects>)"
      ]
     },
     "execution_count": 54,
     "metadata": {},
     "output_type": "execute_result"
    },
    {
     "data": {
      "image/png": "[encoded data removed]",
      "text/plain": [
       "<Figure size 432x288 with 1 Axes>"
      ]
     },
     "metadata": {},
     "output_type": "display_data"
    }
   ],
   "source": [
    "# Health State Outcomes\n",
    "hist(np.array([i.state.value for i in individuals]))"
   ]
  },
  {
   "cell_type": "code",
   "execution_count": 55,
   "metadata": {},
   "outputs": [
    {
     "data": {
      "text/plain": [
       "(4,)"
      ]
     },
     "execution_count": 55,
     "metadata": {},
     "output_type": "execute_result"
    }
   ],
   "source": [
    "prev_states = np.array([i.previous_states[-1].value for i in individuals if i.state.value == 11])\n",
    "prev_states.shape\n"
   ]
  },
  {
   "cell_type": "code",
   "execution_count": 56,
   "metadata": {},
   "outputs": [
    {
     "data": {
      "text/plain": [
       "(array([ 2.,  0.,  0.,  1.,  0.,  0.,  0.,  0.,  0.,  1.]),\n",
       " array([ 1. ,  1.3,  1.6,  1.9,  2.2,  2.5,  2.8,  3.1,  3.4,  3.7,  4. ]),\n",
       " <a list of 10 Patch objects>)"
      ]
     },
     "execution_count": 56,
     "metadata": {},
     "output_type": "execute_result"
    },
    {
     "data": {
      "image/png": "[encoded data removed]",
      "text/plain": [
       "<Figure size 432x288 with 1 Axes>"
      ]
     },
     "metadata": {},
     "output_type": "display_data"
    }
   ],
   "source": [
    "hist(prev_states)"
   ]
  },
  {
   "cell_type": "code",
   "execution_count": 57,
   "metadata": {},
   "outputs": [
    {
     "name": "stdout",
     "output_type": "stream",
     "text": [
      "QALY: 177375.34126213592\n",
      "Costs: 281531581.6215534\n",
      "QALY Diff: 0.8868767063106796\n"
     ]
    }
   ],
   "source": [
    "QALYs = sum(np.array([i.qalys for i in individuals]))\n",
    "costs = sum(np.array([i.costs for i in individuals]))\n",
    "print(f'QALY: {QALYs}')\n",
    "print(f'Costs: {costs}')\n",
    "print(f'QALY Diff: {QALYs / (individual_count * 20)}')"
   ]
  },
  {
   "cell_type": "code",
   "execution_count": 43,
   "metadata": {},
   "outputs": [
    {
     "data": {
      "text/plain": [
       "(array([ 40.,   3.,   1.,   0.,   0.,   0.,   2.,   0.,   0.,   1.]),\n",
       " array([  1. ,   2.2,   3.4,   4.6,   5.8,   7. ,   8.2,   9.4,  10.6,\n",
       "         11.8,  13. ]),\n",
       " <a list of 10 Patch objects>)"
      ]
     },
     "execution_count": 43,
     "metadata": {},
     "output_type": "execute_result"
    },
    {
     "data": {
      "image/png": "[encoded data removed]",
      "text/plain": [
       "<Figure size 432x288 with 1 Axes>"
      ]
     },
     "metadata": {},
     "output_type": "display_data"
    }
   ],
   "source": [
    "hist(\n",
    "    np.array([i.state.value for i in individuals if len(i.procedures) == 14]))\n"
   ]
  },
  {
   "cell_type": "code",
   "execution_count": null,
   "metadata": {},
   "outputs": [],
   "source": []
  }
 ],
 "metadata": {
  "kernelspec": {
   "display_name": "Python 3",
   "language": "python",
   "name": "python3"
  },
  "language_info": {
   "codemirror_mode": {
    "name": "ipython",
    "version": 3
   },
   "file_extension": ".py",
   "mimetype": "text/x-python",
   "name": "python",
   "nbconvert_exporter": "python",
   "pygments_lexer": "ipython3",
   "version": "3.6.4"
  }
 },
 "nbformat": 4,
 "nbformat_minor": 2
}
